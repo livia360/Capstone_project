{
 "cells": [
  {
   "cell_type": "markdown",
   "id": "b1341d00",
   "metadata": {
    "toc": true
   },
   "source": [
    "<h1>Table of Contents<span class=\"tocSkip\"></span></h1>\n",
    "<div class=\"toc\"><ul class=\"toc-item\"><li><span><a href=\"#Pre-processing-and-Training-Data\" data-toc-modified-id=\"Pre-processing-and-Training-Data-1\"><span class=\"toc-item-num\">1&nbsp;&nbsp;</span>Pre-processing and Training Data</a></span></li><li><span><a href=\"#Import-libraries-and-load-the-data\" data-toc-modified-id=\"Import-libraries-and-load-the-data-2\"><span class=\"toc-item-num\">2&nbsp;&nbsp;</span>Import libraries and load the data</a></span></li><li><span><a href=\"#Logistic-Regression-Model\" data-toc-modified-id=\"Logistic-Regression-Model-3\"><span class=\"toc-item-num\">3&nbsp;&nbsp;</span>Logistic Regression Model</a></span><ul class=\"toc-item\"><li><ul class=\"toc-item\"><li><span><a href=\"#Train-and-Test-Data-Splits\" data-toc-modified-id=\"Train-and-Test-Data-Splits-3.0.1\"><span class=\"toc-item-num\">3.0.1&nbsp;&nbsp;</span>Train and Test Data Splits</a></span></li><li><span><a href=\"#Hyperparameter-search-using-GridSearchCV\" data-toc-modified-id=\"Hyperparameter-search-using-GridSearchCV-3.0.2\"><span class=\"toc-item-num\">3.0.2&nbsp;&nbsp;</span>Hyperparameter search using GridSearchCV</a></span></li><li><span><a href=\"#Assess-model-performance\" data-toc-modified-id=\"Assess-model-performance-3.0.3\"><span class=\"toc-item-num\">3.0.3&nbsp;&nbsp;</span>Assess model performance</a></span></li></ul></li></ul></li><li><span><a href=\"#Random-Forests-Model\" data-toc-modified-id=\"Random-Forests-Model-4\"><span class=\"toc-item-num\">4&nbsp;&nbsp;</span>Random Forests Model</a></span><ul class=\"toc-item\"><li><ul class=\"toc-item\"><li><span><a href=\"#Hyperparameter-search-using-GridSearchCV\" data-toc-modified-id=\"Hyperparameter-search-using-GridSearchCV-4.0.1\"><span class=\"toc-item-num\">4.0.1&nbsp;&nbsp;</span>Hyperparameter search using GridSearchCV</a></span></li><li><span><a href=\"#Assess-model-performance\" data-toc-modified-id=\"Assess-model-performance-4.0.2\"><span class=\"toc-item-num\">4.0.2&nbsp;&nbsp;</span>Assess model performance</a></span></li></ul></li></ul></li><li><span><a href=\"#K-Nearest-Neighbor-(KNN)-Model\" data-toc-modified-id=\"K-Nearest-Neighbor-(KNN)-Model-5\"><span class=\"toc-item-num\">5&nbsp;&nbsp;</span>K Nearest Neighbor (KNN) Model</a></span><ul class=\"toc-item\"><li><ul class=\"toc-item\"><li><span><a href=\"#Hyperparameter-search-using-GridSearchCV\" data-toc-modified-id=\"Hyperparameter-search-using-GridSearchCV-5.0.1\"><span class=\"toc-item-num\">5.0.1&nbsp;&nbsp;</span>Hyperparameter search using GridSearchCV</a></span></li><li><span><a href=\"#Assess-model-performance\" data-toc-modified-id=\"Assess-model-performance-5.0.2\"><span class=\"toc-item-num\">5.0.2&nbsp;&nbsp;</span>Assess model performance</a></span></li></ul></li></ul></li><li><span><a href=\"#Gradient-Boosting-Model\" data-toc-modified-id=\"Gradient-Boosting-Model-6\"><span class=\"toc-item-num\">6&nbsp;&nbsp;</span>Gradient Boosting Model</a></span></li><li><span><a href=\"#Model-Selection\" data-toc-modified-id=\"Model-Selection-7\"><span class=\"toc-item-num\">7&nbsp;&nbsp;</span>Model Selection</a></span></li></ul></div>"
   ]
  },
  {
   "cell_type": "code",
   "execution_count": 1,
   "id": "a90c9c21",
   "metadata": {},
   "outputs": [],
   "source": [
    "# https://www.kaggle.com/wltjd54/continuous-vs-categorical-for-classification"
   ]
  },
  {
   "cell_type": "markdown",
   "id": "7b78dfe3",
   "metadata": {},
   "source": [
    "## Pre-processing and Training Data"
   ]
  },
  {
   "cell_type": "markdown",
   "id": "f10ed11b",
   "metadata": {},
   "source": [
    "## Import libraries and load the data"
   ]
  },
  {
   "cell_type": "code",
   "execution_count": 2,
   "id": "6a125d4c",
   "metadata": {},
   "outputs": [],
   "source": [
    "import pandas as pd\n",
    "import numpy as np\n",
    "import os\n",
    "import pickle\n",
    "import matplotlib.pyplot as plt\n",
    "import seaborn as sns\n",
    "from sklearn import __version__ as sklearn_version\n",
    "from sklearn.decomposition import PCA\n",
    "from sklearn.preprocessing import scale, StandardScaler\n",
    "from sklearn.model_selection import train_test_split, cross_validate, GridSearchCV, learning_curve, cross_val_score\n",
    "from sklearn.preprocessing import OneHotEncoder, StandardScaler, MinMaxScaler, LabelEncoder\n",
    "\n",
    "from sklearn.linear_model import LogisticRegression\n",
    "from sklearn.ensemble import RandomForestRegressor, GradientBoostingClassifier\n",
    "from sklearn.neighbors import KNeighborsClassifier\n",
    "from sklearn.metrics import accuracy_score, roc_auc_score, confusion_matrix, classification_report\n",
    "from sklearn.pipeline import make_pipeline\n",
    "from sklearn.feature_selection import SelectKBest, f_regression\n",
    "import datetime\n",
    "\n",
    "from library.sb_utils import save_file\n",
    "%matplotlib inline\n",
    "sns.set_style('whitegrid') \n",
    "# plt.style.use('ggplot')"
   ]
  },
  {
   "cell_type": "code",
   "execution_count": 3,
   "id": "1be41f01",
   "metadata": {},
   "outputs": [
    {
     "data": {
      "text/html": [
       "<div>\n",
       "<style scoped>\n",
       "    .dataframe tbody tr th:only-of-type {\n",
       "        vertical-align: middle;\n",
       "    }\n",
       "\n",
       "    .dataframe tbody tr th {\n",
       "        vertical-align: top;\n",
       "    }\n",
       "\n",
       "    .dataframe thead th {\n",
       "        text-align: right;\n",
       "    }\n",
       "</style>\n",
       "<table border=\"1\" class=\"dataframe\">\n",
       "  <thead>\n",
       "    <tr style=\"text-align: right;\">\n",
       "      <th></th>\n",
       "      <th>ID</th>\n",
       "      <th>Income</th>\n",
       "      <th>Age</th>\n",
       "      <th>Children</th>\n",
       "      <th>Days_Enrolled</th>\n",
       "      <th>TotalExpenses</th>\n",
       "      <th>TotalAcceptedCmp5</th>\n",
       "      <th>TotalNumPurchases</th>\n",
       "      <th>Education</th>\n",
       "      <th>Marital_Status</th>\n",
       "      <th>AcceptedCmp6</th>\n",
       "    </tr>\n",
       "  </thead>\n",
       "  <tbody>\n",
       "    <tr>\n",
       "      <th>0</th>\n",
       "      <td>5524</td>\n",
       "      <td>58138.0</td>\n",
       "      <td>58</td>\n",
       "      <td>0</td>\n",
       "      <td>997</td>\n",
       "      <td>1617</td>\n",
       "      <td>0</td>\n",
       "      <td>25</td>\n",
       "      <td>Undergrad</td>\n",
       "      <td>single</td>\n",
       "      <td>1</td>\n",
       "    </tr>\n",
       "    <tr>\n",
       "      <th>1</th>\n",
       "      <td>2174</td>\n",
       "      <td>46344.0</td>\n",
       "      <td>61</td>\n",
       "      <td>2</td>\n",
       "      <td>151</td>\n",
       "      <td>27</td>\n",
       "      <td>0</td>\n",
       "      <td>6</td>\n",
       "      <td>Undergrad</td>\n",
       "      <td>single</td>\n",
       "      <td>0</td>\n",
       "    </tr>\n",
       "    <tr>\n",
       "      <th>2</th>\n",
       "      <td>4141</td>\n",
       "      <td>71613.0</td>\n",
       "      <td>50</td>\n",
       "      <td>0</td>\n",
       "      <td>498</td>\n",
       "      <td>776</td>\n",
       "      <td>0</td>\n",
       "      <td>21</td>\n",
       "      <td>Undergrad</td>\n",
       "      <td>couple</td>\n",
       "      <td>0</td>\n",
       "    </tr>\n",
       "    <tr>\n",
       "      <th>3</th>\n",
       "      <td>6182</td>\n",
       "      <td>26646.0</td>\n",
       "      <td>31</td>\n",
       "      <td>1</td>\n",
       "      <td>91</td>\n",
       "      <td>53</td>\n",
       "      <td>0</td>\n",
       "      <td>8</td>\n",
       "      <td>Undergrad</td>\n",
       "      <td>couple</td>\n",
       "      <td>0</td>\n",
       "    </tr>\n",
       "    <tr>\n",
       "      <th>4</th>\n",
       "      <td>5324</td>\n",
       "      <td>58293.0</td>\n",
       "      <td>34</td>\n",
       "      <td>1</td>\n",
       "      <td>347</td>\n",
       "      <td>422</td>\n",
       "      <td>0</td>\n",
       "      <td>19</td>\n",
       "      <td>Postgrad</td>\n",
       "      <td>couple</td>\n",
       "      <td>0</td>\n",
       "    </tr>\n",
       "  </tbody>\n",
       "</table>\n",
       "</div>"
      ],
      "text/plain": [
       "     ID   Income  Age  Children  Days_Enrolled  TotalExpenses  \\\n",
       "0  5524  58138.0   58         0            997           1617   \n",
       "1  2174  46344.0   61         2            151             27   \n",
       "2  4141  71613.0   50         0            498            776   \n",
       "3  6182  26646.0   31         1             91             53   \n",
       "4  5324  58293.0   34         1            347            422   \n",
       "\n",
       "   TotalAcceptedCmp5  TotalNumPurchases  Education Marital_Status  \\\n",
       "0                  0                 25  Undergrad         single   \n",
       "1                  0                  6  Undergrad         single   \n",
       "2                  0                 21  Undergrad         couple   \n",
       "3                  0                  8  Undergrad         couple   \n",
       "4                  0                 19   Postgrad         couple   \n",
       "\n",
       "   AcceptedCmp6  \n",
       "0             1  \n",
       "1             0  \n",
       "2             0  \n",
       "3             0  \n",
       "4             0  "
      ]
     },
     "execution_count": 3,
     "metadata": {},
     "output_type": "execute_result"
    }
   ],
   "source": [
    "df = pd.read_csv('./Data/02_EDA.csv')\n",
    "df.head()"
   ]
  },
  {
   "cell_type": "code",
   "execution_count": 4,
   "id": "78989453",
   "metadata": {},
   "outputs": [
    {
     "name": "stdout",
     "output_type": "stream",
     "text": [
      "(2152, 11)\n",
      "<class 'pandas.core.frame.DataFrame'>\n",
      "RangeIndex: 2152 entries, 0 to 2151\n",
      "Data columns (total 11 columns):\n",
      " #   Column             Non-Null Count  Dtype  \n",
      "---  ------             --------------  -----  \n",
      " 0   ID                 2152 non-null   int64  \n",
      " 1   Income             2152 non-null   float64\n",
      " 2   Age                2152 non-null   int64  \n",
      " 3   Children           2152 non-null   int64  \n",
      " 4   Days_Enrolled      2152 non-null   int64  \n",
      " 5   TotalExpenses      2152 non-null   int64  \n",
      " 6   TotalAcceptedCmp5  2152 non-null   int64  \n",
      " 7   TotalNumPurchases  2152 non-null   int64  \n",
      " 8   Education          2152 non-null   object \n",
      " 9   Marital_Status     2152 non-null   object \n",
      " 10  AcceptedCmp6       2152 non-null   int64  \n",
      "dtypes: float64(1), int64(8), object(2)\n",
      "memory usage: 185.1+ KB\n"
     ]
    }
   ],
   "source": [
    "print(df.shape)\n",
    "df.info()"
   ]
  },
  {
   "cell_type": "code",
   "execution_count": 5,
   "id": "7e803e2d",
   "metadata": {},
   "outputs": [
    {
     "data": {
      "text/html": [
       "<div>\n",
       "<style scoped>\n",
       "    .dataframe tbody tr th:only-of-type {\n",
       "        vertical-align: middle;\n",
       "    }\n",
       "\n",
       "    .dataframe tbody tr th {\n",
       "        vertical-align: top;\n",
       "    }\n",
       "\n",
       "    .dataframe thead th {\n",
       "        text-align: right;\n",
       "    }\n",
       "</style>\n",
       "<table border=\"1\" class=\"dataframe\">\n",
       "  <thead>\n",
       "    <tr style=\"text-align: right;\">\n",
       "      <th></th>\n",
       "      <th>ID</th>\n",
       "      <th>Income</th>\n",
       "      <th>Age</th>\n",
       "      <th>Children</th>\n",
       "      <th>Days_Enrolled</th>\n",
       "      <th>TotalExpenses</th>\n",
       "      <th>TotalAcceptedCmp5</th>\n",
       "      <th>TotalNumPurchases</th>\n",
       "      <th>Education</th>\n",
       "      <th>Marital_Status</th>\n",
       "      <th>AcceptedCmp6</th>\n",
       "    </tr>\n",
       "  </thead>\n",
       "  <tbody>\n",
       "    <tr>\n",
       "      <th>0</th>\n",
       "      <td>5524</td>\n",
       "      <td>58138.0</td>\n",
       "      <td>58</td>\n",
       "      <td>0</td>\n",
       "      <td>997</td>\n",
       "      <td>1617</td>\n",
       "      <td>0</td>\n",
       "      <td>25</td>\n",
       "      <td>1</td>\n",
       "      <td>1</td>\n",
       "      <td>1</td>\n",
       "    </tr>\n",
       "    <tr>\n",
       "      <th>1</th>\n",
       "      <td>2174</td>\n",
       "      <td>46344.0</td>\n",
       "      <td>61</td>\n",
       "      <td>2</td>\n",
       "      <td>151</td>\n",
       "      <td>27</td>\n",
       "      <td>0</td>\n",
       "      <td>6</td>\n",
       "      <td>1</td>\n",
       "      <td>1</td>\n",
       "      <td>0</td>\n",
       "    </tr>\n",
       "    <tr>\n",
       "      <th>2</th>\n",
       "      <td>4141</td>\n",
       "      <td>71613.0</td>\n",
       "      <td>50</td>\n",
       "      <td>0</td>\n",
       "      <td>498</td>\n",
       "      <td>776</td>\n",
       "      <td>0</td>\n",
       "      <td>21</td>\n",
       "      <td>1</td>\n",
       "      <td>0</td>\n",
       "      <td>0</td>\n",
       "    </tr>\n",
       "    <tr>\n",
       "      <th>3</th>\n",
       "      <td>6182</td>\n",
       "      <td>26646.0</td>\n",
       "      <td>31</td>\n",
       "      <td>1</td>\n",
       "      <td>91</td>\n",
       "      <td>53</td>\n",
       "      <td>0</td>\n",
       "      <td>8</td>\n",
       "      <td>1</td>\n",
       "      <td>0</td>\n",
       "      <td>0</td>\n",
       "    </tr>\n",
       "    <tr>\n",
       "      <th>4</th>\n",
       "      <td>5324</td>\n",
       "      <td>58293.0</td>\n",
       "      <td>34</td>\n",
       "      <td>1</td>\n",
       "      <td>347</td>\n",
       "      <td>422</td>\n",
       "      <td>0</td>\n",
       "      <td>19</td>\n",
       "      <td>0</td>\n",
       "      <td>0</td>\n",
       "      <td>0</td>\n",
       "    </tr>\n",
       "  </tbody>\n",
       "</table>\n",
       "</div>"
      ],
      "text/plain": [
       "     ID   Income  Age  Children  Days_Enrolled  TotalExpenses  \\\n",
       "0  5524  58138.0   58         0            997           1617   \n",
       "1  2174  46344.0   61         2            151             27   \n",
       "2  4141  71613.0   50         0            498            776   \n",
       "3  6182  26646.0   31         1             91             53   \n",
       "4  5324  58293.0   34         1            347            422   \n",
       "\n",
       "   TotalAcceptedCmp5  TotalNumPurchases  Education  Marital_Status  \\\n",
       "0                  0                 25          1               1   \n",
       "1                  0                  6          1               1   \n",
       "2                  0                 21          1               0   \n",
       "3                  0                  8          1               0   \n",
       "4                  0                 19          0               0   \n",
       "\n",
       "   AcceptedCmp6  \n",
       "0             1  \n",
       "1             0  \n",
       "2             0  \n",
       "3             0  \n",
       "4             0  "
      ]
     },
     "execution_count": 5,
     "metadata": {},
     "output_type": "execute_result"
    }
   ],
   "source": [
    "# labeling the categorical features\n",
    "cat_features = ['Education', 'Marital_Status']\n",
    "for cat in cat_features:\n",
    "    label = LabelEncoder()\n",
    "    df[cat] = label.fit_transform(df[cat])\n",
    "\n",
    "df.head()"
   ]
  },
  {
   "cell_type": "markdown",
   "id": "38b063f6",
   "metadata": {},
   "source": [
    "## Logistic Regression Model"
   ]
  },
  {
   "cell_type": "markdown",
   "id": "ac866c76",
   "metadata": {},
   "source": [
    "#### Train and Test Data Splits"
   ]
  },
  {
   "cell_type": "code",
   "execution_count": 6,
   "id": "3b1f3d88",
   "metadata": {},
   "outputs": [],
   "source": [
    "X = df.drop(['ID', 'AcceptedCmp6'], axis=1)\n",
    "y = df['AcceptedCmp6']"
   ]
  },
  {
   "cell_type": "code",
   "execution_count": 7,
   "id": "bd8a71c3",
   "metadata": {},
   "outputs": [
    {
     "name": "stdout",
     "output_type": "stream",
     "text": [
      "(1506, 9) (646, 9)\n"
     ]
    }
   ],
   "source": [
    "X_train, X_test, y_train, y_test = train_test_split(X, y, test_size=0.3, random_state=42)\n",
    "\n",
    "print(X_train.shape, X_test.shape)\n",
    "train_columns = X_train.columns"
   ]
  },
  {
   "cell_type": "code",
   "execution_count": 8,
   "id": "f61983a0",
   "metadata": {},
   "outputs": [
    {
     "data": {
      "text/plain": [
       "LogisticRegression()"
      ]
     },
     "execution_count": 8,
     "metadata": {},
     "output_type": "execute_result"
    }
   ],
   "source": [
    "#scaling\n",
    "scaler = StandardScaler()\n",
    "X_train = scaler.fit_transform(X_train)\n",
    "X_test = scaler.transform(X_test)\n",
    "#\n",
    "lgr = LogisticRegression()\n",
    "# Fit the model on the trainng data.\n",
    "lgr.fit(X_train, y_train)"
   ]
  },
  {
   "cell_type": "code",
   "execution_count": 9,
   "id": "c47c0729",
   "metadata": {},
   "outputs": [
    {
     "name": "stdout",
     "output_type": "stream",
     "text": [
      "0.8761609907120743\n",
      "[[534  13]\n",
      " [ 67  32]]\n",
      "              precision    recall  f1-score   support\n",
      "\n",
      "           0       0.89      0.98      0.93       547\n",
      "           1       0.71      0.32      0.44        99\n",
      "\n",
      "    accuracy                           0.88       646\n",
      "   macro avg       0.80      0.65      0.69       646\n",
      "weighted avg       0.86      0.88      0.86       646\n",
      "\n"
     ]
    }
   ],
   "source": [
    "# Print the accuracy from the testing data.\n",
    "y_pred = lgr.predict(X_test)\n",
    "print(accuracy_score(y_pred, y_test))\n",
    "print(confusion_matrix(y_test, y_pred))\n",
    "print(classification_report(y_test, y_pred))"
   ]
  },
  {
   "cell_type": "markdown",
   "id": "f60a5c58",
   "metadata": {},
   "source": [
    "#### Hyperparameter search using GridSearchCV"
   ]
  },
  {
   "cell_type": "code",
   "execution_count": 10,
   "id": "73c7ccad",
   "metadata": {},
   "outputs": [
    {
     "data": {
      "text/plain": [
       "GridSearchCV(cv=5, estimator=LogisticRegression(),\n",
       "             param_grid={'C': [0.001, 0.1, 1, 10, 100]})"
      ]
     },
     "execution_count": 10,
     "metadata": {},
     "output_type": "execute_result"
    }
   ],
   "source": [
    "#the grid of parameters to search over to find the best regularization parameter  𝐶  based *only* on the training set;\n",
    "# C controls the inverse of the regularization strength. A large C can lead to an overfit model, while a small  can lead to an underfit model.\n",
    "Cs = [0.001, 0.1, 1, 10, 100]\n",
    "# Cs = np.logspace(-5, 8, 15)\n",
    "from sklearn.model_selection import GridSearchCV\n",
    "param_grid = {'C': Cs}\n",
    "\n",
    "# Instantiate a logistic regression classifier: logreg\n",
    "logreg = LogisticRegression()\n",
    "\n",
    "# Instantiate the GridSearchCV object: logreg_cv\n",
    "logreg_cv = GridSearchCV(logreg, param_grid, cv=5)\n",
    "\n",
    "# Fit it to the training data\n",
    "logreg_cv.fit(X_train,y_train)"
   ]
  },
  {
   "cell_type": "code",
   "execution_count": 11,
   "id": "e01cd1f7",
   "metadata": {},
   "outputs": [
    {
     "name": "stdout",
     "output_type": "stream",
     "text": [
      "Tuned Logistic Regression Parameters: {'C': 1}\n",
      "Best score is 0.8778266704802975\n",
      "Best estimator is LogisticRegression(C=1)\n",
      "Best paramter is {'C': 1}\n"
     ]
    }
   ],
   "source": [
    "# Print the tuned parameters and score\n",
    "print(\"Tuned Logistic Regression Parameters: {}\".format(logreg_cv.best_params_)) \n",
    "print(\"Best score is {}\".format(logreg_cv.best_score_))   # training accuracy\n",
    "print(\"Best estimator is {}\".format(logreg_cv.best_estimator_))\n",
    "print(\"Best paramter is {}\".format(logreg_cv.best_params_))"
   ]
  },
  {
   "cell_type": "code",
   "execution_count": 12,
   "id": "9186889a",
   "metadata": {},
   "outputs": [
    {
     "name": "stdout",
     "output_type": "stream",
     "text": [
      "Tuned Logistic Regression R squared: 0.8761609907120743\n"
     ]
    }
   ],
   "source": [
    "# Predict on the test set and compute metrics\n",
    "y_pred = logreg_cv.predict(X_test)\n",
    "r2 = logreg_cv.score(X_test, y_test)  # test_accuracy\n",
    "print(\"Tuned Logistic Regression R squared: {}\".format(r2))"
   ]
  },
  {
   "cell_type": "markdown",
   "id": "6554aa94",
   "metadata": {},
   "source": [
    "#### Assess model performance"
   ]
  },
  {
   "cell_type": "code",
   "execution_count": 13,
   "id": "670c016c",
   "metadata": {},
   "outputs": [
    {
     "name": "stdout",
     "output_type": "stream",
     "text": [
      "[[534  13]\n",
      " [ 67  32]]\n",
      "              precision    recall  f1-score   support\n",
      "\n",
      "           0       0.89      0.98      0.93       547\n",
      "           1       0.71      0.32      0.44        99\n",
      "\n",
      "    accuracy                           0.88       646\n",
      "   macro avg       0.80      0.65      0.69       646\n",
      "weighted avg       0.86      0.88      0.86       646\n",
      "\n"
     ]
    },
    {
     "data": {
      "image/png": "[encoded data removed]",
      "text/plain": [
       "<Figure size 432x288 with 2 Axes>"
      ]
     },
     "metadata": {},
     "output_type": "display_data"
    }
   ],
   "source": [
    "print(confusion_matrix(y_test, y_pred))\n",
    "print(classification_report(y_test, y_pred))\n",
    "\n",
    "cf=confusion_matrix(y_test, y_pred)\n",
    "from sklearn.metrics import ConfusionMatrixDisplay\n",
    "ConfusionMatrixDisplay(cf).plot(cmap='Blues')\n",
    "plt.grid(False)\n",
    "plt.show();"
   ]
  },
  {
   "cell_type": "code",
   "execution_count": 14,
   "id": "724882c4",
   "metadata": {
    "scrolled": true
   },
   "outputs": [
    {
     "name": "stdout",
     "output_type": "stream",
     "text": [
      "ROC_AUC: 0.8527690063339058\n"
     ]
    },
    {
     "data": {
      "image/png": "[encoded data removed]",
      "text/plain": [
       "<Figure size 432x288 with 1 Axes>"
      ]
     },
     "metadata": {},
     "output_type": "display_data"
    }
   ],
   "source": [
    "from sklearn.metrics import roc_curve\n",
    "\n",
    "# Compute predicted probabilities: y_pred_prob\n",
    "y_pred_prob = logreg_cv.predict_proba(X_test)[:,1]\n",
    "\n",
    "# Compute and print AUC score\n",
    "print(\"ROC_AUC: {}\".format(roc_auc_score(y_test, y_pred_prob)))\n",
    "\n",
    "# Generate ROC curve values: fpr, tpr, thresholds\n",
    "fpr, tpr, thresholds = roc_curve(y_test, y_pred_prob)\n",
    "\n",
    "# Plot ROC curve\n",
    "plt.plot([0, 1], [0, 1], 'k--', 'red')\n",
    "plt.plot(fpr, tpr)\n",
    "plt.xlabel('False Positive Rate')\n",
    "plt.ylabel('True Positive Rate')\n",
    "plt.title('ROC Curve')\n",
    "plt.show();"
   ]
  },
  {
   "cell_type": "markdown",
   "id": "0384ff70",
   "metadata": {},
   "source": [
    "##  Random Forests Model"
   ]
  },
  {
   "cell_type": "code",
   "execution_count": 15,
   "id": "456178a0",
   "metadata": {},
   "outputs": [],
   "source": [
    "from sklearn.ensemble import RandomForestClassifier\n",
    "from sklearn.impute import SimpleImputer\n",
    "\n",
    "RF_pipe = make_pipeline(\n",
    "    SimpleImputer(strategy='median'),\n",
    "    StandardScaler(),\n",
    "    RandomForestClassifier(random_state=42)\n",
    ")"
   ]
  },
  {
   "cell_type": "code",
   "execution_count": 16,
   "id": "f6754729",
   "metadata": {},
   "outputs": [],
   "source": [
    "# RF_pipe.get_params().keys():to get a dict of available parameters"
   ]
  },
  {
   "cell_type": "code",
   "execution_count": 17,
   "id": "17e6dfbf",
   "metadata": {},
   "outputs": [
    {
     "data": {
      "text/plain": [
       "{'fit_time': array([0.20527983, 0.17989421, 0.16877294, 0.18212819, 0.17534256]),\n",
       " 'score_time': array([0.0106101 , 0.01000905, 0.01099539, 0.01100755, 0.01269436]),\n",
       " 'test_score': array([0.85761589, 0.89368771, 0.87375415, 0.87043189, 0.86710963])}"
      ]
     },
     "execution_count": 17,
     "metadata": {},
     "output_type": "execute_result"
    }
   ],
   "source": [
    "rf_default_cv_results = cross_validate(RF_pipe, X_train, y_train, cv=5)\n",
    "rf_default_cv_results"
   ]
  },
  {
   "cell_type": "code",
   "execution_count": 18,
   "id": "e175b376",
   "metadata": {},
   "outputs": [
    {
     "data": {
      "text/plain": [
       "(0.8725198565488108, 0.011877370050694383)"
      ]
     },
     "execution_count": 18,
     "metadata": {},
     "output_type": "execute_result"
    }
   ],
   "source": [
    "np.mean(rf_default_cv_results['test_score']), np.std(rf_default_cv_results['test_score'])"
   ]
  },
  {
   "cell_type": "markdown",
   "id": "bf1e1013",
   "metadata": {},
   "source": [
    "#### Hyperparameter search using GridSearchCV"
   ]
  },
  {
   "cell_type": "code",
   "execution_count": 19,
   "id": "59e3d15e",
   "metadata": {},
   "outputs": [
    {
     "data": {
      "text/plain": [
       "{'standardscaler': [StandardScaler(), None],\n",
       " 'randomforestclassifier__n_estimators': [25, 50, 75, 100]}"
      ]
     },
     "execution_count": 19,
     "metadata": {},
     "output_type": "execute_result"
    }
   ],
   "source": [
    "# with and without scaler and a number of estimators\n",
    "n_est =  [25, 50, 75, 100]\n",
    "grid_params = {\n",
    "    'standardscaler': [StandardScaler(), None],\n",
    "    'randomforestclassifier__n_estimators': n_est    \n",
    "        }\n",
    "grid_params"
   ]
  },
  {
   "cell_type": "code",
   "execution_count": 20,
   "id": "371174f6",
   "metadata": {},
   "outputs": [
    {
     "data": {
      "text/plain": [
       "GridSearchCV(cv=5,\n",
       "             estimator=Pipeline(steps=[('simpleimputer',\n",
       "                                        SimpleImputer(strategy='median')),\n",
       "                                       ('standardscaler', StandardScaler()),\n",
       "                                       ('randomforestclassifier',\n",
       "                                        RandomForestClassifier(random_state=42))]),\n",
       "             n_jobs=-1,\n",
       "             param_grid={'randomforestclassifier__n_estimators': [25, 50, 75,\n",
       "                                                                  100],\n",
       "                         'standardscaler': [StandardScaler(), None]})"
      ]
     },
     "execution_count": 20,
     "metadata": {},
     "output_type": "execute_result"
    }
   ],
   "source": [
    "#dict for parameters to evaluate, 5-fold cross-validation\n",
    "rf_grid_cv = GridSearchCV(RF_pipe, param_grid=grid_params, cv=5, n_jobs=-1)\n",
    "rf_grid_cv.fit(X_train, y_train)"
   ]
  },
  {
   "cell_type": "code",
   "execution_count": 21,
   "id": "a36bccea",
   "metadata": {},
   "outputs": [
    {
     "name": "stdout",
     "output_type": "stream",
     "text": [
      "{'randomforestclassifier__n_estimators': 50, 'standardscaler': None}\n"
     ]
    }
   ],
   "source": [
    "print(rf_grid_cv.best_params_)"
   ]
  },
  {
   "cell_type": "code",
   "execution_count": 22,
   "id": "68596951",
   "metadata": {},
   "outputs": [],
   "source": [
    "# Fit the model based on the best number of estimators.\n",
    "rf = RandomForestClassifier(n_estimators=50, random_state=42)\n",
    "rf.fit(X_train, y_train)\n",
    "y_pred = rf.predict(X_test)"
   ]
  },
  {
   "cell_type": "code",
   "execution_count": 23,
   "id": "5a56cc15",
   "metadata": {},
   "outputs": [
    {
     "name": "stdout",
     "output_type": "stream",
     "text": [
      "[[531  16]\n",
      " [ 63  36]]\n",
      "              precision    recall  f1-score   support\n",
      "\n",
      "           0       0.89      0.97      0.93       547\n",
      "           1       0.69      0.36      0.48        99\n",
      "\n",
      "    accuracy                           0.88       646\n",
      "   macro avg       0.79      0.67      0.70       646\n",
      "weighted avg       0.86      0.88      0.86       646\n",
      "\n"
     ]
    },
    {
     "data": {
      "image/png": "[encoded data removed]",
      "text/plain": [
       "<Figure size 432x288 with 2 Axes>"
      ]
     },
     "metadata": {},
     "output_type": "display_data"
    }
   ],
   "source": [
    "# plot confusion matrix\n",
    "print(confusion_matrix(y_test, y_pred))\n",
    "print(classification_report(y_test, y_pred))\n",
    "\n",
    "cf_2 = confusion_matrix(y_test,y_pred)\n",
    "ConfusionMatrixDisplay(cf_2).plot(cmap='Blues')\n",
    "\n",
    "plt.grid(False)\n",
    "plt.show();"
   ]
  },
  {
   "cell_type": "markdown",
   "id": "c8389535",
   "metadata": {},
   "source": [
    "#### Assess model performance"
   ]
  },
  {
   "cell_type": "code",
   "execution_count": 24,
   "id": "dbfa0c1c",
   "metadata": {},
   "outputs": [
    {
     "data": {
      "text/plain": [
       "{'fit_time': array([0.08717394, 0.08694315, 0.0833354 , 0.08396029, 0.08352447]),\n",
       " 'score_time': array([0.00598264, 0.0049808 , 0.00599241, 0.00598097, 0.00602365]),\n",
       " 'test_score': array([0.85430464, 0.90033223, 0.87707641, 0.87043189, 0.86046512])}"
      ]
     },
     "execution_count": 24,
     "metadata": {},
     "output_type": "execute_result"
    }
   ],
   "source": [
    "# 'randomforestclassifier__n_estimators': 42\n",
    "rf_best_cv_results = cross_validate(rf_grid_cv.best_estimator_, X_train, y_train, cv=5)\n",
    "rf_best_cv_results"
   ]
  },
  {
   "cell_type": "code",
   "execution_count": 25,
   "id": "15593ad7",
   "metadata": {},
   "outputs": [
    {
     "data": {
      "text/plain": [
       "array([0.85430464, 0.90033223, 0.87707641, 0.87043189, 0.86046512])"
      ]
     },
     "execution_count": 25,
     "metadata": {},
     "output_type": "execute_result"
    }
   ],
   "source": [
    "rf_best_scores = rf_best_cv_results['test_score']\n",
    "rf_best_scores"
   ]
  },
  {
   "cell_type": "code",
   "execution_count": 26,
   "id": "527fc96a",
   "metadata": {},
   "outputs": [
    {
     "data": {
      "text/plain": [
       "(0.8725220567204243, 0.015973482293506352)"
      ]
     },
     "execution_count": 26,
     "metadata": {},
     "output_type": "execute_result"
    }
   ],
   "source": [
    "np.mean(rf_best_scores), np.std(rf_best_scores)  # the model is slighly improved upon the default "
   ]
  },
  {
   "cell_type": "code",
   "execution_count": 27,
   "id": "d7d68734",
   "metadata": {
    "scrolled": true
   },
   "outputs": [
    {
     "data": {
      "image/png": "[encoded data removed]",
      "text/plain": [
       "<Figure size 720x360 with 1 Axes>"
      ]
     },
     "metadata": {},
     "output_type": "display_data"
    }
   ],
   "source": [
    "plt.subplots(figsize=(10, 5))\n",
    "imps = rf_grid_cv.best_estimator_.named_steps.randomforestclassifier.feature_importances_\n",
    "rf_feat_imps = pd.Series(imps, index=train_columns).sort_values(ascending=False)\n",
    "rf_feat_imps.plot(kind='bar')\n",
    "plt.xlabel('features')\n",
    "plt.ylabel('importance')\n",
    "plt.title('Best random forest classifier feature importances', fontsize=14);"
   ]
  },
  {
   "cell_type": "markdown",
   "id": "decdbe3d",
   "metadata": {},
   "source": [
    "**the dominant top five features are:**\n",
    " - 'Income'\n",
    " - 'Days_Enrolled'\n",
    " - 'TotalExpenses'\n",
    " - 'TotalAcceptedCmp5' - total except the last champaign\n",
    " - 'Age'    "
   ]
  },
  {
   "cell_type": "markdown",
   "id": "b3519880",
   "metadata": {},
   "source": [
    "## K Nearest Neighbor (KNN) Model"
   ]
  },
  {
   "cell_type": "code",
   "execution_count": 28,
   "id": "3fe12b8b",
   "metadata": {
    "scrolled": true
   },
   "outputs": [
    {
     "name": "stdout",
     "output_type": "stream",
     "text": [
      "train_scores 1: 0.9926958831341302\n",
      "test_scores 1: 0.8374613003095975\n",
      "train_scores 2: 0.9150066401062417\n",
      "test_scores 2: 0.8730650154798761\n",
      "train_scores 3: 0.9116865869853917\n",
      "test_scores 3: 0.8622291021671826\n",
      "train_scores 4: 0.8924302788844621\n",
      "test_scores 4: 0.8668730650154799\n",
      "train_scores 5: 0.8937583001328021\n",
      "test_scores 5: 0.8637770897832817\n",
      "train_scores 6: 0.8811420982735724\n",
      "test_scores 6: 0.8653250773993808\n",
      "train_scores 7: 0.8871181938911022\n",
      "test_scores 7: 0.8668730650154799\n",
      "train_scores 8: 0.8798140770252324\n",
      "test_scores 8: 0.871517027863777\n",
      "train_scores 9: 0.8784860557768924\n",
      "test_scores 9: 0.8761609907120743\n"
     ]
    }
   ],
   "source": [
    "# Import the necessary modules\n",
    "test_scores = []\n",
    "train_scores = []\n",
    "\n",
    "for i in range(1,10):\n",
    "\n",
    "    knn = KNeighborsClassifier(i)\n",
    "    knn.fit(X_train,y_train)\n",
    "    \n",
    "    train_scores.append(knn.score(X_train,y_train))\n",
    "    test_scores.append(knn.score(X_test,y_test))\n",
    "    print(\"train_scores {}: {}\".format(i, knn.score(X_train,y_train)))  # Compute and print metrics\n",
    "    print(\"test_scores {}: {}\".format(i, knn.score(X_test,y_test)))"
   ]
  },
  {
   "cell_type": "code",
   "execution_count": 29,
   "id": "18072c58",
   "metadata": {},
   "outputs": [
    {
     "name": "stdout",
     "output_type": "stream",
     "text": [
      "Max train score 0.9926958831341302 and k = 1\n"
     ]
    }
   ],
   "source": [
    "# Identify the number of neighbors that resulted in the max score in the training dataset.\n",
    "max_score = max(train_scores)\n",
    "indx = train_scores.index(max_score) + 1    \n",
    "print('Max train score {} and k = {}'.format(max_score, indx))"
   ]
  },
  {
   "cell_type": "code",
   "execution_count": 30,
   "id": "d5ef7ec3",
   "metadata": {},
   "outputs": [
    {
     "name": "stdout",
     "output_type": "stream",
     "text": [
      "Max test score 1 and k = 9\n"
     ]
    }
   ],
   "source": [
    "#Identify the number of neighbors that resulted in the max score in the test dataset.\n",
    "max_score = max(test_scores)\n",
    "indx = test_scores.index(max_score) + 1\n",
    "print('Max test score {} and k = {}'.format(round(max_score), indx))"
   ]
  },
  {
   "cell_type": "code",
   "execution_count": 31,
   "id": "379b6d60",
   "metadata": {},
   "outputs": [
    {
     "data": {
      "image/png": "[encoded data removed]",
      "text/plain": [
       "<Figure size 720x288 with 1 Axes>"
      ]
     },
     "metadata": {},
     "output_type": "display_data"
    }
   ],
   "source": [
    "plt.figure(figsize=(10,4))\n",
    "p = sns.lineplot(x=range(1,10),y=train_scores,marker='*',label='Train Score')\n",
    "p = sns.lineplot(x=range(1,10),y=test_scores,marker='o',label='Test Score')\n",
    "plt.xlabel('Number of neighbors K')\n",
    "plt.ylabel('KNN Score')\n",
    "plt.show();"
   ]
  },
  {
   "cell_type": "code",
   "execution_count": 32,
   "id": "0a30ddc9",
   "metadata": {},
   "outputs": [
    {
     "name": "stdout",
     "output_type": "stream",
     "text": [
      "Train score for n=2 neighbors:  0.9150066401062417\n",
      "Test score for n=2 neighbors:  0.8730650154798761\n"
     ]
    }
   ],
   "source": [
    "# Fit and score the best number of neighbors based on the plot.\n",
    "best_neighbors = 2\n",
    "\n",
    "knn = KNeighborsClassifier(n_neighbors = best_neighbors)\n",
    "knn.fit(X_train,y_train)\n",
    "train_score = knn.score(X_train,y_train)\n",
    "test_score = knn.score(X_test,y_test)\n",
    "\n",
    "print('Train score for n=2 neighbors: ', train_score)\n",
    "print('Test score for n=2 neighbors: ', test_score)"
   ]
  },
  {
   "cell_type": "code",
   "execution_count": 33,
   "id": "f1721b96",
   "metadata": {},
   "outputs": [],
   "source": [
    "from sklearn.metrics import confusion_matrix\n",
    "y_pred2 = knn.predict(X_test)"
   ]
  },
  {
   "cell_type": "code",
   "execution_count": 34,
   "id": "aa25c16b",
   "metadata": {},
   "outputs": [
    {
     "name": "stdout",
     "output_type": "stream",
     "text": [
      "[[531  16]\n",
      " [ 63  36]]\n",
      "              precision    recall  f1-score   support\n",
      "\n",
      "           0       0.89      0.97      0.93       547\n",
      "           1       0.69      0.36      0.48        99\n",
      "\n",
      "    accuracy                           0.88       646\n",
      "   macro avg       0.79      0.67      0.70       646\n",
      "weighted avg       0.86      0.88      0.86       646\n",
      "\n"
     ]
    },
    {
     "data": {
      "image/png": "[encoded data removed]",
      "text/plain": [
       "<Figure size 432x288 with 2 Axes>"
      ]
     },
     "metadata": {},
     "output_type": "display_data"
    }
   ],
   "source": [
    "# plot confusion matrix\n",
    "print(confusion_matrix(y_test, y_pred))\n",
    "print(classification_report(y_test, y_pred))\n",
    "\n",
    "from sklearn.metrics import ConfusionMatrixDisplay\n",
    "cf_3 = confusion_matrix(y_test,y_pred)\n",
    "ConfusionMatrixDisplay(cf_3).plot(cmap='Blues')\n",
    "\n",
    "plt.grid(False)\n",
    "plt.show();"
   ]
  },
  {
   "cell_type": "markdown",
   "id": "44382f72",
   "metadata": {},
   "source": [
    "#### Hyperparameter search using GridSearchCV"
   ]
  },
  {
   "cell_type": "code",
   "execution_count": 35,
   "id": "c7241163",
   "metadata": {},
   "outputs": [
    {
     "data": {
      "text/plain": [
       "GridSearchCV(cv=5, estimator=KNeighborsClassifier(),\n",
       "             param_grid={'n_neighbors': array([ 1,  2,  3,  4,  5,  6,  7,  8,  9, 10, 11, 12, 13, 14, 15, 16, 17,\n",
       "       18, 19, 20, 21, 22, 23, 24, 25, 26, 27, 28, 29])})"
      ]
     },
     "execution_count": 35,
     "metadata": {},
     "output_type": "execute_result"
    }
   ],
   "source": [
    "from sklearn.model_selection import GridSearchCV\n",
    "param_grid = {'n_neighbors':np.arange(1,30)}\n",
    "\n",
    "knn = KNeighborsClassifier()\n",
    "knn_cv= GridSearchCV(knn,param_grid,cv=5)\n",
    "knn_cv.fit(X_train,y_train)"
   ]
  },
  {
   "cell_type": "code",
   "execution_count": 36,
   "id": "808fa0c3",
   "metadata": {},
   "outputs": [
    {
     "name": "stdout",
     "output_type": "stream",
     "text": [
      "Best Score:0.8718554047215683\n",
      "Best Parameters: {'n_neighbors': 29}\n"
     ]
    }
   ],
   "source": [
    "print(\"Best Score:\" + str(knn_cv.best_score_))\n",
    "print(\"Best Parameters: \" + str(knn_cv.best_params_))"
   ]
  },
  {
   "cell_type": "code",
   "execution_count": 37,
   "id": "fd940af4",
   "metadata": {},
   "outputs": [
    {
     "name": "stdout",
     "output_type": "stream",
     "text": [
      "Train score for n=2 neighbors:  0.8745019920318725\n",
      "Test score for n=2 neighbors:  0.8746130030959752\n"
     ]
    }
   ],
   "source": [
    "best_neighbors = 29\n",
    "\n",
    "knn = KNeighborsClassifier(n_neighbors = best_neighbors)\n",
    "knn.fit(X_train,y_train)\n",
    "train_score = knn.score(X_train,y_train)\n",
    "test_score = knn.score(X_test,y_test)\n",
    "\n",
    "print('Train score for n=2 neighbors: ', train_score)  # # the model is slighly improved upon the default \n",
    "print('Test score for n=2 neighbors: ', test_score)\n",
    "\n",
    "y_pred = knn.predict(X_test)"
   ]
  },
  {
   "cell_type": "markdown",
   "id": "af1ee373",
   "metadata": {},
   "source": [
    "#### Assess model performance"
   ]
  },
  {
   "cell_type": "code",
   "execution_count": 38,
   "id": "6b4a24ab",
   "metadata": {
    "scrolled": false
   },
   "outputs": [
    {
     "name": "stdout",
     "output_type": "stream",
     "text": [
      "[[543   4]\n",
      " [ 77  22]]\n",
      "              precision    recall  f1-score   support\n",
      "\n",
      "           0       0.88      0.99      0.93       547\n",
      "           1       0.85      0.22      0.35        99\n",
      "\n",
      "    accuracy                           0.87       646\n",
      "   macro avg       0.86      0.61      0.64       646\n",
      "weighted avg       0.87      0.87      0.84       646\n",
      "\n"
     ]
    },
    {
     "data": {
      "image/png": "[encoded data removed]",
      "text/plain": [
       "<Figure size 432x288 with 2 Axes>"
      ]
     },
     "metadata": {},
     "output_type": "display_data"
    }
   ],
   "source": [
    "# Generate the confusion matrix and classification report\n",
    "print(confusion_matrix(y_test, y_pred))\n",
    "print(classification_report(y_test, y_pred))\n",
    "cf_3 = confusion_matrix(y_test,y_pred)\n",
    "cmd = ConfusionMatrixDisplay(cf_3)\n",
    "cmd.plot(cmap='Blues')\n",
    "plt.grid(False)\n",
    "plt.show();"
   ]
  },
  {
   "cell_type": "markdown",
   "id": "9ad4e0dc",
   "metadata": {},
   "source": [
    "## Gradient Boosting Model"
   ]
  },
  {
   "cell_type": "code",
   "execution_count": 39,
   "id": "7b915b14",
   "metadata": {
    "scrolled": true
   },
   "outputs": [
    {
     "name": "stdout",
     "output_type": "stream",
     "text": [
      "Learning rate:  0.05\n",
      "Accuracy score (training): 0.849\n",
      "Accuracy score (validation): 0.847\n",
      "\n",
      "Learning rate:  0.25\n",
      "Accuracy score (training): 0.886\n",
      "Accuracy score (validation): 0.862\n",
      "\n",
      "Learning rate:  0.5\n",
      "Accuracy score (training): 0.896\n",
      "Accuracy score (validation): 0.859\n",
      "\n",
      "Learning rate:  0.75\n",
      "Accuracy score (training): 0.903\n",
      "Accuracy score (validation): 0.854\n",
      "\n",
      "Learning rate:  1\n",
      "Accuracy score (training): 0.904\n",
      "Accuracy score (validation): 0.842\n",
      "\n",
      "Learning rate:  1.25\n",
      "Accuracy score (training): 0.902\n",
      "Accuracy score (validation): 0.854\n",
      "\n"
     ]
    }
   ],
   "source": [
    "# test multiple learning rates in the gradient boosting classifier.\n",
    "learning_rates = [0.05, 0.25, 0.5, 0.75, 1, 1.25]\n",
    "for learning_rate in learning_rates:\n",
    "    gb = GradientBoostingClassifier(n_estimators=20, learning_rate = learning_rate, max_features=2, max_depth = 2, random_state = 0)\n",
    "    gb.fit(X_train, y_train)\n",
    "    print(\"Learning rate: \", learning_rate)\n",
    "    print(\"Accuracy score (training): {0:.3f}\".format(gb.score(X_train, y_train)))\n",
    "    print(\"Accuracy score (validation): {0:.3f}\".format(gb.score(X_test, y_test)))\n",
    "\n",
    "    print()"
   ]
  },
  {
   "cell_type": "code",
   "execution_count": 40,
   "id": "e4697209",
   "metadata": {},
   "outputs": [],
   "source": [
    "# Apply the best learning rate to the model fit and predict on the testing set. \n",
    "gbc = GradientBoostingClassifier(n_estimators=20, learning_rate = 0.75, \n",
    "                                    max_features=2, max_depth = 2, random_state = 42)\n",
    "gbc_model = gbc.fit(X_train, y_train)\n",
    "# predict\n",
    "y_pred = gbc_model.predict(X_test)"
   ]
  },
  {
   "cell_type": "code",
   "execution_count": 41,
   "id": "0f1e39c3",
   "metadata": {},
   "outputs": [
    {
     "name": "stdout",
     "output_type": "stream",
     "text": [
      "[[528  19]\n",
      " [ 66  33]]\n",
      "              precision    recall  f1-score   support\n",
      "\n",
      "           0       0.89      0.97      0.93       547\n",
      "           1       0.63      0.33      0.44        99\n",
      "\n",
      "    accuracy                           0.87       646\n",
      "   macro avg       0.76      0.65      0.68       646\n",
      "weighted avg       0.85      0.87      0.85       646\n",
      "\n"
     ]
    },
    {
     "data": {
      "image/png": "[encoded data removed]",
      "text/plain": [
       "<Figure size 432x288 with 2 Axes>"
      ]
     },
     "metadata": {},
     "output_type": "display_data"
    }
   ],
   "source": [
    "# Print out the confusion matrix and the classification report to review the model performance.\n",
    "print(confusion_matrix(y_test, y_pred))\n",
    "print(classification_report(y_test, y_pred))\n",
    "\n",
    "cf_4 = confusion_matrix(y_test,y_pred)\n",
    "cmd = ConfusionMatrixDisplay(cf_4)\n",
    "cmd.plot(cmap='Blues')\n",
    "plt.grid(False)\n",
    "plt.show();"
   ]
  },
  {
   "cell_type": "code",
   "execution_count": 42,
   "id": "82123fd9",
   "metadata": {},
   "outputs": [
    {
     "name": "stdout",
     "output_type": "stream",
     "text": [
      "Model: gbc, ROC_AUC: 0.8047\n"
     ]
    }
   ],
   "source": [
    "y_pred_proba = gbc.predict_proba(X_test)[:, 1]\n",
    "roc_auc = roc_auc_score(y_test, y_pred_proba)\n",
    "print('Model: %s, ROC_AUC: %.4f' % ('gbc', roc_auc))"
   ]
  },
  {
   "cell_type": "markdown",
   "id": "e5d63f1e",
   "metadata": {},
   "source": [
    "## Model Selection"
   ]
  },
  {
   "cell_type": "code",
   "execution_count": null,
   "id": "66304dfd",
   "metadata": {},
   "outputs": [],
   "source": []
  },
  {
   "cell_type": "code",
   "execution_count": null,
   "id": "ad24bf78",
   "metadata": {},
   "outputs": [],
   "source": []
  }
 ],
 "metadata": {
  "kernelspec": {
   "display_name": "Python 3",
   "language": "python",
   "name": "python3"
  },
  "language_info": {
   "codemirror_mode": {
    "name": "ipython",
    "version": 3
   },
   "file_extension": ".py",
   "mimetype": "text/x-python",
   "name": "python",
   "nbconvert_exporter": "python",
   "pygments_lexer": "ipython3",
   "version": "3.7.11"
  },
  "toc": {
   "base_numbering": 1,
   "nav_menu": {},
   "number_sections": true,
   "sideBar": true,
   "skip_h1_title": false,
   "title_cell": "Table of Contents",
   "title_sidebar": "Contents",
   "toc_cell": true,
   "toc_position": {},
   "toc_section_display": true,
   "toc_window_display": false
  }
 },
 "nbformat": 4,
 "nbformat_minor": 5
}
