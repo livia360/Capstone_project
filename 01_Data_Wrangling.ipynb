{
 "cells": [
  {
   "cell_type": "markdown",
   "id": "03bfa8a0",
   "metadata": {
    "toc": true
   },
   "source": [
    "<h1>Table of Contents<span class=\"tocSkip\"></span></h1>\n",
    "<div class=\"toc\"><ul class=\"toc-item\"><li><span><a href=\"#Introduction\" data-toc-modified-id=\"Introduction-1\"><span class=\"toc-item-num\">1&nbsp;&nbsp;</span>Introduction</a></span><ul class=\"toc-item\"><li><span><a href=\"#Objective\" data-toc-modified-id=\"Objective-1.1\"><span class=\"toc-item-num\">1.1&nbsp;&nbsp;</span>Objective</a></span></li><li><span><a href=\"#Variables-in-the-dataset\" data-toc-modified-id=\"Variables-in-the-dataset-1.2\"><span class=\"toc-item-num\">1.2&nbsp;&nbsp;</span>Variables in the dataset</a></span></li></ul></li><li><span><a href=\"#Sourcing-and-Loading-the-Data\" data-toc-modified-id=\"Sourcing-and-Loading-the-Data-2\"><span class=\"toc-item-num\">2&nbsp;&nbsp;</span>Sourcing and Loading the Data</a></span><ul class=\"toc-item\"><li><span><a href=\"#Import-libraries\" data-toc-modified-id=\"Import-libraries-2.1\"><span class=\"toc-item-num\">2.1&nbsp;&nbsp;</span>Import libraries</a></span></li><li><span><a href=\"#Load-the-data\" data-toc-modified-id=\"Load-the-data-2.2\"><span class=\"toc-item-num\">2.2&nbsp;&nbsp;</span>Load the data</a></span></li></ul></li><li><span><a href=\"#Cleaning,-transforming-and-visualizing-data\" data-toc-modified-id=\"Cleaning,-transforming-and-visualizing-data-3\"><span class=\"toc-item-num\">3&nbsp;&nbsp;</span>Cleaning, transforming and visualizing data</a></span><ul class=\"toc-item\"><li><span><a href=\"#Categorical-Variables\" data-toc-modified-id=\"Categorical-Variables-3.1\"><span class=\"toc-item-num\">3.1&nbsp;&nbsp;</span>Categorical Variables</a></span></li><li><span><a href=\"#Numeric-Features\" data-toc-modified-id=\"Numeric-Features-3.2\"><span class=\"toc-item-num\">3.2&nbsp;&nbsp;</span>Numeric Features</a></span></li><li><span><a href=\"#Data-Wrangling\" data-toc-modified-id=\"Data-Wrangling-3.3\"><span class=\"toc-item-num\">3.3&nbsp;&nbsp;</span>Data Wrangling</a></span></li><li><span><a href=\"#A-visual-summary-of-the-expenses-of-people-at-different-ages\" data-toc-modified-id=\"A-visual-summary-of-the-expenses-of-people-at-different-ages-3.4\"><span class=\"toc-item-num\">3.4&nbsp;&nbsp;</span>A visual summary of the expenses of people at different ages</a></span></li><li><span><a href=\"#Saving-data\" data-toc-modified-id=\"Saving-data-3.5\"><span class=\"toc-item-num\">3.5&nbsp;&nbsp;</span>Saving data</a></span></li></ul></li></ul></div>"
   ]
  },
  {
   "cell_type": "markdown",
   "id": "6c17bd24",
   "metadata": {},
   "source": [
    "Project: Customer Behavior Analysis  and Prediction"
   ]
  },
  {
   "cell_type": "markdown",
   "id": "fd3fe5e5",
   "metadata": {},
   "source": [
    "## Introduction\n",
    "\n",
    "Customer Personality Analysis helps the business to better understand its customers and makes it easier for them to make decisions based on its target customers groups.\n",
    "\n",
    "This project is using the dataset ['marketing_campaign.csv'](https://www.kaggle.com/imakash3011/customer-personality-analysis?select=marketing_campaign.csv) from kaggle and investigating if customers would accept the offer from the last campaign, which is a very common problem many retailer business is facing to."
   ]
  },
  {
   "cell_type": "markdown",
   "id": "4627c3b1",
   "metadata": {},
   "source": [
    "###  Objective\n",
    "\n",
    "To perform machine learning to forecast if an mid-aged (40-50) customer would accept the offer in the last champaign.\n",
    "\n",
    "For each technique and its corresponding model, I will assess its performance by comparing the predicted output with the actual result. Finally, all models will be compared to each other, and we will find out which algorithm works the best."
   ]
  },
  {
   "cell_type": "markdown",
   "id": "cd3b903b",
   "metadata": {},
   "source": [
    "###  Variables in the dataset\n",
    "\n",
    "a. Customer information\n",
    " - Year_Birth: Customer's birth year\n",
    " - Education: Customer's education level\n",
    " - Marital_Status: Customer's marital status\n",
    " - Income: Customer's yearly household income\n",
    " - Kidhome: Number of children in customer's household\n",
    " - Teenhome: Number of teenagers in customer's household\n",
    " - Dt_Customer: Date of customer's enrollment with the company\n",
    " - Complain: if the customer complained in the last 2 years\n",
    "***\n",
    "b. Amount spent on each category in last 2 years\n",
    " - MntWines: Amount spent on wine\n",
    " - MntFruits: Amount spent on fruits\n",
    " - MntMeatProducts: Amount spent on meat\n",
    " - MntFishProducts: Amount spent on fish\n",
    " - MntSweetProducts: Amount spent on sweets\n",
    " - MntGoldProds: Amount spent on gold\n",
    "***\n",
    "c. Places where customers make the purchase\n",
    " - NumWebPurchases: Number of purchases made through the company’s website\n",
    " - NumCatalogPurchases: Number of purchases made using a catalog\n",
    " - NumStorePurchases: Number of purchases made directly in stores\n",
    " - NumWebVisitsMonth: Number of visits to company’s website in the last month\n",
    "***\n",
    "d. Promotion activities response\n",
    " - NumDealsPurchases: Number of purchases made with a discount\n",
    " - AcceptedCmp1: 1 if customer accepted the offer in the 1st campaign, 0 otherwise\n",
    " - AcceptedCmp2: 1 if customer accepted the offer in the 2nd campaign, 0 otherwise\n",
    " - AcceptedCmp3: 1 if customer accepted the offer in the 3rd campaign, 0 otherwise\n",
    " - AcceptedCmp4: 1 if customer accepted the offer in the 4th campaign, 0 otherwise\n",
    " - AcceptedCmp5: 1 if customer accepted the offer in the 5th campaign, 0 otherwise\n",
    " - Response: 1 if customer accepted the offer in the last campaign, 0 otherwise"
   ]
  },
  {
   "cell_type": "markdown",
   "id": "91e038a5",
   "metadata": {},
   "source": [
    "## Sourcing and Loading the Data"
   ]
  },
  {
   "cell_type": "markdown",
   "id": "c9c06b7a",
   "metadata": {},
   "source": [
    "This step focuses on importing packages, and organizing data to make sure that the data's well defined."
   ]
  },
  {
   "cell_type": "markdown",
   "id": "ec34e25f",
   "metadata": {},
   "source": [
    "### Import libraries"
   ]
  },
  {
   "cell_type": "code",
   "execution_count": 1,
   "id": "87f1fd62",
   "metadata": {},
   "outputs": [],
   "source": [
    "import pandas as pd\n",
    "import numpy as np\n",
    "import matplotlib.pyplot as plt\n",
    "import seaborn as sns\n",
    "import os\n",
    "\n",
    "from datetime import datetime, date, timedelta\n",
    "from library.sb_utils import save_file\n",
    "%matplotlib inline\n",
    "\n",
    "sns.set()"
   ]
  },
  {
   "cell_type": "markdown",
   "id": "fd29515f",
   "metadata": {},
   "source": [
    "### Load the data"
   ]
  },
  {
   "cell_type": "code",
   "execution_count": 2,
   "id": "88b71b29",
   "metadata": {},
   "outputs": [],
   "source": [
    "# read data\n",
    "df = pd.read_csv('./Data/marketing_campaign.csv', sep='\\t')"
   ]
  },
  {
   "cell_type": "code",
   "execution_count": 3,
   "id": "31e16e56",
   "metadata": {},
   "outputs": [
    {
     "name": "stdout",
     "output_type": "stream",
     "text": [
      "(2240, 29)\n"
     ]
    },
    {
     "data": {
      "text/html": [
       "<div>\n",
       "<style scoped>\n",
       "    .dataframe tbody tr th:only-of-type {\n",
       "        vertical-align: middle;\n",
       "    }\n",
       "\n",
       "    .dataframe tbody tr th {\n",
       "        vertical-align: top;\n",
       "    }\n",
       "\n",
       "    .dataframe thead th {\n",
       "        text-align: right;\n",
       "    }\n",
       "</style>\n",
       "<table border=\"1\" class=\"dataframe\">\n",
       "  <thead>\n",
       "    <tr style=\"text-align: right;\">\n",
       "      <th></th>\n",
       "      <th>ID</th>\n",
       "      <th>Year_Birth</th>\n",
       "      <th>Education</th>\n",
       "      <th>Marital_Status</th>\n",
       "      <th>Income</th>\n",
       "      <th>Kidhome</th>\n",
       "      <th>Teenhome</th>\n",
       "      <th>Dt_Customer</th>\n",
       "      <th>Recency</th>\n",
       "      <th>MntWines</th>\n",
       "      <th>...</th>\n",
       "      <th>NumWebVisitsMonth</th>\n",
       "      <th>AcceptedCmp3</th>\n",
       "      <th>AcceptedCmp4</th>\n",
       "      <th>AcceptedCmp5</th>\n",
       "      <th>AcceptedCmp1</th>\n",
       "      <th>AcceptedCmp2</th>\n",
       "      <th>Complain</th>\n",
       "      <th>Z_CostContact</th>\n",
       "      <th>Z_Revenue</th>\n",
       "      <th>Response</th>\n",
       "    </tr>\n",
       "  </thead>\n",
       "  <tbody>\n",
       "    <tr>\n",
       "      <th>0</th>\n",
       "      <td>5524</td>\n",
       "      <td>1957</td>\n",
       "      <td>Graduation</td>\n",
       "      <td>Single</td>\n",
       "      <td>58138.0</td>\n",
       "      <td>0</td>\n",
       "      <td>0</td>\n",
       "      <td>04-09-2012</td>\n",
       "      <td>58</td>\n",
       "      <td>635</td>\n",
       "      <td>...</td>\n",
       "      <td>7</td>\n",
       "      <td>0</td>\n",
       "      <td>0</td>\n",
       "      <td>0</td>\n",
       "      <td>0</td>\n",
       "      <td>0</td>\n",
       "      <td>0</td>\n",
       "      <td>3</td>\n",
       "      <td>11</td>\n",
       "      <td>1</td>\n",
       "    </tr>\n",
       "    <tr>\n",
       "      <th>1</th>\n",
       "      <td>2174</td>\n",
       "      <td>1954</td>\n",
       "      <td>Graduation</td>\n",
       "      <td>Single</td>\n",
       "      <td>46344.0</td>\n",
       "      <td>1</td>\n",
       "      <td>1</td>\n",
       "      <td>08-03-2014</td>\n",
       "      <td>38</td>\n",
       "      <td>11</td>\n",
       "      <td>...</td>\n",
       "      <td>5</td>\n",
       "      <td>0</td>\n",
       "      <td>0</td>\n",
       "      <td>0</td>\n",
       "      <td>0</td>\n",
       "      <td>0</td>\n",
       "      <td>0</td>\n",
       "      <td>3</td>\n",
       "      <td>11</td>\n",
       "      <td>0</td>\n",
       "    </tr>\n",
       "    <tr>\n",
       "      <th>2</th>\n",
       "      <td>4141</td>\n",
       "      <td>1965</td>\n",
       "      <td>Graduation</td>\n",
       "      <td>Together</td>\n",
       "      <td>71613.0</td>\n",
       "      <td>0</td>\n",
       "      <td>0</td>\n",
       "      <td>21-08-2013</td>\n",
       "      <td>26</td>\n",
       "      <td>426</td>\n",
       "      <td>...</td>\n",
       "      <td>4</td>\n",
       "      <td>0</td>\n",
       "      <td>0</td>\n",
       "      <td>0</td>\n",
       "      <td>0</td>\n",
       "      <td>0</td>\n",
       "      <td>0</td>\n",
       "      <td>3</td>\n",
       "      <td>11</td>\n",
       "      <td>0</td>\n",
       "    </tr>\n",
       "    <tr>\n",
       "      <th>3</th>\n",
       "      <td>6182</td>\n",
       "      <td>1984</td>\n",
       "      <td>Graduation</td>\n",
       "      <td>Together</td>\n",
       "      <td>26646.0</td>\n",
       "      <td>1</td>\n",
       "      <td>0</td>\n",
       "      <td>10-02-2014</td>\n",
       "      <td>26</td>\n",
       "      <td>11</td>\n",
       "      <td>...</td>\n",
       "      <td>6</td>\n",
       "      <td>0</td>\n",
       "      <td>0</td>\n",
       "      <td>0</td>\n",
       "      <td>0</td>\n",
       "      <td>0</td>\n",
       "      <td>0</td>\n",
       "      <td>3</td>\n",
       "      <td>11</td>\n",
       "      <td>0</td>\n",
       "    </tr>\n",
       "    <tr>\n",
       "      <th>4</th>\n",
       "      <td>5324</td>\n",
       "      <td>1981</td>\n",
       "      <td>PhD</td>\n",
       "      <td>Married</td>\n",
       "      <td>58293.0</td>\n",
       "      <td>1</td>\n",
       "      <td>0</td>\n",
       "      <td>19-01-2014</td>\n",
       "      <td>94</td>\n",
       "      <td>173</td>\n",
       "      <td>...</td>\n",
       "      <td>5</td>\n",
       "      <td>0</td>\n",
       "      <td>0</td>\n",
       "      <td>0</td>\n",
       "      <td>0</td>\n",
       "      <td>0</td>\n",
       "      <td>0</td>\n",
       "      <td>3</td>\n",
       "      <td>11</td>\n",
       "      <td>0</td>\n",
       "    </tr>\n",
       "  </tbody>\n",
       "</table>\n",
       "<p>5 rows × 29 columns</p>\n",
       "</div>"
      ],
      "text/plain": [
       "     ID  Year_Birth   Education Marital_Status   Income  Kidhome  Teenhome  \\\n",
       "0  5524        1957  Graduation         Single  58138.0        0         0   \n",
       "1  2174        1954  Graduation         Single  46344.0        1         1   \n",
       "2  4141        1965  Graduation       Together  71613.0        0         0   \n",
       "3  6182        1984  Graduation       Together  26646.0        1         0   \n",
       "4  5324        1981         PhD        Married  58293.0        1         0   \n",
       "\n",
       "  Dt_Customer  Recency  MntWines  ...  NumWebVisitsMonth  AcceptedCmp3  \\\n",
       "0  04-09-2012       58       635  ...                  7             0   \n",
       "1  08-03-2014       38        11  ...                  5             0   \n",
       "2  21-08-2013       26       426  ...                  4             0   \n",
       "3  10-02-2014       26        11  ...                  6             0   \n",
       "4  19-01-2014       94       173  ...                  5             0   \n",
       "\n",
       "   AcceptedCmp4  AcceptedCmp5  AcceptedCmp1  AcceptedCmp2  Complain  \\\n",
       "0             0             0             0             0         0   \n",
       "1             0             0             0             0         0   \n",
       "2             0             0             0             0         0   \n",
       "3             0             0             0             0         0   \n",
       "4             0             0             0             0         0   \n",
       "\n",
       "   Z_CostContact  Z_Revenue  Response  \n",
       "0              3         11         1  \n",
       "1              3         11         0  \n",
       "2              3         11         0  \n",
       "3              3         11         0  \n",
       "4              3         11         0  \n",
       "\n",
       "[5 rows x 29 columns]"
      ]
     },
     "execution_count": 3,
     "metadata": {},
     "output_type": "execute_result"
    }
   ],
   "source": [
    "# check the first few rows of data to identify the features (dependent and independent)\n",
    "print(df.shape)\n",
    "df.head()"
   ]
  },
  {
   "cell_type": "code",
   "execution_count": 4,
   "id": "6beb05d1",
   "metadata": {},
   "outputs": [
    {
     "data": {
      "text/plain": [
       "2240"
      ]
     },
     "execution_count": 4,
     "metadata": {},
     "output_type": "execute_result"
    }
   ],
   "source": [
    "df.ID.nunique()"
   ]
  },
  {
   "cell_type": "markdown",
   "id": "e5169aae",
   "metadata": {},
   "source": [
    " - The dataset contains information of 2240 customers and 29 features. "
   ]
  },
  {
   "cell_type": "code",
   "execution_count": 5,
   "id": "7e558146",
   "metadata": {},
   "outputs": [
    {
     "data": {
      "text/plain": [
       "0       0\n",
       "1       0\n",
       "2       0\n",
       "3       0\n",
       "4       0\n",
       "       ..\n",
       "2235    0\n",
       "2236    0\n",
       "2237    0\n",
       "2238    0\n",
       "2239    0\n",
       "Length: 2240, dtype: int64"
      ]
     },
     "execution_count": 5,
     "metadata": {},
     "output_type": "execute_result"
    }
   ],
   "source": [
    "# Check for missing values in the dataset\n",
    "df.isnull().sum(axis=1)"
   ]
  },
  {
   "cell_type": "code",
   "execution_count": 6,
   "id": "1202101b",
   "metadata": {
    "scrolled": true
   },
   "outputs": [
    {
     "name": "stdout",
     "output_type": "stream",
     "text": [
      "<class 'pandas.core.frame.DataFrame'>\n",
      "RangeIndex: 2240 entries, 0 to 2239\n",
      "Data columns (total 29 columns):\n",
      " #   Column               Non-Null Count  Dtype  \n",
      "---  ------               --------------  -----  \n",
      " 0   ID                   2240 non-null   int64  \n",
      " 1   Year_Birth           2240 non-null   int64  \n",
      " 2   Education            2240 non-null   object \n",
      " 3   Marital_Status       2240 non-null   object \n",
      " 4   Income               2216 non-null   float64\n",
      " 5   Kidhome              2240 non-null   int64  \n",
      " 6   Teenhome             2240 non-null   int64  \n",
      " 7   Dt_Customer          2240 non-null   object \n",
      " 8   Recency              2240 non-null   int64  \n",
      " 9   MntWines             2240 non-null   int64  \n",
      " 10  MntFruits            2240 non-null   int64  \n",
      " 11  MntMeatProducts      2240 non-null   int64  \n",
      " 12  MntFishProducts      2240 non-null   int64  \n",
      " 13  MntSweetProducts     2240 non-null   int64  \n",
      " 14  MntGoldProds         2240 non-null   int64  \n",
      " 15  NumDealsPurchases    2240 non-null   int64  \n",
      " 16  NumWebPurchases      2240 non-null   int64  \n",
      " 17  NumCatalogPurchases  2240 non-null   int64  \n",
      " 18  NumStorePurchases    2240 non-null   int64  \n",
      " 19  NumWebVisitsMonth    2240 non-null   int64  \n",
      " 20  AcceptedCmp3         2240 non-null   int64  \n",
      " 21  AcceptedCmp4         2240 non-null   int64  \n",
      " 22  AcceptedCmp5         2240 non-null   int64  \n",
      " 23  AcceptedCmp1         2240 non-null   int64  \n",
      " 24  AcceptedCmp2         2240 non-null   int64  \n",
      " 25  Complain             2240 non-null   int64  \n",
      " 26  Z_CostContact        2240 non-null   int64  \n",
      " 27  Z_Revenue            2240 non-null   int64  \n",
      " 28  Response             2240 non-null   int64  \n",
      "dtypes: float64(1), int64(25), object(3)\n",
      "memory usage: 507.6+ KB\n"
     ]
    }
   ],
   "source": [
    "df.info() "
   ]
  },
  {
   "cell_type": "code",
   "execution_count": 7,
   "id": "3a43ec73",
   "metadata": {},
   "outputs": [
    {
     "data": {
      "text/html": [
       "<div>\n",
       "<style scoped>\n",
       "    .dataframe tbody tr th:only-of-type {\n",
       "        vertical-align: middle;\n",
       "    }\n",
       "\n",
       "    .dataframe tbody tr th {\n",
       "        vertical-align: top;\n",
       "    }\n",
       "\n",
       "    .dataframe thead th {\n",
       "        text-align: right;\n",
       "    }\n",
       "</style>\n",
       "<table border=\"1\" class=\"dataframe\">\n",
       "  <thead>\n",
       "    <tr style=\"text-align: right;\">\n",
       "      <th></th>\n",
       "      <th>ID</th>\n",
       "      <th>Year_Birth</th>\n",
       "      <th>Income</th>\n",
       "      <th>Kidhome</th>\n",
       "      <th>Teenhome</th>\n",
       "      <th>Recency</th>\n",
       "      <th>MntWines</th>\n",
       "      <th>MntFruits</th>\n",
       "      <th>MntMeatProducts</th>\n",
       "      <th>MntFishProducts</th>\n",
       "      <th>...</th>\n",
       "      <th>NumWebVisitsMonth</th>\n",
       "      <th>AcceptedCmp3</th>\n",
       "      <th>AcceptedCmp4</th>\n",
       "      <th>AcceptedCmp5</th>\n",
       "      <th>AcceptedCmp1</th>\n",
       "      <th>AcceptedCmp2</th>\n",
       "      <th>Complain</th>\n",
       "      <th>Z_CostContact</th>\n",
       "      <th>Z_Revenue</th>\n",
       "      <th>Response</th>\n",
       "    </tr>\n",
       "  </thead>\n",
       "  <tbody>\n",
       "    <tr>\n",
       "      <th>count</th>\n",
       "      <td>2240.000000</td>\n",
       "      <td>2240.000000</td>\n",
       "      <td>2216.000000</td>\n",
       "      <td>2240.000000</td>\n",
       "      <td>2240.000000</td>\n",
       "      <td>2240.000000</td>\n",
       "      <td>2240.000000</td>\n",
       "      <td>2240.000000</td>\n",
       "      <td>2240.000000</td>\n",
       "      <td>2240.000000</td>\n",
       "      <td>...</td>\n",
       "      <td>2240.000000</td>\n",
       "      <td>2240.000000</td>\n",
       "      <td>2240.000000</td>\n",
       "      <td>2240.000000</td>\n",
       "      <td>2240.000000</td>\n",
       "      <td>2240.000000</td>\n",
       "      <td>2240.000000</td>\n",
       "      <td>2240.0</td>\n",
       "      <td>2240.0</td>\n",
       "      <td>2240.000000</td>\n",
       "    </tr>\n",
       "    <tr>\n",
       "      <th>mean</th>\n",
       "      <td>5592.159821</td>\n",
       "      <td>1968.805804</td>\n",
       "      <td>52247.251354</td>\n",
       "      <td>0.444196</td>\n",
       "      <td>0.506250</td>\n",
       "      <td>49.109375</td>\n",
       "      <td>303.935714</td>\n",
       "      <td>26.302232</td>\n",
       "      <td>166.950000</td>\n",
       "      <td>37.525446</td>\n",
       "      <td>...</td>\n",
       "      <td>5.316518</td>\n",
       "      <td>0.072768</td>\n",
       "      <td>0.074554</td>\n",
       "      <td>0.072768</td>\n",
       "      <td>0.064286</td>\n",
       "      <td>0.013393</td>\n",
       "      <td>0.009375</td>\n",
       "      <td>3.0</td>\n",
       "      <td>11.0</td>\n",
       "      <td>0.149107</td>\n",
       "    </tr>\n",
       "    <tr>\n",
       "      <th>std</th>\n",
       "      <td>3246.662198</td>\n",
       "      <td>11.984069</td>\n",
       "      <td>25173.076661</td>\n",
       "      <td>0.538398</td>\n",
       "      <td>0.544538</td>\n",
       "      <td>28.962453</td>\n",
       "      <td>336.597393</td>\n",
       "      <td>39.773434</td>\n",
       "      <td>225.715373</td>\n",
       "      <td>54.628979</td>\n",
       "      <td>...</td>\n",
       "      <td>2.426645</td>\n",
       "      <td>0.259813</td>\n",
       "      <td>0.262728</td>\n",
       "      <td>0.259813</td>\n",
       "      <td>0.245316</td>\n",
       "      <td>0.114976</td>\n",
       "      <td>0.096391</td>\n",
       "      <td>0.0</td>\n",
       "      <td>0.0</td>\n",
       "      <td>0.356274</td>\n",
       "    </tr>\n",
       "    <tr>\n",
       "      <th>min</th>\n",
       "      <td>0.000000</td>\n",
       "      <td>1893.000000</td>\n",
       "      <td>1730.000000</td>\n",
       "      <td>0.000000</td>\n",
       "      <td>0.000000</td>\n",
       "      <td>0.000000</td>\n",
       "      <td>0.000000</td>\n",
       "      <td>0.000000</td>\n",
       "      <td>0.000000</td>\n",
       "      <td>0.000000</td>\n",
       "      <td>...</td>\n",
       "      <td>0.000000</td>\n",
       "      <td>0.000000</td>\n",
       "      <td>0.000000</td>\n",
       "      <td>0.000000</td>\n",
       "      <td>0.000000</td>\n",
       "      <td>0.000000</td>\n",
       "      <td>0.000000</td>\n",
       "      <td>3.0</td>\n",
       "      <td>11.0</td>\n",
       "      <td>0.000000</td>\n",
       "    </tr>\n",
       "    <tr>\n",
       "      <th>25%</th>\n",
       "      <td>2828.250000</td>\n",
       "      <td>1959.000000</td>\n",
       "      <td>35303.000000</td>\n",
       "      <td>0.000000</td>\n",
       "      <td>0.000000</td>\n",
       "      <td>24.000000</td>\n",
       "      <td>23.750000</td>\n",
       "      <td>1.000000</td>\n",
       "      <td>16.000000</td>\n",
       "      <td>3.000000</td>\n",
       "      <td>...</td>\n",
       "      <td>3.000000</td>\n",
       "      <td>0.000000</td>\n",
       "      <td>0.000000</td>\n",
       "      <td>0.000000</td>\n",
       "      <td>0.000000</td>\n",
       "      <td>0.000000</td>\n",
       "      <td>0.000000</td>\n",
       "      <td>3.0</td>\n",
       "      <td>11.0</td>\n",
       "      <td>0.000000</td>\n",
       "    </tr>\n",
       "    <tr>\n",
       "      <th>50%</th>\n",
       "      <td>5458.500000</td>\n",
       "      <td>1970.000000</td>\n",
       "      <td>51381.500000</td>\n",
       "      <td>0.000000</td>\n",
       "      <td>0.000000</td>\n",
       "      <td>49.000000</td>\n",
       "      <td>173.500000</td>\n",
       "      <td>8.000000</td>\n",
       "      <td>67.000000</td>\n",
       "      <td>12.000000</td>\n",
       "      <td>...</td>\n",
       "      <td>6.000000</td>\n",
       "      <td>0.000000</td>\n",
       "      <td>0.000000</td>\n",
       "      <td>0.000000</td>\n",
       "      <td>0.000000</td>\n",
       "      <td>0.000000</td>\n",
       "      <td>0.000000</td>\n",
       "      <td>3.0</td>\n",
       "      <td>11.0</td>\n",
       "      <td>0.000000</td>\n",
       "    </tr>\n",
       "    <tr>\n",
       "      <th>75%</th>\n",
       "      <td>8427.750000</td>\n",
       "      <td>1977.000000</td>\n",
       "      <td>68522.000000</td>\n",
       "      <td>1.000000</td>\n",
       "      <td>1.000000</td>\n",
       "      <td>74.000000</td>\n",
       "      <td>504.250000</td>\n",
       "      <td>33.000000</td>\n",
       "      <td>232.000000</td>\n",
       "      <td>50.000000</td>\n",
       "      <td>...</td>\n",
       "      <td>7.000000</td>\n",
       "      <td>0.000000</td>\n",
       "      <td>0.000000</td>\n",
       "      <td>0.000000</td>\n",
       "      <td>0.000000</td>\n",
       "      <td>0.000000</td>\n",
       "      <td>0.000000</td>\n",
       "      <td>3.0</td>\n",
       "      <td>11.0</td>\n",
       "      <td>0.000000</td>\n",
       "    </tr>\n",
       "    <tr>\n",
       "      <th>max</th>\n",
       "      <td>11191.000000</td>\n",
       "      <td>1996.000000</td>\n",
       "      <td>666666.000000</td>\n",
       "      <td>2.000000</td>\n",
       "      <td>2.000000</td>\n",
       "      <td>99.000000</td>\n",
       "      <td>1493.000000</td>\n",
       "      <td>199.000000</td>\n",
       "      <td>1725.000000</td>\n",
       "      <td>259.000000</td>\n",
       "      <td>...</td>\n",
       "      <td>20.000000</td>\n",
       "      <td>1.000000</td>\n",
       "      <td>1.000000</td>\n",
       "      <td>1.000000</td>\n",
       "      <td>1.000000</td>\n",
       "      <td>1.000000</td>\n",
       "      <td>1.000000</td>\n",
       "      <td>3.0</td>\n",
       "      <td>11.0</td>\n",
       "      <td>1.000000</td>\n",
       "    </tr>\n",
       "  </tbody>\n",
       "</table>\n",
       "<p>8 rows × 26 columns</p>\n",
       "</div>"
      ],
      "text/plain": [
       "                 ID   Year_Birth         Income      Kidhome     Teenhome  \\\n",
       "count   2240.000000  2240.000000    2216.000000  2240.000000  2240.000000   \n",
       "mean    5592.159821  1968.805804   52247.251354     0.444196     0.506250   \n",
       "std     3246.662198    11.984069   25173.076661     0.538398     0.544538   \n",
       "min        0.000000  1893.000000    1730.000000     0.000000     0.000000   \n",
       "25%     2828.250000  1959.000000   35303.000000     0.000000     0.000000   \n",
       "50%     5458.500000  1970.000000   51381.500000     0.000000     0.000000   \n",
       "75%     8427.750000  1977.000000   68522.000000     1.000000     1.000000   \n",
       "max    11191.000000  1996.000000  666666.000000     2.000000     2.000000   \n",
       "\n",
       "           Recency     MntWines    MntFruits  MntMeatProducts  \\\n",
       "count  2240.000000  2240.000000  2240.000000      2240.000000   \n",
       "mean     49.109375   303.935714    26.302232       166.950000   \n",
       "std      28.962453   336.597393    39.773434       225.715373   \n",
       "min       0.000000     0.000000     0.000000         0.000000   \n",
       "25%      24.000000    23.750000     1.000000        16.000000   \n",
       "50%      49.000000   173.500000     8.000000        67.000000   \n",
       "75%      74.000000   504.250000    33.000000       232.000000   \n",
       "max      99.000000  1493.000000   199.000000      1725.000000   \n",
       "\n",
       "       MntFishProducts  ...  NumWebVisitsMonth  AcceptedCmp3  AcceptedCmp4  \\\n",
       "count      2240.000000  ...        2240.000000   2240.000000   2240.000000   \n",
       "mean         37.525446  ...           5.316518      0.072768      0.074554   \n",
       "std          54.628979  ...           2.426645      0.259813      0.262728   \n",
       "min           0.000000  ...           0.000000      0.000000      0.000000   \n",
       "25%           3.000000  ...           3.000000      0.000000      0.000000   \n",
       "50%          12.000000  ...           6.000000      0.000000      0.000000   \n",
       "75%          50.000000  ...           7.000000      0.000000      0.000000   \n",
       "max         259.000000  ...          20.000000      1.000000      1.000000   \n",
       "\n",
       "       AcceptedCmp5  AcceptedCmp1  AcceptedCmp2     Complain  Z_CostContact  \\\n",
       "count   2240.000000   2240.000000   2240.000000  2240.000000         2240.0   \n",
       "mean       0.072768      0.064286      0.013393     0.009375            3.0   \n",
       "std        0.259813      0.245316      0.114976     0.096391            0.0   \n",
       "min        0.000000      0.000000      0.000000     0.000000            3.0   \n",
       "25%        0.000000      0.000000      0.000000     0.000000            3.0   \n",
       "50%        0.000000      0.000000      0.000000     0.000000            3.0   \n",
       "75%        0.000000      0.000000      0.000000     0.000000            3.0   \n",
       "max        1.000000      1.000000      1.000000     1.000000            3.0   \n",
       "\n",
       "       Z_Revenue     Response  \n",
       "count     2240.0  2240.000000  \n",
       "mean        11.0     0.149107  \n",
       "std          0.0     0.356274  \n",
       "min         11.0     0.000000  \n",
       "25%         11.0     0.000000  \n",
       "50%         11.0     0.000000  \n",
       "75%         11.0     0.000000  \n",
       "max         11.0     1.000000  \n",
       "\n",
       "[8 rows x 26 columns]"
      ]
     },
     "execution_count": 7,
     "metadata": {},
     "output_type": "execute_result"
    }
   ],
   "source": [
    "df.describe()"
   ]
  },
  {
   "cell_type": "code",
   "execution_count": 8,
   "id": "a329fe7f",
   "metadata": {},
   "outputs": [
    {
     "data": {
      "text/plain": [
       "Index(['ID', 'Year_Birth', 'Education', 'Marital_Status', 'Income', 'Kidhome',\n",
       "       'Teenhome', 'Dt_Customer', 'Recency', 'MntWines', 'MntFruits',\n",
       "       'MntMeatProducts', 'MntFishProducts', 'MntSweetProducts',\n",
       "       'MntGoldProds', 'NumDealsPurchases', 'NumWebPurchases',\n",
       "       'NumCatalogPurchases', 'NumStorePurchases', 'NumWebVisitsMonth',\n",
       "       'AcceptedCmp3', 'AcceptedCmp4', 'AcceptedCmp5', 'AcceptedCmp1',\n",
       "       'AcceptedCmp2', 'Complain', 'Z_CostContact', 'Z_Revenue', 'Response'],\n",
       "      dtype='object')"
      ]
     },
     "execution_count": 8,
     "metadata": {},
     "output_type": "execute_result"
    }
   ],
   "source": [
    "df.columns"
   ]
  },
  {
   "cell_type": "markdown",
   "id": "8442ee63",
   "metadata": {},
   "source": [
    "**Initial observations:**\n",
    " \n",
    " - No null and missing values in the dataset\n",
    " - there are 3 categorical objects\n",
    " - 'Dt_Customer' needs to be parsed as datetime data type"
   ]
  },
  {
   "cell_type": "markdown",
   "id": "823cb5da",
   "metadata": {},
   "source": [
    "## Cleaning, transforming and visualizing data"
   ]
  },
  {
   "cell_type": "markdown",
   "id": "1f8f1290",
   "metadata": {},
   "source": [
    "###  Categorical Variables "
   ]
  },
  {
   "cell_type": "markdown",
   "id": "2faf0872",
   "metadata": {},
   "source": [
    " - 'Education ' and 'Marital_Status'"
   ]
  },
  {
   "cell_type": "code",
   "execution_count": 9,
   "id": "9269eae9",
   "metadata": {},
   "outputs": [],
   "source": [
    "def bar_plot(variable):\n",
    "    \"\"\"\n",
    "        input: variable ex: \"Education\"\n",
    "        output: value count\n",
    "    \"\"\"\n",
    "    # get feature\n",
    "    var = df[variable]\n",
    "    # count the number of categorical variable\n",
    "    varValue = var.value_counts()                                \n",
    "    \n",
    "    # visualize\n",
    "    plt.figure(figsize = (8,4))\n",
    "   \n",
    "    plt.bar(varValue.index, varValue,width=0.5)                           \n",
    "    plt.xticks(varValue.index, varValue.index.values)             \n",
    "    plt.ylabel(\"Count\")\n",
    "    plt.title(variable)\n",
    "\n",
    "    print(\"{}: \\n{}\".format(variable,varValue))"
   ]
  },
  {
   "cell_type": "code",
   "execution_count": 10,
   "id": "ae88d7bc",
   "metadata": {},
   "outputs": [
    {
     "name": "stdout",
     "output_type": "stream",
     "text": [
      "Education: \n",
      "Graduation    1127\n",
      "PhD            486\n",
      "Master         370\n",
      "2n Cycle       203\n",
      "Basic           54\n",
      "Name: Education, dtype: int64\n",
      "\n",
      "\n",
      "Marital_Status: \n",
      "Married     864\n",
      "Together    580\n",
      "Single      480\n",
      "Divorced    232\n",
      "Widow        77\n",
      "Alone         3\n",
      "Absurd        2\n",
      "YOLO          2\n",
      "Name: Marital_Status, dtype: int64\n",
      "\n",
      "\n"
     ]
    },
    {
     "data": {
      "image/png": "[encoded data removed]",
      "text/plain": [
       "<Figure size 576x288 with 1 Axes>"
      ]
     },
     "metadata": {},
     "output_type": "display_data"
    },
    {
     "data": {
      "image/png": "[encoded data removed]",
      "text/plain": [
       "<Figure size 576x288 with 1 Axes>"
      ]
     },
     "metadata": {},
     "output_type": "display_data"
    }
   ],
   "source": [
    "# visualize two categories: 'Education ' and 'Marital_Status'\n",
    "category = [\"Education\",\"Marital_Status\"]\n",
    "for c in category :\n",
    "    bar_plot(c)\n",
    "    print(\"\\n\")"
   ]
  },
  {
   "cell_type": "code",
   "execution_count": 11,
   "id": "bc436914",
   "metadata": {},
   "outputs": [],
   "source": [
    "# Organize 'Education' and combine the \"Basic\" and \"2n Cycle\" education level into an \"Undergraduate\" level\n",
    "df['Edu'] = df.Education.replace({\"Basic\":\"Undergrad\",\"2n Cycle\":\"Undergrad\", \n",
    "                                            \"Graduation\":\"Grad\", \"Master\":\"Postgrad\",\"PhD\":\"Postgrad\"})"
   ]
  },
  {
   "cell_type": "code",
   "execution_count": 12,
   "id": "6ea7faed",
   "metadata": {},
   "outputs": [],
   "source": [
    "# use 'single' and 'couple' in relationships\n",
    "df['Household'] = df.Marital_Status.replace({\"Married\":\"couple\",\"Together\":\"couple\",\n",
    "                                             \"Absurd\":\"single\",\"Widow\":\"single\",\n",
    "                                             \"YOLO\":\"single\",\"Divorced\":\"single\", \"Single\":\"single\", \"Alone\":\"single\"})"
   ]
  },
  {
   "cell_type": "code",
   "execution_count": 13,
   "id": "d563448a",
   "metadata": {
    "scrolled": true
   },
   "outputs": [
    {
     "data": {
      "image/png": "[encoded data removed]",
      "text/plain": [
       "<Figure size 432x288 with 3 Axes>"
      ]
     },
     "metadata": {},
     "output_type": "display_data"
    }
   ],
   "source": [
    "# Mosaic Plot. It contains four parameters (data,featuresToBeCompare,labelizer, properties) \n",
    "# most people are well educated in the dataset\n",
    "from statsmodels.graphics.mosaicplot import mosaic\n",
    "from itertools import product\n",
    "\n",
    "props={}\n",
    "props[('Grad','couple')]={'facecolor':'red', 'edgecolor':'white'}\n",
    "props[('Grad','single')]={'facecolor':'red', 'edgecolor':'white'}\n",
    "\n",
    "props[('Postgrad','couple')]={'facecolor':'xkcd:aqua','edgecolor':'white'}\n",
    "props[('Postgrad','single')]={'facecolor':'xkcd:aqua','edgecolor':'white'}\n",
    "\n",
    "props[('Undergrad','couple')]={'facecolor':'green','edgecolor':'white'}\n",
    "props[('Undergrad','single')]={'facecolor':'green','edgecolor':'white'}\n",
    "\n",
    "labelizer=lambda k:{('Grad','couple'):713,('Grad','single'):402,('Postgrad','couple'):545,('Postgrad','single'):300, ('Undergrad','couple'):170, ('Undergrad','single'):82 }[k]\n",
    "_= mosaic(df,['Edu','Household'],labelizer=labelizer,properties=props)"
   ]
  },
  {
   "cell_type": "markdown",
   "id": "562c83a2",
   "metadata": {},
   "source": [
    "###  Numeric Features"
   ]
  },
  {
   "cell_type": "code",
   "execution_count": 14,
   "id": "8966e7d1",
   "metadata": {},
   "outputs": [],
   "source": [
    "# 'Age'\n",
    "# find the age of customers and save as a new feature 'Age' \n",
    "df['Age'] = 2022 - df.Year_Birth"
   ]
  },
  {
   "cell_type": "code",
   "execution_count": 15,
   "id": "b08a881b",
   "metadata": {
    "scrolled": true
   },
   "outputs": [
    {
     "data": {
      "text/plain": [
       "Text(0, 0.5, 'Count')"
      ]
     },
     "execution_count": 15,
     "metadata": {},
     "output_type": "execute_result"
    },
    {
     "data": {
      "image/png": "[encoded data removed]",
      "text/plain": [
       "<Figure size 720x360 with 2 Axes>"
      ]
     },
     "metadata": {},
     "output_type": "display_data"
    }
   ],
   "source": [
    "# plot\n",
    "fig, ax = plt.subplots(1, 2, figsize=(10,5))\n",
    "\n",
    "# Specify a horizontal barplot ('barh') as kind of plot (kind=)\n",
    "df.Age.plot(kind='hist', bins=20, ax=ax[0])\n",
    "ax[0].set_title('Age')\n",
    "ax[0].set_ylabel('Count')\n",
    "\n",
    "df.Income.plot(kind='hist', bins=20,  ax=ax[1])\n",
    "ax[1].set_title('Income')\n",
    "ax[1].set_ylabel('Count')"
   ]
  },
  {
   "cell_type": "code",
   "execution_count": 16,
   "id": "a438e53b",
   "metadata": {},
   "outputs": [],
   "source": [
    "# 'AcceptedCmp' 1-6: Customers' responses to the marketing champaign \n",
    "df.rename(columns={'Response': 'AcceptedCmp6'}, inplace=True)"
   ]
  },
  {
   "cell_type": "code",
   "execution_count": 17,
   "id": "c9dd5644",
   "metadata": {},
   "outputs": [
    {
     "data": {
      "image/png": "[encoded data removed]",
      "text/plain": [
       "<Figure size 720x360 with 1 Axes>"
      ]
     },
     "metadata": {},
     "output_type": "display_data"
    }
   ],
   "source": [
    "plt.subplots(figsize=(10, 5))\n",
    "sns.boxplot(x='Household', y='Age', hue='AcceptedCmp6', data=df)\n",
    "plt.xticks(rotation='vertical')\n",
    "plt.xlabel('Household')\n",
    "plt.ylabel('Age')\n",
    "plt.xticks(rotation=0)\n",
    "plt.legend(bbox_to_anchor=(1.1,1));"
   ]
  },
  {
   "cell_type": "code",
   "execution_count": 18,
   "id": "3b070dc6",
   "metadata": {},
   "outputs": [],
   "source": [
    "# 'Children': the total number of children per household\n",
    "df['Children'] = df.Kidhome + df.Teenhome"
   ]
  },
  {
   "cell_type": "code",
   "execution_count": 19,
   "id": "952d65be",
   "metadata": {
    "scrolled": true
   },
   "outputs": [
    {
     "data": {
      "image/png": "[encoded data removed]",
      "text/plain": [
       "<Figure size 720x360 with 1 Axes>"
      ]
     },
     "metadata": {},
     "output_type": "display_data"
    }
   ],
   "source": [
    "plt.subplots(figsize=(10, 5))\n",
    "sns.boxplot(x='Children', y='Age', hue='AcceptedCmp6', data=df)\n",
    "plt.xticks(rotation='vertical')\n",
    "plt.xlabel('Children')\n",
    "plt.ylabel('Age')\n",
    "plt.xticks(rotation=0)\n",
    "plt.legend(bbox_to_anchor=(1.1,1));"
   ]
  },
  {
   "cell_type": "code",
   "execution_count": 20,
   "id": "6f05fab9",
   "metadata": {},
   "outputs": [
    {
     "data": {
      "image/png": "[encoded data removed]",
      "text/plain": [
       "<Figure size 720x360 with 1 Axes>"
      ]
     },
     "metadata": {},
     "output_type": "display_data"
    }
   ],
   "source": [
    "# 'Income' ; # clean outliers\n",
    "df = df[(df.Income > 15000) & (df.Income < 110000)]\n",
    "\n",
    "plt.subplots(figsize=(10, 5))\n",
    "sns.boxplot(x='Edu', y='Income', hue='AcceptedCmp6', data=df)\n",
    "plt.xticks(rotation='vertical')\n",
    "plt.xlabel('Education')\n",
    "plt.ylabel('Income')\n",
    "plt.xticks(rotation=0)\n",
    "plt.legend(bbox_to_anchor=(1.1,1));"
   ]
  },
  {
   "cell_type": "code",
   "execution_count": 21,
   "id": "aaae41c9",
   "metadata": {},
   "outputs": [],
   "source": [
    "#'Age_group' ; # clean outliers\n",
    "df = df.loc[df['Age'] < 100]\n",
    "\n",
    "# use pd.cut() to separate ages into groups\n",
    "df['Age_group'] = pd.cut(df.Age, [20,30,40,50,60,70,80],\n",
    "                         labels=['20-30', '30-40', '40-50', '50-60', '60-70', '70-80'])"
   ]
  },
  {
   "cell_type": "code",
   "execution_count": 22,
   "id": "636315ca",
   "metadata": {
    "scrolled": true
   },
   "outputs": [
    {
     "data": {
      "image/png": "[encoded data removed]",
      "text/plain": [
       "<Figure size 720x360 with 1 Axes>"
      ]
     },
     "metadata": {},
     "output_type": "display_data"
    }
   ],
   "source": [
    "# 'Income' ; \n",
    "plt.subplots(figsize=(10, 5))\n",
    "sns.boxplot(x='Age_group', y='NumWebVisitsMonth', hue='AcceptedCmp6', data=df)\n",
    "plt.xticks(rotation='vertical')\n",
    "plt.xlabel('Age')\n",
    "plt.ylabel('NumWebVisitsMonth')\n",
    "plt.xticks(rotation=0)\n",
    "plt.legend(bbox_to_anchor=(1.1,1));"
   ]
  },
  {
   "cell_type": "code",
   "execution_count": 23,
   "id": "beb41ebe",
   "metadata": {},
   "outputs": [
    {
     "data": {
      "text/html": [
       "<div>\n",
       "<style scoped>\n",
       "    .dataframe tbody tr th:only-of-type {\n",
       "        vertical-align: middle;\n",
       "    }\n",
       "\n",
       "    .dataframe tbody tr th {\n",
       "        vertical-align: top;\n",
       "    }\n",
       "\n",
       "    .dataframe thead th {\n",
       "        text-align: right;\n",
       "    }\n",
       "</style>\n",
       "<table border=\"1\" class=\"dataframe\">\n",
       "  <thead>\n",
       "    <tr style=\"text-align: right;\">\n",
       "      <th></th>\n",
       "      <th>no</th>\n",
       "      <th>yes</th>\n",
       "      <th>ratio</th>\n",
       "    </tr>\n",
       "    <tr>\n",
       "      <th>Age_group</th>\n",
       "      <th></th>\n",
       "      <th></th>\n",
       "      <th></th>\n",
       "    </tr>\n",
       "  </thead>\n",
       "  <tbody>\n",
       "    <tr>\n",
       "      <th>20-30</th>\n",
       "      <td>20</td>\n",
       "      <td>5</td>\n",
       "      <td>20.00</td>\n",
       "    </tr>\n",
       "    <tr>\n",
       "      <th>30-40</th>\n",
       "      <td>235</td>\n",
       "      <td>64</td>\n",
       "      <td>21.40</td>\n",
       "    </tr>\n",
       "    <tr>\n",
       "      <th>40-50</th>\n",
       "      <td>542</td>\n",
       "      <td>82</td>\n",
       "      <td>13.14</td>\n",
       "    </tr>\n",
       "    <tr>\n",
       "      <th>50-60</th>\n",
       "      <td>488</td>\n",
       "      <td>81</td>\n",
       "      <td>14.24</td>\n",
       "    </tr>\n",
       "    <tr>\n",
       "      <th>60-70</th>\n",
       "      <td>394</td>\n",
       "      <td>67</td>\n",
       "      <td>14.53</td>\n",
       "    </tr>\n",
       "    <tr>\n",
       "      <th>70-80</th>\n",
       "      <td>143</td>\n",
       "      <td>29</td>\n",
       "      <td>16.86</td>\n",
       "    </tr>\n",
       "  </tbody>\n",
       "</table>\n",
       "</div>"
      ],
      "text/plain": [
       "            no  yes  ratio\n",
       "Age_group                 \n",
       "20-30       20    5  20.00\n",
       "30-40      235   64  21.40\n",
       "40-50      542   82  13.14\n",
       "50-60      488   81  14.24\n",
       "60-70      394   67  14.53\n",
       "70-80      143   29  16.86"
      ]
     },
     "execution_count": 23,
     "metadata": {},
     "output_type": "execute_result"
    }
   ],
   "source": [
    "# crosstable\n",
    "crosstable=pd.crosstab(df['Age_group'], df['AcceptedCmp6'])\n",
    "\n",
    "crosstable.columns = ['no', 'yes']\n",
    "crosstable['ratio'] = round(crosstable.yes * 100.0 /(crosstable.no + crosstable.yes), 2)\n",
    "crosstable"
   ]
  },
  {
   "cell_type": "markdown",
   "id": "9cb04227",
   "metadata": {},
   "source": [
    "###  Data Wrangling \n",
    " <br>\n",
    "The first thing is a way to compare customers behaviors. Look at the customer information closely and re-organize them into new categories. And look for trends which can help business formulate future offers.\n",
    "\n",
    "The 0/1 indicators are for whether or not customers responded to a given offer."
   ]
  },
  {
   "cell_type": "markdown",
   "id": "9865f2d3",
   "metadata": {},
   "source": [
    " - 'Dt_Customer' - Date of customer's enrollment with the company: Get the number of days the customers enrolled as 'Days_Enrolled'"
   ]
  },
  {
   "cell_type": "code",
   "execution_count": 24,
   "id": "e9708713",
   "metadata": {},
   "outputs": [],
   "source": [
    "# use pd.to_datetime() to parse the values in the column 'Dt_Customer\n",
    "df['Dt_Customer']= pd.to_datetime(df.Dt_Customer)"
   ]
  },
  {
   "cell_type": "code",
   "execution_count": 25,
   "id": "19f4474a",
   "metadata": {},
   "outputs": [],
   "source": [
    "# use datetime.today() to get number of days the customers enrolled \n",
    "df['Days_Enrolled'] = datetime.today() - df.Dt_Customer"
   ]
  },
  {
   "cell_type": "code",
   "execution_count": 26,
   "id": "3125bf40",
   "metadata": {},
   "outputs": [],
   "source": [
    "# use .dt.days to exrtact days in timedelta data type;\n",
    "# https://stackoverflow.com/questions/31283001/get-total-number-of-hours-from-a-pandas-timedelta\n",
    "df['Days_Enrolled'] = df.Days_Enrolled.dt.days"
   ]
  },
  {
   "cell_type": "markdown",
   "id": "27f94332",
   "metadata": {},
   "source": [
    " - rename the purchased products"
   ]
  },
  {
   "cell_type": "code",
   "execution_count": 27,
   "id": "663b889d",
   "metadata": {},
   "outputs": [],
   "source": [
    "# rename the purchased products\n",
    "old = [\"MntWines\", \"MntFruits\", \"MntMeatProducts\", \"MntFishProducts\", \"MntSweetProducts\", \"MntGoldProds\"]\n",
    "new = [\"Wines\",\"Fruits\",\"Meat\", \"Fish\",\"Sweets\",\"Gold\"]\n",
    "df.rename(columns=dict(zip(old, new)), inplace=True)"
   ]
  },
  {
   "cell_type": "code",
   "execution_count": 28,
   "id": "dde8df47",
   "metadata": {},
   "outputs": [
    {
     "data": {
      "image/png": "[encoded data removed]",
      "text/plain": [
       "<Figure size 1152x576 with 6 Axes>"
      ]
     },
     "metadata": {},
     "output_type": "display_data"
    }
   ],
   "source": [
    "fig, axs = plt.subplots(2, 3, figsize=(16,8)) \n",
    "\n",
    "sns.histplot(data=df, x=\"Wines\", kde=True, color=\"teal\", ax=axs[0, 0])\n",
    "sns.histplot(data=df, x=\"Fruits\", kde=True, color=\"teal\", ax=axs[0, 1])\n",
    "sns.histplot(data=df, x=\"Meat\", kde=True, color=\"teal\", ax=axs[0, 2])\n",
    "sns.histplot(data=df, x=\"Fish\", kde=True, color=\"indigo\", ax=axs[1, 0])\n",
    "sns.histplot(data=df, x=\"Sweets\", kde=True, color=\"indigo\", ax=axs[1, 1])\n",
    "sns.histplot(data=df, x=\"Gold\", kde=True, color=\"indigo\", ax=axs[1, 2])\n",
    "\n",
    "plt.show()"
   ]
  },
  {
   "cell_type": "markdown",
   "id": "bda9fa84",
   "metadata": {},
   "source": [
    "### A visual summary of the expenses of people at different ages \n",
    "Visualizing and retrieving the relational information between independent variables."
   ]
  },
  {
   "cell_type": "code",
   "execution_count": 29,
   "id": "e6272d66",
   "metadata": {},
   "outputs": [],
   "source": [
    "byspent = pd.melt(df[['AcceptedCmp6', 'Wines', 'Fruits', 'Meat', 'Fish','Sweets', 'Gold']],\n",
    "                id_vars='AcceptedCmp6',\n",
    "                var_name='Products',\n",
    "                value_vars=['Wines', 'Fruits', 'Meat', 'Fish','Sweets', 'Gold'],\n",
    "                value_name='Expenses')"
   ]
  },
  {
   "cell_type": "code",
   "execution_count": 30,
   "id": "4b404595",
   "metadata": {},
   "outputs": [
    {
     "data": {
      "text/html": [
       "<div>\n",
       "<style scoped>\n",
       "    .dataframe tbody tr th:only-of-type {\n",
       "        vertical-align: middle;\n",
       "    }\n",
       "\n",
       "    .dataframe tbody tr th {\n",
       "        vertical-align: top;\n",
       "    }\n",
       "\n",
       "    .dataframe thead th {\n",
       "        text-align: right;\n",
       "    }\n",
       "</style>\n",
       "<table border=\"1\" class=\"dataframe\">\n",
       "  <thead>\n",
       "    <tr style=\"text-align: right;\">\n",
       "      <th></th>\n",
       "      <th>AcceptedCmp6</th>\n",
       "      <th>Products</th>\n",
       "      <th>Expenses</th>\n",
       "    </tr>\n",
       "  </thead>\n",
       "  <tbody>\n",
       "    <tr>\n",
       "      <th>0</th>\n",
       "      <td>1</td>\n",
       "      <td>Wines</td>\n",
       "      <td>635</td>\n",
       "    </tr>\n",
       "    <tr>\n",
       "      <th>1</th>\n",
       "      <td>0</td>\n",
       "      <td>Wines</td>\n",
       "      <td>11</td>\n",
       "    </tr>\n",
       "    <tr>\n",
       "      <th>2</th>\n",
       "      <td>0</td>\n",
       "      <td>Wines</td>\n",
       "      <td>426</td>\n",
       "    </tr>\n",
       "    <tr>\n",
       "      <th>3</th>\n",
       "      <td>0</td>\n",
       "      <td>Wines</td>\n",
       "      <td>11</td>\n",
       "    </tr>\n",
       "    <tr>\n",
       "      <th>4</th>\n",
       "      <td>0</td>\n",
       "      <td>Wines</td>\n",
       "      <td>173</td>\n",
       "    </tr>\n",
       "    <tr>\n",
       "      <th>...</th>\n",
       "      <td>...</td>\n",
       "      <td>...</td>\n",
       "      <td>...</td>\n",
       "    </tr>\n",
       "    <tr>\n",
       "      <th>12907</th>\n",
       "      <td>0</td>\n",
       "      <td>Gold</td>\n",
       "      <td>247</td>\n",
       "    </tr>\n",
       "    <tr>\n",
       "      <th>12908</th>\n",
       "      <td>0</td>\n",
       "      <td>Gold</td>\n",
       "      <td>8</td>\n",
       "    </tr>\n",
       "    <tr>\n",
       "      <th>12909</th>\n",
       "      <td>0</td>\n",
       "      <td>Gold</td>\n",
       "      <td>24</td>\n",
       "    </tr>\n",
       "    <tr>\n",
       "      <th>12910</th>\n",
       "      <td>0</td>\n",
       "      <td>Gold</td>\n",
       "      <td>61</td>\n",
       "    </tr>\n",
       "    <tr>\n",
       "      <th>12911</th>\n",
       "      <td>1</td>\n",
       "      <td>Gold</td>\n",
       "      <td>21</td>\n",
       "    </tr>\n",
       "  </tbody>\n",
       "</table>\n",
       "<p>12912 rows × 3 columns</p>\n",
       "</div>"
      ],
      "text/plain": [
       "       AcceptedCmp6 Products  Expenses\n",
       "0                 1    Wines       635\n",
       "1                 0    Wines        11\n",
       "2                 0    Wines       426\n",
       "3                 0    Wines        11\n",
       "4                 0    Wines       173\n",
       "...             ...      ...       ...\n",
       "12907             0     Gold       247\n",
       "12908             0     Gold         8\n",
       "12909             0     Gold        24\n",
       "12910             0     Gold        61\n",
       "12911             1     Gold        21\n",
       "\n",
       "[12912 rows x 3 columns]"
      ]
     },
     "execution_count": 30,
     "metadata": {},
     "output_type": "execute_result"
    }
   ],
   "source": [
    "byspent"
   ]
  },
  {
   "cell_type": "code",
   "execution_count": 31,
   "id": "c2547f2e",
   "metadata": {
    "scrolled": true
   },
   "outputs": [
    {
     "data": {
      "image/png": "[encoded data removed]",
      "text/plain": [
       "<Figure size 864x504 with 1 Axes>"
      ]
     },
     "metadata": {},
     "output_type": "display_data"
    }
   ],
   "source": [
    "plt.subplots(figsize=(12, 7))\n",
    "sns.boxplot(x='Products', y='Expenses', hue='AcceptedCmp6', data=byspent)\n",
    "plt.xticks(rotation='vertical')\n",
    "plt.xlabel('Products')\n",
    "plt.ylabel('Expense ($)');"
   ]
  },
  {
   "cell_type": "code",
   "execution_count": 32,
   "id": "c59277e0",
   "metadata": {},
   "outputs": [],
   "source": [
    "# by age\n",
    "byage = df.groupby(['Age_group']).mean()"
   ]
  },
  {
   "cell_type": "code",
   "execution_count": 33,
   "id": "04eae76f",
   "metadata": {},
   "outputs": [
    {
     "data": {
      "text/html": [
       "<div>\n",
       "<style scoped>\n",
       "    .dataframe tbody tr th:only-of-type {\n",
       "        vertical-align: middle;\n",
       "    }\n",
       "\n",
       "    .dataframe tbody tr th {\n",
       "        vertical-align: top;\n",
       "    }\n",
       "\n",
       "    .dataframe thead th {\n",
       "        text-align: right;\n",
       "    }\n",
       "</style>\n",
       "<table border=\"1\" class=\"dataframe\">\n",
       "  <thead>\n",
       "    <tr style=\"text-align: right;\">\n",
       "      <th></th>\n",
       "      <th>ID</th>\n",
       "      <th>Year_Birth</th>\n",
       "      <th>Income</th>\n",
       "      <th>Kidhome</th>\n",
       "      <th>Teenhome</th>\n",
       "      <th>Recency</th>\n",
       "      <th>Wines</th>\n",
       "      <th>Fruits</th>\n",
       "      <th>Meat</th>\n",
       "      <th>Fish</th>\n",
       "      <th>...</th>\n",
       "      <th>AcceptedCmp5</th>\n",
       "      <th>AcceptedCmp1</th>\n",
       "      <th>AcceptedCmp2</th>\n",
       "      <th>Complain</th>\n",
       "      <th>Z_CostContact</th>\n",
       "      <th>Z_Revenue</th>\n",
       "      <th>AcceptedCmp6</th>\n",
       "      <th>Age</th>\n",
       "      <th>Children</th>\n",
       "      <th>Days_Enrolled</th>\n",
       "    </tr>\n",
       "    <tr>\n",
       "      <th>Age_group</th>\n",
       "      <th></th>\n",
       "      <th></th>\n",
       "      <th></th>\n",
       "      <th></th>\n",
       "      <th></th>\n",
       "      <th></th>\n",
       "      <th></th>\n",
       "      <th></th>\n",
       "      <th></th>\n",
       "      <th></th>\n",
       "      <th></th>\n",
       "      <th></th>\n",
       "      <th></th>\n",
       "      <th></th>\n",
       "      <th></th>\n",
       "      <th></th>\n",
       "      <th></th>\n",
       "      <th></th>\n",
       "      <th></th>\n",
       "      <th></th>\n",
       "      <th></th>\n",
       "    </tr>\n",
       "  </thead>\n",
       "  <tbody>\n",
       "    <tr>\n",
       "      <th>20-30</th>\n",
       "      <td>5642.520000</td>\n",
       "      <td>1993.040000</td>\n",
       "      <td>61840.960000</td>\n",
       "      <td>0.120000</td>\n",
       "      <td>0.000000</td>\n",
       "      <td>46.240000</td>\n",
       "      <td>345.320000</td>\n",
       "      <td>42.320000</td>\n",
       "      <td>350.680000</td>\n",
       "      <td>74.240000</td>\n",
       "      <td>...</td>\n",
       "      <td>0.160000</td>\n",
       "      <td>0.160000</td>\n",
       "      <td>0.040000</td>\n",
       "      <td>0.040000</td>\n",
       "      <td>3.0</td>\n",
       "      <td>11.0</td>\n",
       "      <td>0.200000</td>\n",
       "      <td>28.960000</td>\n",
       "      <td>0.120000</td>\n",
       "      <td>3166.280000</td>\n",
       "    </tr>\n",
       "    <tr>\n",
       "      <th>30-40</th>\n",
       "      <td>5776.819398</td>\n",
       "      <td>1985.682274</td>\n",
       "      <td>46933.986622</td>\n",
       "      <td>0.561873</td>\n",
       "      <td>0.006689</td>\n",
       "      <td>47.739130</td>\n",
       "      <td>262.692308</td>\n",
       "      <td>29.153846</td>\n",
       "      <td>186.936455</td>\n",
       "      <td>38.882943</td>\n",
       "      <td>...</td>\n",
       "      <td>0.130435</td>\n",
       "      <td>0.083612</td>\n",
       "      <td>0.013378</td>\n",
       "      <td>0.010033</td>\n",
       "      <td>3.0</td>\n",
       "      <td>11.0</td>\n",
       "      <td>0.214047</td>\n",
       "      <td>36.317726</td>\n",
       "      <td>0.568562</td>\n",
       "      <td>3168.976589</td>\n",
       "    </tr>\n",
       "    <tr>\n",
       "      <th>40-50</th>\n",
       "      <td>5415.448718</td>\n",
       "      <td>1975.931090</td>\n",
       "      <td>49172.556090</td>\n",
       "      <td>0.596154</td>\n",
       "      <td>0.463141</td>\n",
       "      <td>49.102564</td>\n",
       "      <td>252.304487</td>\n",
       "      <td>23.391026</td>\n",
       "      <td>136.206731</td>\n",
       "      <td>34.089744</td>\n",
       "      <td>...</td>\n",
       "      <td>0.059295</td>\n",
       "      <td>0.056090</td>\n",
       "      <td>0.008013</td>\n",
       "      <td>0.009615</td>\n",
       "      <td>3.0</td>\n",
       "      <td>11.0</td>\n",
       "      <td>0.131410</td>\n",
       "      <td>46.068910</td>\n",
       "      <td>1.059295</td>\n",
       "      <td>3153.685897</td>\n",
       "    </tr>\n",
       "    <tr>\n",
       "      <th>50-60</th>\n",
       "      <td>5505.966608</td>\n",
       "      <td>1967.061511</td>\n",
       "      <td>53050.035149</td>\n",
       "      <td>0.439367</td>\n",
       "      <td>0.667838</td>\n",
       "      <td>49.673111</td>\n",
       "      <td>326.319859</td>\n",
       "      <td>26.613357</td>\n",
       "      <td>157.926186</td>\n",
       "      <td>35.982425</td>\n",
       "      <td>...</td>\n",
       "      <td>0.054482</td>\n",
       "      <td>0.045694</td>\n",
       "      <td>0.015817</td>\n",
       "      <td>0.001757</td>\n",
       "      <td>3.0</td>\n",
       "      <td>11.0</td>\n",
       "      <td>0.142355</td>\n",
       "      <td>54.938489</td>\n",
       "      <td>1.107206</td>\n",
       "      <td>3158.608084</td>\n",
       "    </tr>\n",
       "    <tr>\n",
       "      <th>60-70</th>\n",
       "      <td>5687.633406</td>\n",
       "      <td>1956.455531</td>\n",
       "      <td>57369.626898</td>\n",
       "      <td>0.253796</td>\n",
       "      <td>0.735358</td>\n",
       "      <td>49.631236</td>\n",
       "      <td>371.650759</td>\n",
       "      <td>28.143167</td>\n",
       "      <td>184.674620</td>\n",
       "      <td>41.802603</td>\n",
       "      <td>...</td>\n",
       "      <td>0.069414</td>\n",
       "      <td>0.073753</td>\n",
       "      <td>0.023861</td>\n",
       "      <td>0.013015</td>\n",
       "      <td>3.0</td>\n",
       "      <td>11.0</td>\n",
       "      <td>0.145336</td>\n",
       "      <td>65.544469</td>\n",
       "      <td>0.989154</td>\n",
       "      <td>3163.626898</td>\n",
       "    </tr>\n",
       "  </tbody>\n",
       "</table>\n",
       "<p>5 rows × 29 columns</p>\n",
       "</div>"
      ],
      "text/plain": [
       "                    ID   Year_Birth        Income   Kidhome  Teenhome  \\\n",
       "Age_group                                                               \n",
       "20-30      5642.520000  1993.040000  61840.960000  0.120000  0.000000   \n",
       "30-40      5776.819398  1985.682274  46933.986622  0.561873  0.006689   \n",
       "40-50      5415.448718  1975.931090  49172.556090  0.596154  0.463141   \n",
       "50-60      5505.966608  1967.061511  53050.035149  0.439367  0.667838   \n",
       "60-70      5687.633406  1956.455531  57369.626898  0.253796  0.735358   \n",
       "\n",
       "             Recency       Wines     Fruits        Meat       Fish  ...  \\\n",
       "Age_group                                                           ...   \n",
       "20-30      46.240000  345.320000  42.320000  350.680000  74.240000  ...   \n",
       "30-40      47.739130  262.692308  29.153846  186.936455  38.882943  ...   \n",
       "40-50      49.102564  252.304487  23.391026  136.206731  34.089744  ...   \n",
       "50-60      49.673111  326.319859  26.613357  157.926186  35.982425  ...   \n",
       "60-70      49.631236  371.650759  28.143167  184.674620  41.802603  ...   \n",
       "\n",
       "           AcceptedCmp5  AcceptedCmp1  AcceptedCmp2  Complain  Z_CostContact  \\\n",
       "Age_group                                                                      \n",
       "20-30          0.160000      0.160000      0.040000  0.040000            3.0   \n",
       "30-40          0.130435      0.083612      0.013378  0.010033            3.0   \n",
       "40-50          0.059295      0.056090      0.008013  0.009615            3.0   \n",
       "50-60          0.054482      0.045694      0.015817  0.001757            3.0   \n",
       "60-70          0.069414      0.073753      0.023861  0.013015            3.0   \n",
       "\n",
       "           Z_Revenue  AcceptedCmp6        Age  Children  Days_Enrolled  \n",
       "Age_group                                                               \n",
       "20-30           11.0      0.200000  28.960000  0.120000    3166.280000  \n",
       "30-40           11.0      0.214047  36.317726  0.568562    3168.976589  \n",
       "40-50           11.0      0.131410  46.068910  1.059295    3153.685897  \n",
       "50-60           11.0      0.142355  54.938489  1.107206    3158.608084  \n",
       "60-70           11.0      0.145336  65.544469  0.989154    3163.626898  \n",
       "\n",
       "[5 rows x 29 columns]"
      ]
     },
     "execution_count": 33,
     "metadata": {},
     "output_type": "execute_result"
    }
   ],
   "source": [
    "byage.head()"
   ]
  },
  {
   "cell_type": "code",
   "execution_count": 34,
   "id": "a7c412d5",
   "metadata": {},
   "outputs": [
    {
     "data": {
      "text/html": [
       "<div>\n",
       "<style scoped>\n",
       "    .dataframe tbody tr th:only-of-type {\n",
       "        vertical-align: middle;\n",
       "    }\n",
       "\n",
       "    .dataframe tbody tr th {\n",
       "        vertical-align: top;\n",
       "    }\n",
       "\n",
       "    .dataframe thead th {\n",
       "        text-align: right;\n",
       "    }\n",
       "</style>\n",
       "<table border=\"1\" class=\"dataframe\">\n",
       "  <thead>\n",
       "    <tr style=\"text-align: right;\">\n",
       "      <th></th>\n",
       "      <th>Wines</th>\n",
       "      <th>Fruits</th>\n",
       "      <th>Meat</th>\n",
       "      <th>Fish</th>\n",
       "      <th>Sweets</th>\n",
       "      <th>Gold</th>\n",
       "    </tr>\n",
       "    <tr>\n",
       "      <th>Age_group</th>\n",
       "      <th></th>\n",
       "      <th></th>\n",
       "      <th></th>\n",
       "      <th></th>\n",
       "      <th></th>\n",
       "      <th></th>\n",
       "    </tr>\n",
       "  </thead>\n",
       "  <tbody>\n",
       "    <tr>\n",
       "      <th>20-30</th>\n",
       "      <td>345.320000</td>\n",
       "      <td>42.320000</td>\n",
       "      <td>350.680000</td>\n",
       "      <td>74.240000</td>\n",
       "      <td>42.560000</td>\n",
       "      <td>61.960000</td>\n",
       "    </tr>\n",
       "    <tr>\n",
       "      <th>30-40</th>\n",
       "      <td>262.692308</td>\n",
       "      <td>29.153846</td>\n",
       "      <td>186.936455</td>\n",
       "      <td>38.882943</td>\n",
       "      <td>29.341137</td>\n",
       "      <td>42.749164</td>\n",
       "    </tr>\n",
       "    <tr>\n",
       "      <th>40-50</th>\n",
       "      <td>252.304487</td>\n",
       "      <td>23.391026</td>\n",
       "      <td>136.206731</td>\n",
       "      <td>34.089744</td>\n",
       "      <td>24.932692</td>\n",
       "      <td>39.520833</td>\n",
       "    </tr>\n",
       "    <tr>\n",
       "      <th>50-60</th>\n",
       "      <td>326.319859</td>\n",
       "      <td>26.613357</td>\n",
       "      <td>157.926186</td>\n",
       "      <td>35.982425</td>\n",
       "      <td>26.186292</td>\n",
       "      <td>45.304042</td>\n",
       "    </tr>\n",
       "    <tr>\n",
       "      <th>60-70</th>\n",
       "      <td>371.650759</td>\n",
       "      <td>28.143167</td>\n",
       "      <td>184.674620</td>\n",
       "      <td>41.802603</td>\n",
       "      <td>29.442516</td>\n",
       "      <td>47.681128</td>\n",
       "    </tr>\n",
       "    <tr>\n",
       "      <th>70-80</th>\n",
       "      <td>415.098837</td>\n",
       "      <td>31.401163</td>\n",
       "      <td>214.186047</td>\n",
       "      <td>48.872093</td>\n",
       "      <td>31.325581</td>\n",
       "      <td>51.116279</td>\n",
       "    </tr>\n",
       "  </tbody>\n",
       "</table>\n",
       "</div>"
      ],
      "text/plain": [
       "                Wines     Fruits        Meat       Fish     Sweets       Gold\n",
       "Age_group                                                                    \n",
       "20-30      345.320000  42.320000  350.680000  74.240000  42.560000  61.960000\n",
       "30-40      262.692308  29.153846  186.936455  38.882943  29.341137  42.749164\n",
       "40-50      252.304487  23.391026  136.206731  34.089744  24.932692  39.520833\n",
       "50-60      326.319859  26.613357  157.926186  35.982425  26.186292  45.304042\n",
       "60-70      371.650759  28.143167  184.674620  41.802603  29.442516  47.681128\n",
       "70-80      415.098837  31.401163  214.186047  48.872093  31.325581  51.116279"
      ]
     },
     "execution_count": 34,
     "metadata": {},
     "output_type": "execute_result"
    }
   ],
   "source": [
    "# young people spend more on meat and senior people spend more on wines...\n",
    "byage[['Wines', 'Fruits', 'Meat', 'Fish', 'Sweets', 'Gold']] "
   ]
  },
  {
   "cell_type": "code",
   "execution_count": 35,
   "id": "edded640",
   "metadata": {},
   "outputs": [
    {
     "data": {
      "image/png": "[encoded data removed]",
      "text/plain": [
       "<Figure size 864x504 with 1 Axes>"
      ]
     },
     "metadata": {},
     "output_type": "display_data"
    }
   ],
   "source": [
    "import matplotlib.ticker as mticker\n",
    "\n",
    "fig, ax = plt.subplots(figsize=(12,7))\n",
    "ax.bar(byage.index, byage['Wines'], label='Wines')\n",
    "ax.bar(byage.index, byage['Fruits'], bottom=byage['Wines'], label='Fruits')\n",
    "ax.bar(byage.index, byage['Meat'], bottom=byage['Wines'] + byage['Fruits'], label='Meat')\n",
    "ax.bar(byage.index, byage['Fish'], bottom=byage['Wines'] + byage['Fruits'] \n",
    "       + byage['Meat'], label='Fish')\n",
    "ax.bar(byage.index, byage['Sweets'], bottom=byage['Wines'] + byage['Fruits'] \n",
    "       + byage['Meat'] + byage['Fish'], label='Sweets')\n",
    "ax.bar(byage.index, byage['Gold'], bottom=byage['Wines'] + byage['Fruits'] \n",
    "       + byage['Meat'] + byage['Fish'] + byage['Sweets'], label='Gold')\n",
    "\n",
    "#ax.set_xticklabels(byage.index, rotation=90)\n",
    "ax.set_xlabel('Age group')\n",
    "ax.set_ylabel('Expense ($)')\n",
    "ax.legend(bbox_to_anchor= (1.02, 1));"
   ]
  },
  {
   "cell_type": "markdown",
   "id": "9ae66576",
   "metadata": {},
   "source": [
    " - The figure above gives us a sense how the average expenses vary from young people to senior people as the following: Young people appear spending more on food (meat and fish) and senior people spending more on wines (less on sweets) while middle-aged people spending the least. "
   ]
  },
  {
   "cell_type": "code",
   "execution_count": 36,
   "id": "f344f049",
   "metadata": {},
   "outputs": [
    {
     "name": "stdout",
     "output_type": "stream",
     "text": [
      "[3]\n",
      "[11]\n"
     ]
    }
   ],
   "source": [
    "# Remove less useful information (Drop columns); 'Z_CostContact' and 'Z_Revenue' are not shown on the variable description. 'Z_CostContact' = 3; 'Z_Revenue' = 11;\n",
    "# 'Recency' - less significant with little variation\n",
    "print(df['Z_CostContact'].unique())\n",
    "print(df['Z_Revenue'].unique())"
   ]
  },
  {
   "cell_type": "code",
   "execution_count": 37,
   "id": "abad4ed7",
   "metadata": {
    "scrolled": false
   },
   "outputs": [],
   "source": [
    "To_Drop = ['ID', 'Year_Birth', 'Education', 'Marital_Status','Kidhome', 'Teenhome', 'Recency', 'Z_CostContact', 'Z_Revenue', 'Complain']\n",
    "df.drop(columns=To_Drop, axis=1, inplace=True)"
   ]
  },
  {
   "cell_type": "code",
   "execution_count": 38,
   "id": "42bd36d3",
   "metadata": {},
   "outputs": [
    {
     "data": {
      "image/png": "[encoded data removed]",
      "text/plain": [
       "<Figure size 1080x720 with 25 Axes>"
      ]
     },
     "metadata": {},
     "output_type": "display_data"
    }
   ],
   "source": [
    "# `hist` method to plot histograms of each of the numeric features\n",
    "# plt.subplots_adjust() with an argument hspace=0.5 to adjust the spacing\n",
    "df.hist(figsize=(15,10))\n",
    "plt.subplots_adjust(hspace=0.5);"
   ]
  },
  {
   "cell_type": "markdown",
   "id": "61ee6d1d",
   "metadata": {},
   "source": [
    "### Saving data"
   ]
  },
  {
   "cell_type": "code",
   "execution_count": 39,
   "id": "641998c8",
   "metadata": {},
   "outputs": [
    {
     "name": "stdout",
     "output_type": "stream",
     "text": [
      "(2152, 25)\n"
     ]
    }
   ],
   "source": [
    "print(df.shape)"
   ]
  },
  {
   "cell_type": "code",
   "execution_count": 40,
   "id": "7c9f7f97",
   "metadata": {},
   "outputs": [
    {
     "name": "stdout",
     "output_type": "stream",
     "text": [
      "A file already exists with this name.\n",
      "\n",
      "Do you want to overwrite? (Y/N)Y\n",
      "Writing file.  \"./Data\\01_cleaned_data.csv\"\n"
     ]
    }
   ],
   "source": [
    "# save the data to a new csv file\n",
    "datapath = './Data'\n",
    "save_file(df, '01_cleaned_data.csv', datapath)"
   ]
  },
  {
   "cell_type": "markdown",
   "id": "dd313c43",
   "metadata": {},
   "source": [
    "**Conclusions:**\n",
    "   - The dataset has 2152 rows & 25 columns.\n",
    "   - No any missing values in the dataset.\n",
    "   - We could see that the data is right skewed for most of the features (the mean value is larger than median value (50th percentile: 50%). This is an indication that those features have a right skewed data.\n",
    "   - There is a slight imbalance in the feature 'AcceptedCmp6' (The number of people not responded to the last champaign is more than that of accepting the offer)."
   ]
  }
 ],
 "metadata": {
  "kernelspec": {
   "display_name": "Python 3",
   "language": "python",
   "name": "python3"
  },
  "language_info": {
   "codemirror_mode": {
    "name": "ipython",
    "version": 3
   },
   "file_extension": ".py",
   "mimetype": "text/x-python",
   "name": "python",
   "nbconvert_exporter": "python",
   "pygments_lexer": "ipython3",
   "version": "3.7.11"
  },
  "toc": {
   "base_numbering": 1,
   "nav_menu": {},
   "number_sections": true,
   "sideBar": true,
   "skip_h1_title": false,
   "title_cell": "Table of Contents",
   "title_sidebar": "Contents",
   "toc_cell": true,
   "toc_position": {},
   "toc_section_display": true,
   "toc_window_display": true
  }
 },
 "nbformat": 4,
 "nbformat_minor": 5
}
