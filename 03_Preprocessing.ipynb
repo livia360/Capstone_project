{
 "cells": [
  {
   "cell_type": "markdown",
   "id": "a06111e0",
   "metadata": {
    "toc": true
   },
   "source": [
    "<h1>Table of Contents<span class=\"tocSkip\"></span></h1>\n",
    "<div class=\"toc\"><ul class=\"toc-item\"><li><span><a href=\"#Import-libraries-and-load-the-data\" data-toc-modified-id=\"Import-libraries-and-load-the-data-1\"><span class=\"toc-item-num\">1&nbsp;&nbsp;</span>Import libraries and load the data</a></span></li><li><span><a href=\"#Logistic-Regression-Model\" data-toc-modified-id=\"Logistic-Regression-Model-2\"><span class=\"toc-item-num\">2&nbsp;&nbsp;</span>Logistic Regression Model</a></span><ul class=\"toc-item\"><li><ul class=\"toc-item\"><li><span><a href=\"#Train-and-Test-Data-Splits\" data-toc-modified-id=\"Train-and-Test-Data-Splits-2.0.1\"><span class=\"toc-item-num\">2.0.1&nbsp;&nbsp;</span>Train and Test Data Splits</a></span></li><li><span><a href=\"#Hyperparameter-search-using-GridSearchCV\" data-toc-modified-id=\"Hyperparameter-search-using-GridSearchCV-2.0.2\"><span class=\"toc-item-num\">2.0.2&nbsp;&nbsp;</span>Hyperparameter search using GridSearchCV</a></span></li><li><span><a href=\"#Assess-model-performance\" data-toc-modified-id=\"Assess-model-performance-2.0.3\"><span class=\"toc-item-num\">2.0.3&nbsp;&nbsp;</span>Assess model performance</a></span></li></ul></li></ul></li><li><span><a href=\"#Random-Forests-Model\" data-toc-modified-id=\"Random-Forests-Model-3\"><span class=\"toc-item-num\">3&nbsp;&nbsp;</span>Random Forests Model</a></span><ul class=\"toc-item\"><li><ul class=\"toc-item\"><li><span><a href=\"#Hyperparameter-search-using-GridSearchCV\" data-toc-modified-id=\"Hyperparameter-search-using-GridSearchCV-3.0.1\"><span class=\"toc-item-num\">3.0.1&nbsp;&nbsp;</span>Hyperparameter search using GridSearchCV</a></span></li><li><span><a href=\"#Assess-model-performance\" data-toc-modified-id=\"Assess-model-performance-3.0.2\"><span class=\"toc-item-num\">3.0.2&nbsp;&nbsp;</span>Assess model performance</a></span></li></ul></li></ul></li><li><span><a href=\"#K-Nearest-Neighbor-(KNN)-Model\" data-toc-modified-id=\"K-Nearest-Neighbor-(KNN)-Model-4\"><span class=\"toc-item-num\">4&nbsp;&nbsp;</span>K Nearest Neighbor (KNN) Model</a></span><ul class=\"toc-item\"><li><ul class=\"toc-item\"><li><span><a href=\"#Hyperparameter-search-using-GridSearchCV\" data-toc-modified-id=\"Hyperparameter-search-using-GridSearchCV-4.0.1\"><span class=\"toc-item-num\">4.0.1&nbsp;&nbsp;</span>Hyperparameter search using GridSearchCV</a></span></li><li><span><a href=\"#Assess-model-performance\" data-toc-modified-id=\"Assess-model-performance-4.0.2\"><span class=\"toc-item-num\">4.0.2&nbsp;&nbsp;</span>Assess model performance</a></span></li></ul></li></ul></li><li><span><a href=\"#Gradient-Boosting-Model\" data-toc-modified-id=\"Gradient-Boosting-Model-5\"><span class=\"toc-item-num\">5&nbsp;&nbsp;</span>Gradient Boosting Model</a></span></li><li><span><a href=\"#XGBoost\" data-toc-modified-id=\"XGBoost-6\"><span class=\"toc-item-num\">6&nbsp;&nbsp;</span>XGBoost</a></span></li><li><span><a href=\"#Model-Selection\" data-toc-modified-id=\"Model-Selection-7\"><span class=\"toc-item-num\">7&nbsp;&nbsp;</span>Model Selection</a></span><ul class=\"toc-item\"><li><span><a href=\"#Data-Quantity-Assessment\" data-toc-modified-id=\"Data-Quantity-Assessment-7.1\"><span class=\"toc-item-num\">7.1&nbsp;&nbsp;</span>Data Quantity Assessment</a></span></li><li><span><a href=\"#Save-Final-Model\" data-toc-modified-id=\"Save-Final-Model-7.2\"><span class=\"toc-item-num\">7.2&nbsp;&nbsp;</span>Save Final Model</a></span></li></ul></li></ul></div>"
   ]
  },
  {
   "cell_type": "code",
   "execution_count": 1,
   "id": "76bbd0bd",
   "metadata": {},
   "outputs": [],
   "source": [
    "# Preprocessing"
   ]
  },
  {
   "cell_type": "markdown",
   "id": "a20dfe2b",
   "metadata": {},
   "source": [
    "### Import libraries and load the data"
   ]
  },
  {
   "cell_type": "code",
   "execution_count": 11,
   "id": "b7bb2ebb",
   "metadata": {},
   "outputs": [],
   "source": [
    "import pandas as pd\n",
    "import numpy as np\n",
    "import matplotlib.pyplot as plt\n",
    "import seaborn as sns\n",
    "%matplotlib inline\n",
    "\n",
    "from sklearn.model_selection import train_test_split\n",
    "from library.sb_utils import save_file"
   ]
  },
  {
   "cell_type": "code",
   "execution_count": 3,
   "id": "7009ed3f",
   "metadata": {},
   "outputs": [
    {
     "data": {
      "text/html": [
       "<div>\n",
       "<style scoped>\n",
       "    .dataframe tbody tr th:only-of-type {\n",
       "        vertical-align: middle;\n",
       "    }\n",
       "\n",
       "    .dataframe tbody tr th {\n",
       "        vertical-align: top;\n",
       "    }\n",
       "\n",
       "    .dataframe thead th {\n",
       "        text-align: right;\n",
       "    }\n",
       "</style>\n",
       "<table border=\"1\" class=\"dataframe\">\n",
       "  <thead>\n",
       "    <tr style=\"text-align: right;\">\n",
       "      <th></th>\n",
       "      <th>Income</th>\n",
       "      <th>Complain</th>\n",
       "      <th>AcceptedCmp6</th>\n",
       "      <th>Age</th>\n",
       "      <th>Children</th>\n",
       "      <th>Days_Enrolled</th>\n",
       "      <th>TotalExpenses</th>\n",
       "      <th>TotalAcceptedCmp5</th>\n",
       "      <th>TotalNumPurchases</th>\n",
       "      <th>Education_Undergrad</th>\n",
       "      <th>Marital_Status_single</th>\n",
       "    </tr>\n",
       "  </thead>\n",
       "  <tbody>\n",
       "    <tr>\n",
       "      <th>0</th>\n",
       "      <td>58138.0</td>\n",
       "      <td>0</td>\n",
       "      <td>1</td>\n",
       "      <td>58</td>\n",
       "      <td>0</td>\n",
       "      <td>997</td>\n",
       "      <td>1617</td>\n",
       "      <td>0</td>\n",
       "      <td>25</td>\n",
       "      <td>1</td>\n",
       "      <td>1</td>\n",
       "    </tr>\n",
       "    <tr>\n",
       "      <th>1</th>\n",
       "      <td>46344.0</td>\n",
       "      <td>0</td>\n",
       "      <td>0</td>\n",
       "      <td>61</td>\n",
       "      <td>2</td>\n",
       "      <td>151</td>\n",
       "      <td>27</td>\n",
       "      <td>0</td>\n",
       "      <td>6</td>\n",
       "      <td>1</td>\n",
       "      <td>1</td>\n",
       "    </tr>\n",
       "    <tr>\n",
       "      <th>2</th>\n",
       "      <td>71613.0</td>\n",
       "      <td>0</td>\n",
       "      <td>0</td>\n",
       "      <td>50</td>\n",
       "      <td>0</td>\n",
       "      <td>498</td>\n",
       "      <td>776</td>\n",
       "      <td>0</td>\n",
       "      <td>21</td>\n",
       "      <td>1</td>\n",
       "      <td>0</td>\n",
       "    </tr>\n",
       "    <tr>\n",
       "      <th>3</th>\n",
       "      <td>26646.0</td>\n",
       "      <td>0</td>\n",
       "      <td>0</td>\n",
       "      <td>31</td>\n",
       "      <td>1</td>\n",
       "      <td>91</td>\n",
       "      <td>53</td>\n",
       "      <td>0</td>\n",
       "      <td>8</td>\n",
       "      <td>1</td>\n",
       "      <td>0</td>\n",
       "    </tr>\n",
       "    <tr>\n",
       "      <th>4</th>\n",
       "      <td>58293.0</td>\n",
       "      <td>0</td>\n",
       "      <td>0</td>\n",
       "      <td>34</td>\n",
       "      <td>1</td>\n",
       "      <td>347</td>\n",
       "      <td>422</td>\n",
       "      <td>0</td>\n",
       "      <td>19</td>\n",
       "      <td>0</td>\n",
       "      <td>0</td>\n",
       "    </tr>\n",
       "  </tbody>\n",
       "</table>\n",
       "</div>"
      ],
      "text/plain": [
       "    Income  Complain  AcceptedCmp6  Age  Children  Days_Enrolled  \\\n",
       "0  58138.0         0             1   58         0            997   \n",
       "1  46344.0         0             0   61         2            151   \n",
       "2  71613.0         0             0   50         0            498   \n",
       "3  26646.0         0             0   31         1             91   \n",
       "4  58293.0         0             0   34         1            347   \n",
       "\n",
       "   TotalExpenses  TotalAcceptedCmp5  TotalNumPurchases  Education_Undergrad  \\\n",
       "0           1617                  0                 25                    1   \n",
       "1             27                  0                  6                    1   \n",
       "2            776                  0                 21                    1   \n",
       "3             53                  0                  8                    1   \n",
       "4            422                  0                 19                    0   \n",
       "\n",
       "   Marital_Status_single  \n",
       "0                      1  \n",
       "1                      1  \n",
       "2                      0  \n",
       "3                      0  \n",
       "4                      0  "
      ]
     },
     "execution_count": 3,
     "metadata": {},
     "output_type": "execute_result"
    }
   ],
   "source": [
    "df = pd.read_csv('./Data/02_EDA.csv')\n",
    "df.head()"
   ]
  },
  {
   "cell_type": "code",
   "execution_count": 4,
   "id": "90257ea8",
   "metadata": {},
   "outputs": [
    {
     "name": "stdout",
     "output_type": "stream",
     "text": [
      "(2152, 11)\n",
      "<class 'pandas.core.frame.DataFrame'>\n",
      "RangeIndex: 2152 entries, 0 to 2151\n",
      "Data columns (total 11 columns):\n",
      " #   Column                 Non-Null Count  Dtype  \n",
      "---  ------                 --------------  -----  \n",
      " 0   Income                 2152 non-null   float64\n",
      " 1   Complain               2152 non-null   int64  \n",
      " 2   AcceptedCmp6           2152 non-null   int64  \n",
      " 3   Age                    2152 non-null   int64  \n",
      " 4   Children               2152 non-null   int64  \n",
      " 5   Days_Enrolled          2152 non-null   int64  \n",
      " 6   TotalExpenses          2152 non-null   int64  \n",
      " 7   TotalAcceptedCmp5      2152 non-null   int64  \n",
      " 8   TotalNumPurchases      2152 non-null   int64  \n",
      " 9   Education_Undergrad    2152 non-null   int64  \n",
      " 10  Marital_Status_single  2152 non-null   int64  \n",
      "dtypes: float64(1), int64(10)\n",
      "memory usage: 185.1 KB\n"
     ]
    }
   ],
   "source": [
    "print(df.shape)\n",
    "df.info()"
   ]
  },
  {
   "cell_type": "code",
   "execution_count": 5,
   "id": "8317c98a",
   "metadata": {},
   "outputs": [
    {
     "name": "stdout",
     "output_type": "stream",
     "text": [
      "Categorical variables in the dataset: []\n"
     ]
    }
   ],
   "source": [
    "# Get a list of categorical variables\n",
    "s = (df.dtypes == 'object')\n",
    "cat_features = list(s[s].index)\n",
    "print(\"Categorical variables in the dataset:\", cat_features)\n",
    "\n",
    "### labeling encoding the categorical features\n",
    "for cat in cat_features:\n",
    "    label = LabelEncoder()\n",
    "    df[cat] = label.fit_transform(df[cat])\n",
    "df.head()"
   ]
  }
 ],
 "metadata": {
  "kernelspec": {
   "display_name": "Python 3",
   "language": "python",
   "name": "python3"
  },
  "language_info": {
   "codemirror_mode": {
    "name": "ipython",
    "version": 3
   },
   "file_extension": ".py",
   "mimetype": "text/x-python",
   "name": "python",
   "nbconvert_exporter": "python",
   "pygments_lexer": "ipython3",
   "version": "3.7.11"
  },
  "toc": {
   "base_numbering": 1,
   "nav_menu": {},
   "number_sections": true,
   "sideBar": true,
   "skip_h1_title": false,
   "title_cell": "Table of Contents",
   "title_sidebar": "Contents",
   "toc_cell": true,
   "toc_position": {},
   "toc_section_display": true,
   "toc_window_display": false
  }
 },
 "nbformat": 4,
 "nbformat_minor": 5
}
