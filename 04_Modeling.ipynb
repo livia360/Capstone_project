{
 "cells": [
  {
   "cell_type": "markdown",
   "id": "62b9c7e5",
   "metadata": {
    "toc": true
   },
   "source": [
    "<h1>Table of Contents<span class=\"tocSkip\"></span></h1>\n",
    "<div class=\"toc\"><ul class=\"toc-item\"><li><span><a href=\"#Modeling\" data-toc-modified-id=\"Modeling-1\"><span class=\"toc-item-num\">1&nbsp;&nbsp;</span>Modeling</a></span></li><li><span><a href=\"#Import-libraries\" data-toc-modified-id=\"Import-libraries-2\"><span class=\"toc-item-num\">2&nbsp;&nbsp;</span>Import libraries</a></span></li><li><span><a href=\"#Load-the-model\" data-toc-modified-id=\"Load-the-model-3\"><span class=\"toc-item-num\">3&nbsp;&nbsp;</span>Load the model</a></span></li><li><span><a href=\"#Refit-the-model-on-all-the-data\" data-toc-modified-id=\"Refit-the-model-on-all-the-data-4\"><span class=\"toc-item-num\">4&nbsp;&nbsp;</span>Refit the model on all the data</a></span></li><li><span><a href=\"#Prediction-of-customers'-response-to-the-last-marketing-champaign\" data-toc-modified-id=\"Prediction-of-customers'-response-to-the-last-marketing-champaign-5\"><span class=\"toc-item-num\">5&nbsp;&nbsp;</span>Prediction of customers' response to the last marketing champaign</a></span></li><li><span><a href=\"#Conclusion\" data-toc-modified-id=\"Conclusion-6\"><span class=\"toc-item-num\">6&nbsp;&nbsp;</span>Conclusion</a></span></li></ul></div>"
   ]
  },
  {
   "cell_type": "markdown",
   "id": "68888ffb",
   "metadata": {},
   "source": [
    "## Modeling"
   ]
  },
  {
   "cell_type": "markdown",
   "id": "31825045",
   "metadata": {},
   "source": [
    "We can now use final model to predict the customers response to the last marketing champaign, and gain insights into what are the significant features to influence customers to make respond or not."
   ]
  },
  {
   "cell_type": "markdown",
   "id": "38898f05",
   "metadata": {},
   "source": [
    " ## Import libraries"
   ]
  },
  {
   "cell_type": "code",
   "execution_count": 1,
   "id": "9ba9ab1c",
   "metadata": {},
   "outputs": [],
   "source": [
    "import pandas as pd\n",
    "import numpy as np\n",
    "import os\n",
    "import pickle\n",
    "import matplotlib.pyplot as plt\n",
    "import seaborn as sns\n",
    "from sklearn.preprocessing import scale, StandardScaler\n",
    "from sklearn.metrics import accuracy_score, roc_auc_score, roc_curve, confusion_matrix, classification_report, ConfusionMatrixDisplay\n",
    "\n",
    "from sklearn import __version__ as sklearn_version\n",
    "from sklearn.model_selection import cross_validate\n",
    "from library.sb_utils import save_file\n"
   ]
  },
  {
   "cell_type": "markdown",
   "id": "29b5b9db",
   "metadata": {},
   "source": [
    "## Load the model"
   ]
  },
  {
   "cell_type": "code",
   "execution_count": 2,
   "id": "50532b36",
   "metadata": {
    "scrolled": true
   },
   "outputs": [],
   "source": [
    "expected_model_version = '1.0'\n",
    "model_path = '../models/customer_analysis_model.pkl'\n",
    "if os.path.exists(model_path):\n",
    "    with open(model_path, 'rb') as f:\n",
    "        model = pickle.load(f)\n",
    "    if model.version != expected_model_version:\n",
    "        print(\"Expected model version doesn't match version loaded\")\n",
    "    if model.sklearn_version != sklearn_version:\n",
    "        print(\"Warning: model created under different sklearn version\")\n",
    "else:\n",
    "    print(\"Expected model not found\")"
   ]
  },
  {
   "cell_type": "markdown",
   "id": "279b6b02",
   "metadata": {},
   "source": [
    "## Refit the model on all the data"
   ]
  },
  {
   "cell_type": "code",
   "execution_count": 3,
   "id": "1ccc5cc7",
   "metadata": {},
   "outputs": [
    {
     "data": {
      "text/html": [
       "<div>\n",
       "<style scoped>\n",
       "    .dataframe tbody tr th:only-of-type {\n",
       "        vertical-align: middle;\n",
       "    }\n",
       "\n",
       "    .dataframe tbody tr th {\n",
       "        vertical-align: top;\n",
       "    }\n",
       "\n",
       "    .dataframe thead th {\n",
       "        text-align: right;\n",
       "    }\n",
       "</style>\n",
       "<table border=\"1\" class=\"dataframe\">\n",
       "  <thead>\n",
       "    <tr style=\"text-align: right;\">\n",
       "      <th></th>\n",
       "      <th>ID</th>\n",
       "      <th>Income</th>\n",
       "      <th>Age</th>\n",
       "      <th>Children</th>\n",
       "      <th>Days_Enrolled</th>\n",
       "      <th>TotalExpenses</th>\n",
       "      <th>TotalAcceptedCmp5</th>\n",
       "      <th>TotalNumPurchases</th>\n",
       "      <th>Education</th>\n",
       "      <th>Marital_Status</th>\n",
       "      <th>AcceptedCmp6</th>\n",
       "    </tr>\n",
       "  </thead>\n",
       "  <tbody>\n",
       "    <tr>\n",
       "      <th>0</th>\n",
       "      <td>5524</td>\n",
       "      <td>58138.0</td>\n",
       "      <td>58</td>\n",
       "      <td>0</td>\n",
       "      <td>997</td>\n",
       "      <td>1617</td>\n",
       "      <td>0</td>\n",
       "      <td>25</td>\n",
       "      <td>1</td>\n",
       "      <td>1</td>\n",
       "      <td>1</td>\n",
       "    </tr>\n",
       "    <tr>\n",
       "      <th>1</th>\n",
       "      <td>2174</td>\n",
       "      <td>46344.0</td>\n",
       "      <td>61</td>\n",
       "      <td>2</td>\n",
       "      <td>151</td>\n",
       "      <td>27</td>\n",
       "      <td>0</td>\n",
       "      <td>6</td>\n",
       "      <td>1</td>\n",
       "      <td>1</td>\n",
       "      <td>0</td>\n",
       "    </tr>\n",
       "    <tr>\n",
       "      <th>2</th>\n",
       "      <td>4141</td>\n",
       "      <td>71613.0</td>\n",
       "      <td>50</td>\n",
       "      <td>0</td>\n",
       "      <td>498</td>\n",
       "      <td>776</td>\n",
       "      <td>0</td>\n",
       "      <td>21</td>\n",
       "      <td>1</td>\n",
       "      <td>0</td>\n",
       "      <td>0</td>\n",
       "    </tr>\n",
       "    <tr>\n",
       "      <th>3</th>\n",
       "      <td>6182</td>\n",
       "      <td>26646.0</td>\n",
       "      <td>31</td>\n",
       "      <td>1</td>\n",
       "      <td>91</td>\n",
       "      <td>53</td>\n",
       "      <td>0</td>\n",
       "      <td>8</td>\n",
       "      <td>1</td>\n",
       "      <td>0</td>\n",
       "      <td>0</td>\n",
       "    </tr>\n",
       "    <tr>\n",
       "      <th>4</th>\n",
       "      <td>5324</td>\n",
       "      <td>58293.0</td>\n",
       "      <td>34</td>\n",
       "      <td>1</td>\n",
       "      <td>347</td>\n",
       "      <td>422</td>\n",
       "      <td>0</td>\n",
       "      <td>19</td>\n",
       "      <td>0</td>\n",
       "      <td>0</td>\n",
       "      <td>0</td>\n",
       "    </tr>\n",
       "  </tbody>\n",
       "</table>\n",
       "</div>"
      ],
      "text/plain": [
       "     ID   Income  Age  Children  Days_Enrolled  TotalExpenses  \\\n",
       "0  5524  58138.0   58         0            997           1617   \n",
       "1  2174  46344.0   61         2            151             27   \n",
       "2  4141  71613.0   50         0            498            776   \n",
       "3  6182  26646.0   31         1             91             53   \n",
       "4  5324  58293.0   34         1            347            422   \n",
       "\n",
       "   TotalAcceptedCmp5  TotalNumPurchases  Education  Marital_Status  \\\n",
       "0                  0                 25          1               1   \n",
       "1                  0                  6          1               1   \n",
       "2                  0                 21          1               0   \n",
       "3                  0                  8          1               0   \n",
       "4                  0                 19          0               0   \n",
       "\n",
       "   AcceptedCmp6  \n",
       "0             1  \n",
       "1             0  \n",
       "2             0  \n",
       "3             0  \n",
       "4             0  "
      ]
     },
     "execution_count": 3,
     "metadata": {},
     "output_type": "execute_result"
    }
   ],
   "source": [
    "df = pd.read_csv('./Data/03_Preprocessed.csv')\n",
    "df.head()"
   ]
  },
  {
   "cell_type": "code",
   "execution_count": 4,
   "id": "786dcb1c",
   "metadata": {},
   "outputs": [],
   "source": [
    "X = df.drop(['ID', 'AcceptedCmp6'], axis=1)\n",
    "y = df['AcceptedCmp6']\n",
    "\n",
    "scaler = StandardScaler()\n",
    "X = scaler.fit_transform(X)"
   ]
  },
  {
   "cell_type": "code",
   "execution_count": 5,
   "id": "1e22b596",
   "metadata": {},
   "outputs": [
    {
     "data": {
      "text/plain": [
       "(2152, 2152)"
      ]
     },
     "execution_count": 5,
     "metadata": {},
     "output_type": "execute_result"
    }
   ],
   "source": [
    "len(X), len(y)"
   ]
  },
  {
   "cell_type": "code",
   "execution_count": 6,
   "id": "abfe447d",
   "metadata": {},
   "outputs": [
    {
     "data": {
      "text/plain": [
       "Pipeline(steps=[('simpleimputer', SimpleImputer(strategy='median')),\n",
       "                ('standardscaler', None),\n",
       "                ('randomforestclassifier',\n",
       "                 RandomForestClassifier(n_estimators=50, random_state=42))])"
      ]
     },
     "execution_count": 6,
     "metadata": {},
     "output_type": "execute_result"
    }
   ],
   "source": [
    "model.fit(X,y)"
   ]
  },
  {
   "cell_type": "code",
   "execution_count": 7,
   "id": "d6802751",
   "metadata": {},
   "outputs": [],
   "source": [
    "cv_results = cross_validate(model, X, y, scoring='roc_auc', cv=5, n_jobs=-1)"
   ]
  },
  {
   "cell_type": "code",
   "execution_count": 8,
   "id": "cf8dd2ca",
   "metadata": {},
   "outputs": [
    {
     "data": {
      "text/plain": [
       "{'fit_time': array([0.15655327, 0.18251204, 0.17353678, 0.16356254, 0.17450619]),\n",
       " 'score_time': array([0.00897574, 0.00997353, 0.00897646, 0.00899124, 0.01296544]),\n",
       " 'test_score': array([0.8097966 , 0.84385637, 0.83724609, 0.81239199, 0.84682824])}"
      ]
     },
     "execution_count": 8,
     "metadata": {},
     "output_type": "execute_result"
    }
   ],
   "source": [
    "cv_results"
   ]
  },
  {
   "cell_type": "code",
   "execution_count": 9,
   "id": "7cee5020",
   "metadata": {},
   "outputs": [
    {
     "data": {
      "text/plain": [
       "(-0.8300238574211176, 0.01578550688385605)"
      ]
     },
     "execution_count": 9,
     "metadata": {},
     "output_type": "execute_result"
    }
   ],
   "source": [
    "mae_mean, mae_std = np.mean(-1 * cv_results['test_score']), np.std(-1 * cv_results['test_score'])\n",
    "mae_mean, mae_std"
   ]
  },
  {
   "cell_type": "markdown",
   "id": "3e2676fa",
   "metadata": {},
   "source": [
    "These numbers are different to those in the previous step that used a different training data set. They should, however, be consistent.\n",
    "It's important to appreciate that estimates of model performance are subject to the noise and uncertainty of data!"
   ]
  },
  {
   "cell_type": "code",
   "execution_count": 10,
   "id": "0da8c068",
   "metadata": {},
   "outputs": [],
   "source": [
    "y_pred = model.predict(X)"
   ]
  },
  {
   "cell_type": "code",
   "execution_count": 11,
   "id": "d131113a",
   "metadata": {},
   "outputs": [
    {
     "name": "stdout",
     "output_type": "stream",
     "text": [
      "[[1821    3]\n",
      " [  19  309]]\n",
      "              precision    recall  f1-score   support\n",
      "\n",
      "           0       0.99      1.00      0.99      1824\n",
      "           1       0.99      0.94      0.97       328\n",
      "\n",
      "    accuracy                           0.99      2152\n",
      "   macro avg       0.99      0.97      0.98      2152\n",
      "weighted avg       0.99      0.99      0.99      2152\n",
      "\n"
     ]
    },
    {
     "data": {
      "image/png": "[encoded data removed]",
      "text/plain": [
       "<Figure size 432x288 with 2 Axes>"
      ]
     },
     "metadata": {},
     "output_type": "display_data"
    }
   ],
   "source": [
    "print(confusion_matrix(y, y_pred))\n",
    "print(classification_report(y, y_pred))\n",
    "\n",
    "cf = confusion_matrix(y,y_pred)\n",
    "cmd = ConfusionMatrixDisplay(cf)\n",
    "cmd.plot(cmap='Blues')\n",
    "plt.grid(False)\n",
    "plt.show();"
   ]
  },
  {
   "cell_type": "code",
   "execution_count": 12,
   "id": "064ba850",
   "metadata": {},
   "outputs": [
    {
     "name": "stdout",
     "output_type": "stream",
     "text": [
      "ROC_AUC: 0.9994918699186992\n"
     ]
    },
    {
     "data": {
      "image/png": "[encoded data removed]",
      "text/plain": [
       "<Figure size 432x288 with 1 Axes>"
      ]
     },
     "metadata": {},
     "output_type": "display_data"
    }
   ],
   "source": [
    "# Compute predicted probabilities: y_pred_prob\n",
    "y_pred_prob = model.predict_proba(X)[:,1]\n",
    "\n",
    "# Compute and print AUC score\n",
    "print(\"ROC_AUC: {}\".format(roc_auc_score(y, y_pred_prob)))\n",
    "\n",
    "# Generate ROC curve values: fpr, tpr, thresholds\n",
    "fpr, tpr, thresholds = roc_curve(y, y_pred_prob)\n",
    "\n",
    "# Plot ROC curve\n",
    "plt.plot([0, 1], [0, 1], 'r--')\n",
    "plt.plot(fpr, tpr)\n",
    "plt.xlabel('False Positive Rate')\n",
    "plt.ylabel('True Positive Rate')\n",
    "plt.title('ROC Curve')\n",
    "plt.show();"
   ]
  },
  {
   "cell_type": "markdown",
   "id": "4e832624",
   "metadata": {},
   "source": [
    "## Prediction of customers' response to the last marketing champaign "
   ]
  },
  {
   "cell_type": "markdown",
   "id": "452145d1",
   "metadata": {},
   "source": [
    "**Features that came up as important in the modeling (not just final random forest model) included:**\n",
    " - 'Income'\n",
    " - 'Days_Enrolled'\n",
    " - 'TotalExpenses'\n",
    " - 'TotalAcceptedCmp5' - total accepted responses except the last champaign\n",
    " - 'Age'\n",
    " - 'Marital Status'\n",
    " - 'Education'"
   ]
  },
  {
   "cell_type": "markdown",
   "id": "6eda3a19",
   "metadata": {},
   "source": [
    "In terms of Income:\n",
    "Active customers have higher income compare to that of no-response customers.\n",
    "\n",
    "In terms of days_enrolled:\n",
    "Loyal customers are highly responsive as they engaged with company for longer period of time.\n",
    "\n",
    "In terms of Expenses:\n",
    "Customers with more expenses are more responsive.\n",
    "\n",
    "In terms of total number of champaign:\n",
    "Customers with more responses to the first 5 champaign are more active to the last one\n",
    "\n",
    "In terms of Age: \n",
    "Age of these active customer are between 25 to 75. \n",
    "\n",
    "In terms of Marital_status:\n",
    "Couples are slightly more active compare to single people.\n",
    "\n",
    "In terms of Education:\n",
    "customers with UG backgroud are least active to the last champaign.\n"
   ]
  },
  {
   "cell_type": "markdown",
   "id": "905c0103",
   "metadata": {},
   "source": [
    "## Conclusion "
   ]
  },
  {
   "cell_type": "markdown",
   "id": "dc2c6c51",
   "metadata": {},
   "source": [
    " - To solve this binary classification problem, I performed supervised machine learning, trained 5 classification models. After comparing and evaluating the model performance, the final random forest model is selected and further used to predict customers' response to the last champaign based. The model has overall average accuracy of 0.99 and the True Positive Rate 0.94, and perform well on the dataset.\n",
    "\n",
    " - The analysis of customers' family structures, income and spending behaviors and train the machine learning model can help business better plan marketing strategies. Further analysis of the purchased products and locations may generate more insights from the data."
   ]
  }
 ],
 "metadata": {
  "kernelspec": {
   "display_name": "Python 3",
   "language": "python",
   "name": "python3"
  },
  "language_info": {
   "codemirror_mode": {
    "name": "ipython",
    "version": 3
   },
   "file_extension": ".py",
   "mimetype": "text/x-python",
   "name": "python",
   "nbconvert_exporter": "python",
   "pygments_lexer": "ipython3",
   "version": "3.7.11"
  },
  "toc": {
   "base_numbering": 1,
   "nav_menu": {},
   "number_sections": true,
   "sideBar": true,
   "skip_h1_title": false,
   "title_cell": "Table of Contents",
   "title_sidebar": "Contents",
   "toc_cell": true,
   "toc_position": {},
   "toc_section_display": true,
   "toc_window_display": false
  }
 },
 "nbformat": 4,
 "nbformat_minor": 5
}
