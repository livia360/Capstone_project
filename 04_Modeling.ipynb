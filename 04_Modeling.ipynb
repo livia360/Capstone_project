{
 "cells": [
  {
   "cell_type": "markdown",
   "id": "9e33e645",
   "metadata": {
    "toc": true
   },
   "source": [
    "<h1>Table of Contents<span class=\"tocSkip\"></span></h1>\n",
    "<div class=\"toc\"><ul class=\"toc-item\"><li><span><a href=\"#Modeling\" data-toc-modified-id=\"Modeling-1\"><span class=\"toc-item-num\">1&nbsp;&nbsp;</span>Modeling</a></span></li><li><span><a href=\"#Import-libraries\" data-toc-modified-id=\"Import-libraries-2\"><span class=\"toc-item-num\">2&nbsp;&nbsp;</span>Import libraries</a></span></li><li><span><a href=\"#Load-the-model\" data-toc-modified-id=\"Load-the-model-3\"><span class=\"toc-item-num\">3&nbsp;&nbsp;</span>Load the model</a></span></li><li><span><a href=\"#Refit-the-model-on-all-the-data\" data-toc-modified-id=\"Refit-the-model-on-all-the-data-4\"><span class=\"toc-item-num\">4&nbsp;&nbsp;</span>Refit the model on all the data</a></span></li><li><span><a href=\"#Prediction-of-customers'-response-to-the-last-marketing-champaign\" data-toc-modified-id=\"Prediction-of-customers'-response-to-the-last-marketing-champaign-5\"><span class=\"toc-item-num\">5&nbsp;&nbsp;</span>Prediction of customers' response to the last marketing champaign</a></span></li><li><span><a href=\"#Conclusion\" data-toc-modified-id=\"Conclusion-6\"><span class=\"toc-item-num\">6&nbsp;&nbsp;</span>Conclusion</a></span></li></ul></div>"
   ]
  },
  {
   "cell_type": "markdown",
   "id": "26e5b707",
   "metadata": {},
   "source": [
    "## Modeling"
   ]
  },
  {
   "cell_type": "markdown",
   "id": "cf810132",
   "metadata": {},
   "source": [
    "We can now use final model to predict the customers response to the last marketing champaign, and gain insights into what are the significant features to influence customers to make respond or not."
   ]
  },
  {
   "cell_type": "markdown",
   "id": "ffcb2c2e",
   "metadata": {},
   "source": [
    " ## Import libraries"
   ]
  },
  {
   "cell_type": "code",
   "execution_count": 1,
   "id": "e81e5b00",
   "metadata": {},
   "outputs": [],
   "source": [
    "import pandas as pd\n",
    "import numpy as np\n",
    "import os\n",
    "import pickle\n",
    "import matplotlib.pyplot as plt\n",
    "import seaborn as sns\n",
    "from sklearn.preprocessing import scale, StandardScaler\n",
    "from sklearn.ensemble import GradientBoostingClassifier \n",
    "from sklearn.metrics import accuracy_score, roc_auc_score, roc_curve, confusion_matrix, classification_report, ConfusionMatrixDisplay\n",
    "\n",
    "from sklearn import __version__ as sklearn_version\n",
    "from sklearn.model_selection import cross_validate\n",
    "from library.sb_utils import save_file"
   ]
  },
  {
   "cell_type": "markdown",
   "id": "e3412490",
   "metadata": {},
   "source": [
    "## Load the model"
   ]
  },
  {
   "cell_type": "code",
   "execution_count": 2,
   "id": "0b22f6b7",
   "metadata": {
    "scrolled": true
   },
   "outputs": [],
   "source": [
    "expected_model_version = '1.0'\n",
    "model_path = '../models/customer_analysis_model.pkl'\n",
    "if os.path.exists(model_path):\n",
    "    with open(model_path, 'rb') as f:\n",
    "        model = pickle.load(f)\n",
    "    if model.version != expected_model_version:\n",
    "        print(\"Expected model version doesn't match version loaded\")\n",
    "    if model.sklearn_version != sklearn_version:\n",
    "        print(\"Warning: model created under different sklearn version\")\n",
    "else:\n",
    "    print(\"Expected model not found\")"
   ]
  },
  {
   "cell_type": "markdown",
   "id": "825b7fe6",
   "metadata": {},
   "source": [
    "## Refit the model on all the data"
   ]
  },
  {
   "cell_type": "code",
   "execution_count": 3,
   "id": "d5c883a3",
   "metadata": {},
   "outputs": [
    {
     "data": {
      "text/html": [
       "<div>\n",
       "<style scoped>\n",
       "    .dataframe tbody tr th:only-of-type {\n",
       "        vertical-align: middle;\n",
       "    }\n",
       "\n",
       "    .dataframe tbody tr th {\n",
       "        vertical-align: top;\n",
       "    }\n",
       "\n",
       "    .dataframe thead th {\n",
       "        text-align: right;\n",
       "    }\n",
       "</style>\n",
       "<table border=\"1\" class=\"dataframe\">\n",
       "  <thead>\n",
       "    <tr style=\"text-align: right;\">\n",
       "      <th></th>\n",
       "      <th>ID</th>\n",
       "      <th>Income</th>\n",
       "      <th>Age</th>\n",
       "      <th>Children</th>\n",
       "      <th>Days_Enrolled</th>\n",
       "      <th>TotalExpenses</th>\n",
       "      <th>TotalAcceptedCmp5</th>\n",
       "      <th>TotalNumPurchases</th>\n",
       "      <th>Education</th>\n",
       "      <th>Marital_Status</th>\n",
       "      <th>AcceptedCmp6</th>\n",
       "    </tr>\n",
       "  </thead>\n",
       "  <tbody>\n",
       "    <tr>\n",
       "      <th>0</th>\n",
       "      <td>5524</td>\n",
       "      <td>58138.0</td>\n",
       "      <td>58</td>\n",
       "      <td>0</td>\n",
       "      <td>997</td>\n",
       "      <td>1617</td>\n",
       "      <td>0</td>\n",
       "      <td>25</td>\n",
       "      <td>1</td>\n",
       "      <td>1</td>\n",
       "      <td>1</td>\n",
       "    </tr>\n",
       "    <tr>\n",
       "      <th>1</th>\n",
       "      <td>2174</td>\n",
       "      <td>46344.0</td>\n",
       "      <td>61</td>\n",
       "      <td>2</td>\n",
       "      <td>151</td>\n",
       "      <td>27</td>\n",
       "      <td>0</td>\n",
       "      <td>6</td>\n",
       "      <td>1</td>\n",
       "      <td>1</td>\n",
       "      <td>0</td>\n",
       "    </tr>\n",
       "    <tr>\n",
       "      <th>2</th>\n",
       "      <td>4141</td>\n",
       "      <td>71613.0</td>\n",
       "      <td>50</td>\n",
       "      <td>0</td>\n",
       "      <td>498</td>\n",
       "      <td>776</td>\n",
       "      <td>0</td>\n",
       "      <td>21</td>\n",
       "      <td>1</td>\n",
       "      <td>0</td>\n",
       "      <td>0</td>\n",
       "    </tr>\n",
       "    <tr>\n",
       "      <th>3</th>\n",
       "      <td>6182</td>\n",
       "      <td>26646.0</td>\n",
       "      <td>31</td>\n",
       "      <td>1</td>\n",
       "      <td>91</td>\n",
       "      <td>53</td>\n",
       "      <td>0</td>\n",
       "      <td>8</td>\n",
       "      <td>1</td>\n",
       "      <td>0</td>\n",
       "      <td>0</td>\n",
       "    </tr>\n",
       "    <tr>\n",
       "      <th>4</th>\n",
       "      <td>5324</td>\n",
       "      <td>58293.0</td>\n",
       "      <td>34</td>\n",
       "      <td>1</td>\n",
       "      <td>347</td>\n",
       "      <td>422</td>\n",
       "      <td>0</td>\n",
       "      <td>19</td>\n",
       "      <td>0</td>\n",
       "      <td>0</td>\n",
       "      <td>0</td>\n",
       "    </tr>\n",
       "  </tbody>\n",
       "</table>\n",
       "</div>"
      ],
      "text/plain": [
       "     ID   Income  Age  Children  Days_Enrolled  TotalExpenses  \\\n",
       "0  5524  58138.0   58         0            997           1617   \n",
       "1  2174  46344.0   61         2            151             27   \n",
       "2  4141  71613.0   50         0            498            776   \n",
       "3  6182  26646.0   31         1             91             53   \n",
       "4  5324  58293.0   34         1            347            422   \n",
       "\n",
       "   TotalAcceptedCmp5  TotalNumPurchases  Education  Marital_Status  \\\n",
       "0                  0                 25          1               1   \n",
       "1                  0                  6          1               1   \n",
       "2                  0                 21          1               0   \n",
       "3                  0                  8          1               0   \n",
       "4                  0                 19          0               0   \n",
       "\n",
       "   AcceptedCmp6  \n",
       "0             1  \n",
       "1             0  \n",
       "2             0  \n",
       "3             0  \n",
       "4             0  "
      ]
     },
     "execution_count": 3,
     "metadata": {},
     "output_type": "execute_result"
    }
   ],
   "source": [
    "df = pd.read_csv('./Data/03_Preprocessed.csv')\n",
    "df.head()"
   ]
  },
  {
   "cell_type": "code",
   "execution_count": 17,
   "id": "b8f8c498",
   "metadata": {},
   "outputs": [],
   "source": [
    "X = df.drop(['ID', 'AcceptedCmp6'], axis=1)\n",
    "y = df['AcceptedCmp6']\n",
    "\n",
    "X_columns = X.columns\n",
    "\n",
    "scaler = StandardScaler()\n",
    "X = scaler.fit_transform(X)"
   ]
  },
  {
   "cell_type": "code",
   "execution_count": 5,
   "id": "809d3374",
   "metadata": {},
   "outputs": [
    {
     "data": {
      "text/plain": [
       "(2152, 2152)"
      ]
     },
     "execution_count": 5,
     "metadata": {},
     "output_type": "execute_result"
    }
   ],
   "source": [
    "len(X), len(y)"
   ]
  },
  {
   "cell_type": "code",
   "execution_count": 6,
   "id": "c09d565c",
   "metadata": {
    "scrolled": true
   },
   "outputs": [
    {
     "data": {
      "text/plain": [
       "Pipeline(steps=[('simpleimputer', SimpleImputer(strategy='median')),\n",
       "                ('standardscaler', None),\n",
       "                ('randomforestclassifier',\n",
       "                 RandomForestClassifier(n_estimators=50, random_state=42))])"
      ]
     },
     "execution_count": 6,
     "metadata": {},
     "output_type": "execute_result"
    }
   ],
   "source": [
    "model.fit(X,y)"
   ]
  },
  {
   "cell_type": "code",
   "execution_count": 7,
   "id": "384c444d",
   "metadata": {},
   "outputs": [],
   "source": [
    "cv_results = cross_validate(model, X, y, scoring='roc_auc', cv=5, n_jobs=-1)"
   ]
  },
  {
   "cell_type": "code",
   "execution_count": 8,
   "id": "a8e8a2d6",
   "metadata": {},
   "outputs": [
    {
     "name": "stdout",
     "output_type": "stream",
     "text": [
      "[0.8097966  0.84385637 0.83724609 0.81239199 0.84682824]\n"
     ]
    }
   ],
   "source": [
    "print(cv_results['test_score'])"
   ]
  },
  {
   "cell_type": "code",
   "execution_count": 9,
   "id": "a7b82389",
   "metadata": {},
   "outputs": [
    {
     "data": {
      "text/plain": [
       "(-0.8300238574211176, 0.01578550688385605)"
      ]
     },
     "execution_count": 9,
     "metadata": {},
     "output_type": "execute_result"
    }
   ],
   "source": [
    "mae_mean, mae_std = np.mean(-1 * cv_results['test_score']), np.std(-1 * cv_results['test_score'])\n",
    "mae_mean, mae_std"
   ]
  },
  {
   "cell_type": "markdown",
   "id": "e101212d",
   "metadata": {},
   "source": [
    "These numbers are different to those in the previous step that used a different training data set. They should, however, be consistent.\n",
    "It's important to appreciate that estimates of model performance are subject to the noise and uncertainty of data!"
   ]
  },
  {
   "cell_type": "code",
   "execution_count": 10,
   "id": "75a412e4",
   "metadata": {},
   "outputs": [],
   "source": [
    "y_pred = model.predict(X)"
   ]
  },
  {
   "cell_type": "code",
   "execution_count": 11,
   "id": "ef395cfd",
   "metadata": {},
   "outputs": [
    {
     "name": "stdout",
     "output_type": "stream",
     "text": [
      "[[1821    3]\n",
      " [  19  309]]\n",
      "              precision    recall  f1-score   support\n",
      "\n",
      "           0       0.99      1.00      0.99      1824\n",
      "           1       0.99      0.94      0.97       328\n",
      "\n",
      "    accuracy                           0.99      2152\n",
      "   macro avg       0.99      0.97      0.98      2152\n",
      "weighted avg       0.99      0.99      0.99      2152\n",
      "\n"
     ]
    },
    {
     "data": {
      "image/png": "[encoded data removed]",
      "text/plain": [
       "<Figure size 640x480 with 2 Axes>"
      ]
     },
     "metadata": {},
     "output_type": "display_data"
    }
   ],
   "source": [
    "print(confusion_matrix(y, y_pred))\n",
    "print(classification_report(y, y_pred))\n",
    "\n",
    "cf = confusion_matrix(y,y_pred)\n",
    "cmd = ConfusionMatrixDisplay(cf)\n",
    "cmd.plot(cmap='Blues')\n",
    "plt.grid(False)\n",
    "plt.show();"
   ]
  },
  {
   "cell_type": "code",
   "execution_count": 12,
   "id": "58c522ec",
   "metadata": {},
   "outputs": [
    {
     "name": "stdout",
     "output_type": "stream",
     "text": [
      "ROC_AUC: 0.9994918699186992\n"
     ]
    },
    {
     "data": {
      "image/png": "[encoded data removed]",
      "text/plain": [
       "<Figure size 640x480 with 1 Axes>"
      ]
     },
     "metadata": {},
     "output_type": "display_data"
    }
   ],
   "source": [
    "# Compute predicted probabilities: y_pred_prob\n",
    "y_pred_prob = model.predict_proba(X)[:,1]\n",
    "\n",
    "# Compute and print AUC score\n",
    "print(\"ROC_AUC: {}\".format(roc_auc_score(y, y_pred_prob)))\n",
    "\n",
    "# Generate ROC curve values: fpr, tpr, thresholds\n",
    "fpr, tpr, thresholds = roc_curve(y, y_pred_prob)\n",
    "\n",
    "# Plot ROC curve\n",
    "plt.plot([0, 1], [0, 1], 'r--')\n",
    "plt.plot(fpr, tpr)\n",
    "plt.xlabel('False Positive Rate')\n",
    "plt.ylabel('True Positive Rate')\n",
    "plt.title('ROC Curve')\n",
    "plt.show();"
   ]
  },
  {
   "cell_type": "markdown",
   "id": "66032cdc",
   "metadata": {},
   "source": [
    "## Prediction of customers' response to the last marketing champaign "
   ]
  },
  {
   "cell_type": "code",
   "execution_count": 13,
   "id": "1396224f",
   "metadata": {},
   "outputs": [],
   "source": [
    "model_path = '../models/gb_model.pkl'\n",
    "if os.path.exists(model_path):\n",
    "    with open(model_path, 'rb') as f:\n",
    "        gb_model = pickle.load(f)"
   ]
  },
  {
   "cell_type": "code",
   "execution_count": 14,
   "id": "27c56657",
   "metadata": {},
   "outputs": [
    {
     "data": {
      "text/plain": [
       "{'learning_rate': 0.25, 'max_depth': 2, 'max_features': 2, 'n_estimators': 20}"
      ]
     },
     "execution_count": 14,
     "metadata": {},
     "output_type": "execute_result"
    }
   ],
   "source": [
    "gb_model"
   ]
  },
  {
   "cell_type": "code",
   "execution_count": 15,
   "id": "dc1b96be",
   "metadata": {
    "code_folding": [
     0
    ]
   },
   "outputs": [
    {
     "data": {
      "text/plain": [
       "GradientBoostingClassifier(learning_rate=0.75, max_depth=2, max_features=4,\n",
       "                           n_estimators=20, random_state=42)"
      ]
     },
     "execution_count": 15,
     "metadata": {},
     "output_type": "execute_result"
    }
   ],
   "source": [
    "\n",
    "gb_clf = GradientBoostingClassifier(n_estimators=20, learning_rate = 0.75, \n",
    "                                    max_features=4, max_depth = 2, random_state = 42)\n",
    "gb_clf.fit(X, y)"
   ]
  },
  {
   "cell_type": "code",
   "execution_count": 16,
   "id": "59e64efb",
   "metadata": {},
   "outputs": [
    {
     "data": {
      "text/plain": [
       "array([0.16874039, 0.02235629, 0.01388172, 0.11767054, 0.31483311,\n",
       "       0.23272369, 0.01570148, 0.03421224, 0.07988054])"
      ]
     },
     "execution_count": 16,
     "metadata": {},
     "output_type": "execute_result"
    }
   ],
   "source": [
    "gb_clf.feature_importances_"
   ]
  },
  {
   "cell_type": "code",
   "execution_count": 32,
   "id": "13bc025e",
   "metadata": {},
   "outputs": [
    {
     "data": {
      "image/png": "[encoded data removed]",
      "text/plain": [
       "<Figure size 800x400 with 1 Axes>"
      ]
     },
     "metadata": {},
     "output_type": "display_data"
    }
   ],
   "source": [
    "plt.subplots(figsize=(8, 4))\n",
    "imps = gb_clf.feature_importances_\n",
    "\n",
    "rf_feat_imps = pd.Series(imps, index=X_columns).sort_values(ascending=False)\n",
    "rf_feat_imps.plot(kind='bar')\n",
    "plt.xlabel('features')\n",
    "plt.ylabel('importance')\n",
    "plt.xticks(rotation=90)\n",
    "plt.title('Top 5 Important Features', fontsize=14)\n",
    "plt.show();"
   ]
  },
  {
   "cell_type": "markdown",
   "id": "e56edfef",
   "metadata": {},
   "source": [
    "**Top 5 Features that came up as important in the modeling included:**\n",
    "  - 'TotalExpenses'\n",
    "  - 'TotalAcceptedCmp5' - total accepted responses except the last champaign\n",
    "  - 'Income'\n",
    "  - 'Days_Enrolled'\n",
    "  - 'Marital Status'"
   ]
  },
  {
   "cell_type": "markdown",
   "id": "b0820ba7",
   "metadata": {},
   "source": [
    "In terms of Expenses:\n",
    "Customers with more expenses are more responsive to the lat champaign.\n",
    "\n",
    "In terms of total number of champaign:\n",
    "Customers with more responses to the first 5 champaign are more active to the last one\n",
    "\n",
    "In terms of Income:\n",
    "Active customers have higher income compare to that of no-response customers.\n",
    "\n",
    "In terms of days_enrolled:\n",
    "Loyal customers are highly responsive as they engaged with company for longer period of time.\n",
    "\n",
    "In terms of Marital_status:\n",
    "Couples are slightly more active compare to single people."
   ]
  },
  {
   "cell_type": "markdown",
   "id": "ab65ed38",
   "metadata": {},
   "source": [
    "## Conclusion "
   ]
  },
  {
   "cell_type": "markdown",
   "id": "794394c9",
   "metadata": {},
   "source": [
    " - To solve this binary classification problem, I trained 5 different supervised machine learning models. After comparing and evaluating the model performance, the final random forest model is selected and deployed to predict customers' response to the last marketing champaign. \n",
    " - The final random forest model has average accuracy of 0.99 and a strong roc_auc of 0.85, and performs well on the unseen data. Besides, the random forest model is fast to train, easy to tune and not prone to overfitting.\n",
    " - The analysis of customers' family structures, income and spending behaviors can help business better plan marketing strategies. Further analysis of the purchased products and locations may generate more insights from the data."
   ]
  }
 ],
 "metadata": {
  "kernelspec": {
   "display_name": "Python 3",
   "language": "python",
   "name": "python3"
  },
  "language_info": {
   "codemirror_mode": {
    "name": "ipython",
    "version": 3
   },
   "file_extension": ".py",
   "mimetype": "text/x-python",
   "name": "python",
   "nbconvert_exporter": "python",
   "pygments_lexer": "ipython3",
   "version": "3.7.11"
  },
  "toc": {
   "base_numbering": 1,
   "nav_menu": {},
   "number_sections": true,
   "sideBar": true,
   "skip_h1_title": false,
   "title_cell": "Table of Contents",
   "title_sidebar": "Contents",
   "toc_cell": true,
   "toc_position": {},
   "toc_section_display": true,
   "toc_window_display": false
  }
 },
 "nbformat": 4,
 "nbformat_minor": 5
}
