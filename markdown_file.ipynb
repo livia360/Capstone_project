{
 "cells": [
  {
   "cell_type": "code",
   "execution_count": 1,
   "id": "f26ec85b",
   "metadata": {},
   "outputs": [
    {
     "data": {
      "text/plain": [
       "<mdutils.fileutils.fileutils.MarkDownFile at 0x1f5f766e848>"
      ]
     },
     "execution_count": 1,
     "metadata": {},
     "output_type": "execute_result"
    }
   ],
   "source": [
    "from mdutils.mdutils import MdUtils\n",
    "import pandas as pd\n",
    "\n",
    "mdFile = MdUtils(file_name='README.md',title=\"Predict customers' response to the marketing champaign\")\n",
    "mdFile.create_md_file()"
   ]
  },
  {
   "cell_type": "code",
   "execution_count": 2,
   "id": "72eef74d",
   "metadata": {},
   "outputs": [
    {
     "data": {
      "text/plain": [
       "'  \\n![customers](./images/shopping.jpg)'"
      ]
     },
     "execution_count": 2,
     "metadata": {},
     "output_type": "execute_result"
    }
   ],
   "source": [
    "image_text = \"customers\"\n",
    "path = \"./images/shopping.jpg\"\n",
    "mdFile.new_line(mdFile.new_inline_image(text=image_text, path=path))"
   ]
  },
  {
   "cell_type": "code",
   "execution_count": 3,
   "id": "2c2ac8a8",
   "metadata": {},
   "outputs": [
    {
     "data": {
      "text/plain": [
       "'\\n# 1. Introduction\\n'"
      ]
     },
     "execution_count": 3,
     "metadata": {},
     "output_type": "execute_result"
    }
   ],
   "source": [
    "mdFile.new_header(level=1, title='1. Introduction')"
   ]
  },
  {
   "cell_type": "code",
   "execution_count": 4,
   "id": "ff8d389f",
   "metadata": {},
   "outputs": [
    {
     "data": {
      "text/plain": [
       "'  \\n![customers](./images/shopping.jpg)\\n# 1. Introduction\\n\\n\\nCustomer personality analysis is an interesting topic for companies. The dataset is from a competition on Kaggle. To \\npractice and solve the binary classification problems, I have trained 5 machine learning models to this dataset to \\npredict the customers’ response to the marketing campaign, accepting the offer or not, and identified the important \\ninfluential features behind it.\\n\\n'"
      ]
     },
     "execution_count": 4,
     "metadata": {},
     "output_type": "execute_result"
    }
   ],
   "source": [
    "mdFile.new_paragraph(\"Customer personality analysis is an interesting topic for companies. The dataset is from a competition on Kaggle. To practice and solve the binary classification problems, I have trained 5 machine learning models to this dataset to predict the customers’ response to the marketing campaign, accepting the offer or not, and identified the important influential features behind it.\")\n",
    "mdFile.new_paragraph()"
   ]
  },
  {
   "cell_type": "code",
   "execution_count": 5,
   "id": "7cd1800c",
   "metadata": {},
   "outputs": [
    {
     "data": {
      "text/plain": [
       "'  \\n![customers](./images/shopping.jpg)\\n# 1. Introduction\\n\\n\\nCustomer personality analysis is an interesting topic for companies. The dataset is from a competition on Kaggle. To \\npractice and solve the binary classification problems, I have trained 5 machine learning models to this dataset to \\npredict the customers’ response to the marketing campaign, accepting the offer or not, and identified the important \\ninfluential features behind it.\\n\\n\\n\\nThe capstone project contains four parts: data cleaning, exploratory data analysis, preprocessing, final model selection\\n and prediction.The data cleaning includes filling in null values, removing less useful features, and organizing the \\ncategories within the features. EDA is using visualization tools, like bar plots and histograms to look at the \\ndistribution of independent features and their relations to the dependent feature. The preprocessing and training \\nsession split data into train/test datasets, trained and tuned 5 different machine learning models. In the last session,\\n select the best model based on the metric ‘roc_auc” score, refit the model using all available data and predict the \\ncustomers’ response.'"
      ]
     },
     "execution_count": 5,
     "metadata": {},
     "output_type": "execute_result"
    }
   ],
   "source": [
    "mdFile.new_paragraph(\"The capstone project contains four parts: data cleaning, exploratory data analysis, preprocessing, final model selection and prediction.\"\n",
    "                     \"The data cleaning includes filling in null values, removing less useful features, and organizing the categories within the features.\"\n",
    "                     \" EDA is using visualization tools, like bar plots and histograms to look at the distribution of independent features and their relations to the dependent feature.\"\n",
    "                     \" The preprocessing and training session split data into train/test datasets, trained and tuned 5 different machine learning models.\"\n",
    "                     \" In the last session, select the best model based on the metric ‘roc_auc” score, refit the model using all available data and predict the customers’ response.\")"
   ]
  },
  {
   "cell_type": "code",
   "execution_count": 6,
   "id": "314928a9",
   "metadata": {},
   "outputs": [
    {
     "data": {
      "text/plain": [
       "'\\n# 2. Data Cleaning and Wrangling\\n'"
      ]
     },
     "execution_count": 6,
     "metadata": {},
     "output_type": "execute_result"
    }
   ],
   "source": [
    "mdFile.new_header(level=1, title='2. Data Cleaning and Wrangling')"
   ]
  },
  {
   "cell_type": "code",
   "execution_count": 7,
   "id": "f62a3ad3",
   "metadata": {
    "scrolled": true
   },
   "outputs": [
    {
     "data": {
      "text/plain": [
       "'  \\n![customers](./images/shopping.jpg)\\n# 1. Introduction\\n\\n\\nCustomer personality analysis is an interesting topic for companies. The dataset is from a competition on Kaggle. To \\npractice and solve the binary classification problems, I have trained 5 machine learning models to this dataset to \\npredict the customers’ response to the marketing campaign, accepting the offer or not, and identified the important \\ninfluential features behind it.\\n\\n\\n\\nThe capstone project contains four parts: data cleaning, exploratory data analysis, preprocessing, final model selection\\n and prediction.The data cleaning includes filling in null values, removing less useful features, and organizing the \\ncategories within the features. EDA is using visualization tools, like bar plots and histograms to look at the \\ndistribution of independent features and their relations to the dependent feature. The preprocessing and training \\nsession split data into train/test datasets, trained and tuned 5 different machine learning models. In the last session,\\n select the best model based on the metric ‘roc_auc” score, refit the model using all available data and predict the \\ncustomers’ response.\\n# 2. Data Cleaning and Wrangling\\n  \\n![Expenses per Products](./images/expenses.jpg)'"
      ]
     },
     "execution_count": 7,
     "metadata": {},
     "output_type": "execute_result"
    }
   ],
   "source": [
    "image_text = \"Expenses per Products\"\n",
    "path = \"./images/expenses.jpg\"\n",
    "mdFile.new_line(mdFile.new_inline_image(text=image_text, path=path))"
   ]
  },
  {
   "cell_type": "code",
   "execution_count": 8,
   "id": "365d8f8e",
   "metadata": {},
   "outputs": [
    {
     "data": {
      "text/plain": [
       "'  \\n![customers](./images/shopping.jpg)\\n# 1. Introduction\\n\\n\\nCustomer personality analysis is an interesting topic for companies. The dataset is from a competition on Kaggle. To \\npractice and solve the binary classification problems, I have trained 5 machine learning models to this dataset to \\npredict the customers’ response to the marketing campaign, accepting the offer or not, and identified the important \\ninfluential features behind it.\\n\\n\\n\\nThe capstone project contains four parts: data cleaning, exploratory data analysis, preprocessing, final model selection\\n and prediction.The data cleaning includes filling in null values, removing less useful features, and organizing the \\ncategories within the features. EDA is using visualization tools, like bar plots and histograms to look at the \\ndistribution of independent features and their relations to the dependent feature. The preprocessing and training \\nsession split data into train/test datasets, trained and tuned 5 different machine learning models. In the last session,\\n select the best model based on the metric ‘roc_auc” score, refit the model using all available data and predict the \\ncustomers’ response.\\n# 2. Data Cleaning and Wrangling\\n  \\n![Expenses per Products](./images/expenses.jpg)  \\n![Expenses per Age](./images/expenses2.jpg)'"
      ]
     },
     "execution_count": 8,
     "metadata": {},
     "output_type": "execute_result"
    }
   ],
   "source": [
    "image_text = \"Expenses per Age\"\n",
    "path = \"./images/expenses2.jpg\"\n",
    "mdFile.new_line(mdFile.new_inline_image(text=image_text, path=path))"
   ]
  },
  {
   "cell_type": "code",
   "execution_count": 9,
   "id": "a3aa3186",
   "metadata": {},
   "outputs": [
    {
     "data": {
      "text/plain": [
       "'\\n# 3. Exploratory Data Analysis\\n'"
      ]
     },
     "execution_count": 9,
     "metadata": {},
     "output_type": "execute_result"
    }
   ],
   "source": [
    "mdFile.new_header(level=1, title='3. Exploratory Data Analysis')"
   ]
  },
  {
   "cell_type": "code",
   "execution_count": 10,
   "id": "1b16ea3e",
   "metadata": {},
   "outputs": [
    {
     "data": {
      "text/plain": [
       "'  \\n![customers](./images/shopping.jpg)\\n# 1. Introduction\\n\\n\\nCustomer personality analysis is an interesting topic for companies. The dataset is from a competition on Kaggle. To \\npractice and solve the binary classification problems, I have trained 5 machine learning models to this dataset to \\npredict the customers’ response to the marketing campaign, accepting the offer or not, and identified the important \\ninfluential features behind it.\\n\\n\\n\\nThe capstone project contains four parts: data cleaning, exploratory data analysis, preprocessing, final model selection\\n and prediction.The data cleaning includes filling in null values, removing less useful features, and organizing the \\ncategories within the features. EDA is using visualization tools, like bar plots and histograms to look at the \\ndistribution of independent features and their relations to the dependent feature. The preprocessing and training \\nsession split data into train/test datasets, trained and tuned 5 different machine learning models. In the last session,\\n select the best model based on the metric ‘roc_auc” score, refit the model using all available data and predict the \\ncustomers’ response.\\n# 2. Data Cleaning and Wrangling\\n  \\n![Expenses per Products](./images/expenses.jpg)  \\n![Expenses per Age](./images/expenses2.jpg)\\n# 3. Exploratory Data Analysis\\n  \\n![Six marketing champaign](./images/campaign.jpg)'"
      ]
     },
     "execution_count": 10,
     "metadata": {},
     "output_type": "execute_result"
    }
   ],
   "source": [
    "image_text = \"Six marketing champaign\"\n",
    "path = \"./images/campaign.jpg\"\n",
    "mdFile.new_line(mdFile.new_inline_image(text=image_text, path=path))"
   ]
  },
  {
   "cell_type": "code",
   "execution_count": 11,
   "id": "0b4c1497",
   "metadata": {},
   "outputs": [
    {
     "data": {
      "text/plain": [
       "'  \\n![customers](./images/shopping.jpg)\\n# 1. Introduction\\n\\n\\nCustomer personality analysis is an interesting topic for companies. The dataset is from a competition on Kaggle. To \\npractice and solve the binary classification problems, I have trained 5 machine learning models to this dataset to \\npredict the customers’ response to the marketing campaign, accepting the offer or not, and identified the important \\ninfluential features behind it.\\n\\n\\n\\nThe capstone project contains four parts: data cleaning, exploratory data analysis, preprocessing, final model selection\\n and prediction.The data cleaning includes filling in null values, removing less useful features, and organizing the \\ncategories within the features. EDA is using visualization tools, like bar plots and histograms to look at the \\ndistribution of independent features and their relations to the dependent feature. The preprocessing and training \\nsession split data into train/test datasets, trained and tuned 5 different machine learning models. In the last session,\\n select the best model based on the metric ‘roc_auc” score, refit the model using all available data and predict the \\ncustomers’ response.\\n# 2. Data Cleaning and Wrangling\\n  \\n![Expenses per Products](./images/expenses.jpg)  \\n![Expenses per Age](./images/expenses2.jpg)\\n# 3. Exploratory Data Analysis\\n  \\n![Six marketing champaign](./images/campaign.jpg)  \\n![Total expenses](./images/total_expenses1.jpg)'"
      ]
     },
     "execution_count": 11,
     "metadata": {},
     "output_type": "execute_result"
    }
   ],
   "source": [
    "image_text = \"Total expenses\"\n",
    "path = \"./images/total_expenses1.jpg\"\n",
    "mdFile.new_line(mdFile.new_inline_image(text=image_text, path=path))"
   ]
  },
  {
   "cell_type": "code",
   "execution_count": 12,
   "id": "1d3df6c7",
   "metadata": {
    "scrolled": true
   },
   "outputs": [
    {
     "data": {
      "text/plain": [
       "'  \\n![customers](./images/shopping.jpg)\\n# 1. Introduction\\n\\n\\nCustomer personality analysis is an interesting topic for companies. The dataset is from a competition on Kaggle. To \\npractice and solve the binary classification problems, I have trained 5 machine learning models to this dataset to \\npredict the customers’ response to the marketing campaign, accepting the offer or not, and identified the important \\ninfluential features behind it.\\n\\n\\n\\nThe capstone project contains four parts: data cleaning, exploratory data analysis, preprocessing, final model selection\\n and prediction.The data cleaning includes filling in null values, removing less useful features, and organizing the \\ncategories within the features. EDA is using visualization tools, like bar plots and histograms to look at the \\ndistribution of independent features and their relations to the dependent feature. The preprocessing and training \\nsession split data into train/test datasets, trained and tuned 5 different machine learning models. In the last session,\\n select the best model based on the metric ‘roc_auc” score, refit the model using all available data and predict the \\ncustomers’ response.\\n# 2. Data Cleaning and Wrangling\\n  \\n![Expenses per Products](./images/expenses.jpg)  \\n![Expenses per Age](./images/expenses2.jpg)\\n# 3. Exploratory Data Analysis\\n  \\n![Six marketing champaign](./images/campaign.jpg)  \\n![Total expenses](./images/total_expenses1.jpg)  \\n![PCA](./images/pca.jpg)'"
      ]
     },
     "execution_count": 12,
     "metadata": {},
     "output_type": "execute_result"
    }
   ],
   "source": [
    "image_text = \"PCA\"\n",
    "path = \"./images/pca.jpg\"\n",
    "mdFile.new_line(mdFile.new_inline_image(text=image_text, path=path))"
   ]
  },
  {
   "cell_type": "code",
   "execution_count": 13,
   "id": "e2e41ac0",
   "metadata": {},
   "outputs": [
    {
     "data": {
      "text/plain": [
       "'  \\n![customers](./images/shopping.jpg)\\n# 1. Introduction\\n\\n\\nCustomer personality analysis is an interesting topic for companies. The dataset is from a competition on Kaggle. To \\npractice and solve the binary classification problems, I have trained 5 machine learning models to this dataset to \\npredict the customers’ response to the marketing campaign, accepting the offer or not, and identified the important \\ninfluential features behind it.\\n\\n\\n\\nThe capstone project contains four parts: data cleaning, exploratory data analysis, preprocessing, final model selection\\n and prediction.The data cleaning includes filling in null values, removing less useful features, and organizing the \\ncategories within the features. EDA is using visualization tools, like bar plots and histograms to look at the \\ndistribution of independent features and their relations to the dependent feature. The preprocessing and training \\nsession split data into train/test datasets, trained and tuned 5 different machine learning models. In the last session,\\n select the best model based on the metric ‘roc_auc” score, refit the model using all available data and predict the \\ncustomers’ response.\\n# 2. Data Cleaning and Wrangling\\n  \\n![Expenses per Products](./images/expenses.jpg)  \\n![Expenses per Age](./images/expenses2.jpg)\\n# 3. Exploratory Data Analysis\\n  \\n![Six marketing champaign](./images/campaign.jpg)  \\n![Total expenses](./images/total_expenses1.jpg)  \\n![PCA](./images/pca.jpg)\\n\\n**The first two components account for about 60% of the variance, and the first five for over 95%.**   \\n'"
      ]
     },
     "execution_count": 13,
     "metadata": {},
     "output_type": "execute_result"
    }
   ],
   "source": [
    "mdFile.new_paragraph(\"**The first two components account for about 60% of the variance, and the first five for over 95%.** \")\n",
    "mdFile.new_line()"
   ]
  },
  {
   "cell_type": "code",
   "execution_count": 14,
   "id": "359e6c73",
   "metadata": {
    "scrolled": false
   },
   "outputs": [
    {
     "data": {
      "text/plain": [
       "'  \\n![customers](./images/shopping.jpg)\\n# 1. Introduction\\n\\n\\nCustomer personality analysis is an interesting topic for companies. The dataset is from a competition on Kaggle. To \\npractice and solve the binary classification problems, I have trained 5 machine learning models to this dataset to \\npredict the customers’ response to the marketing campaign, accepting the offer or not, and identified the important \\ninfluential features behind it.\\n\\n\\n\\nThe capstone project contains four parts: data cleaning, exploratory data analysis, preprocessing, final model selection\\n and prediction.The data cleaning includes filling in null values, removing less useful features, and organizing the \\ncategories within the features. EDA is using visualization tools, like bar plots and histograms to look at the \\ndistribution of independent features and their relations to the dependent feature. The preprocessing and training \\nsession split data into train/test datasets, trained and tuned 5 different machine learning models. In the last session,\\n select the best model based on the metric ‘roc_auc” score, refit the model using all available data and predict the \\ncustomers’ response.\\n# 2. Data Cleaning and Wrangling\\n  \\n![Expenses per Products](./images/expenses.jpg)  \\n![Expenses per Age](./images/expenses2.jpg)\\n# 3. Exploratory Data Analysis\\n  \\n![Six marketing champaign](./images/campaign.jpg)  \\n![Total expenses](./images/total_expenses1.jpg)  \\n![PCA](./images/pca.jpg)\\n\\n**The first two components account for about 60% of the variance, and the first five for over 95%.**   \\n  \\n![PCA colored by Total expenses](./images/pca2.jpg)'"
      ]
     },
     "execution_count": 14,
     "metadata": {},
     "output_type": "execute_result"
    }
   ],
   "source": [
    "image_text = \"PCA colored by Total expenses\"\n",
    "path = \"./images/pca2.jpg\"\n",
    "mdFile.new_line(mdFile.new_inline_image(text=image_text, path=path))"
   ]
  },
  {
   "cell_type": "code",
   "execution_count": 15,
   "id": "86dcd5cc",
   "metadata": {},
   "outputs": [
    {
     "data": {
      "text/plain": [
       "\"  \\n![customers](./images/shopping.jpg)\\n# 1. Introduction\\n\\n\\nCustomer personality analysis is an interesting topic for companies. The dataset is from a competition on Kaggle. To \\npractice and solve the binary classification problems, I have trained 5 machine learning models to this dataset to \\npredict the customers’ response to the marketing campaign, accepting the offer or not, and identified the important \\ninfluential features behind it.\\n\\n\\n\\nThe capstone project contains four parts: data cleaning, exploratory data analysis, preprocessing, final model selection\\n and prediction.The data cleaning includes filling in null values, removing less useful features, and organizing the \\ncategories within the features. EDA is using visualization tools, like bar plots and histograms to look at the \\ndistribution of independent features and their relations to the dependent feature. The preprocessing and training \\nsession split data into train/test datasets, trained and tuned 5 different machine learning models. In the last session,\\n select the best model based on the metric ‘roc_auc” score, refit the model using all available data and predict the \\ncustomers’ response.\\n# 2. Data Cleaning and Wrangling\\n  \\n![Expenses per Products](./images/expenses.jpg)  \\n![Expenses per Age](./images/expenses2.jpg)\\n# 3. Exploratory Data Analysis\\n  \\n![Six marketing champaign](./images/campaign.jpg)  \\n![Total expenses](./images/total_expenses1.jpg)  \\n![PCA](./images/pca.jpg)\\n\\n**The first two components account for about 60% of the variance, and the first five for over 95%.**   \\n  \\n![PCA colored by Total expenses](./images/pca2.jpg)\\n\\nThe red points representing the upper quartile of 'TotalExpense' and it spreads across the first dimension. There's also\\n a spread of the other quartiles as well.In this representation, the two principal components account for some 60% of \\nthe variance in the data.  \\n\""
      ]
     },
     "execution_count": 15,
     "metadata": {},
     "output_type": "execute_result"
    }
   ],
   "source": [
    "mdFile.new_paragraph(\"The red points representing the upper quartile of 'TotalExpenses' and it spreads across the first dimension. There's also a spread of the other quartiles as well.\"\n",
    "\"In this representation, the two principal components account for some 60% of the variance in the data.\")\n",
    "mdFile.new_line()"
   ]
  },
  {
   "cell_type": "code",
   "execution_count": 16,
   "id": "cba6ff55",
   "metadata": {},
   "outputs": [
    {
     "data": {
      "text/plain": [
       "'\\n# 4. Preporcessing and Training\\n'"
      ]
     },
     "execution_count": 16,
     "metadata": {},
     "output_type": "execute_result"
    }
   ],
   "source": [
    "mdFile.new_header(level=1, title='4. Preporcessing and Training')"
   ]
  },
  {
   "cell_type": "code",
   "execution_count": 17,
   "id": "f2347712",
   "metadata": {},
   "outputs": [],
   "source": [
    "results = pd.read_csv('./Data/03_results.csv')"
   ]
  },
  {
   "cell_type": "code",
   "execution_count": 18,
   "id": "d2af6c40",
   "metadata": {},
   "outputs": [
    {
     "data": {
      "text/plain": [
       "[['LogisticRegression', 0.8531198640887856],\n",
       " ['RandomForestClassifier', 0.8528982697172824],\n",
       " ['KNeighborsClassifier', 0.8089764186656325],\n",
       " ['GradientBoostingClassifier', 0.821228740789984],\n",
       " ['XGBClassifier', 0.827285653611065]]"
      ]
     },
     "execution_count": 18,
     "metadata": {},
     "output_type": "execute_result"
    }
   ],
   "source": [
    "list_auc = results.values.tolist()\n",
    "list_auc"
   ]
  },
  {
   "cell_type": "code",
   "execution_count": 19,
   "id": "4294103c",
   "metadata": {},
   "outputs": [],
   "source": [
    "list_of_strings = [\"Models\", \"ROC_AUC\"]\n",
    "for x in range(5):\n",
    "    list_of_strings.append(list_auc[x][0])\n",
    "    list_of_strings.append(list_auc[x][1])"
   ]
  },
  {
   "cell_type": "code",
   "execution_count": 20,
   "id": "16fc855c",
   "metadata": {},
   "outputs": [
    {
     "data": {
      "text/plain": [
       "'\\n|Models|ROC_AUC|\\n| :---: | :---: |\\n|LogisticRegression|0.8531198640887856|\\n|RandomForestClassifier|0.8528982697172824|\\n|KNeighborsClassifier|0.8089764186656325|\\n|GradientBoostingClassifier|0.821228740789984|\\n|XGBClassifier|0.827285653611065|\\n'"
      ]
     },
     "execution_count": 20,
     "metadata": {},
     "output_type": "execute_result"
    }
   ],
   "source": [
    "mdFile.new_line()\n",
    "mdFile.new_table(columns=2, rows=6, text=list_of_strings, text_align='center')"
   ]
  },
  {
   "cell_type": "code",
   "execution_count": 21,
   "id": "d0a06488",
   "metadata": {},
   "outputs": [
    {
     "data": {
      "text/plain": [
       "'\\n# 5. Modeling\\n'"
      ]
     },
     "execution_count": 21,
     "metadata": {},
     "output_type": "execute_result"
    }
   ],
   "source": [
    "mdFile.new_header(level=1, title='5. Modeling')"
   ]
  },
  {
   "cell_type": "code",
   "execution_count": 22,
   "id": "32dad14d",
   "metadata": {},
   "outputs": [
    {
     "data": {
      "text/plain": [
       "\"  \\n![customers](./images/shopping.jpg)\\n# 1. Introduction\\n\\n\\nCustomer personality analysis is an interesting topic for companies. The dataset is from a competition on Kaggle. To \\npractice and solve the binary classification problems, I have trained 5 machine learning models to this dataset to \\npredict the customers’ response to the marketing campaign, accepting the offer or not, and identified the important \\ninfluential features behind it.\\n\\n\\n\\nThe capstone project contains four parts: data cleaning, exploratory data analysis, preprocessing, final model selection\\n and prediction.The data cleaning includes filling in null values, removing less useful features, and organizing the \\ncategories within the features. EDA is using visualization tools, like bar plots and histograms to look at the \\ndistribution of independent features and their relations to the dependent feature. The preprocessing and training \\nsession split data into train/test datasets, trained and tuned 5 different machine learning models. In the last session,\\n select the best model based on the metric ‘roc_auc” score, refit the model using all available data and predict the \\ncustomers’ response.\\n# 2. Data Cleaning and Wrangling\\n  \\n![Expenses per Products](./images/expenses.jpg)  \\n![Expenses per Age](./images/expenses2.jpg)\\n# 3. Exploratory Data Analysis\\n  \\n![Six marketing champaign](./images/campaign.jpg)  \\n![Total expenses](./images/total_expenses1.jpg)  \\n![PCA](./images/pca.jpg)\\n\\n**The first two components account for about 60% of the variance, and the first five for over 95%.**   \\n  \\n![PCA colored by Total expenses](./images/pca2.jpg)\\n\\nThe red points representing the upper quartile of 'TotalExpense' and it spreads across the first dimension. There's also\\n a spread of the other quartiles as well.In this representation, the two principal components account for some 60% of \\nthe variance in the data.  \\n\\n# 4. Preporcessing and Training\\n  \\n\\n|Models|ROC_AUC|\\n| :---: | :---: |\\n|LogisticRegression|0.8531198640887856|\\n|RandomForestClassifier|0.8528982697172824|\\n|KNeighborsClassifier|0.8089764186656325|\\n|GradientBoostingClassifier|0.821228740789984|\\n|XGBClassifier|0.827285653611065|\\n\\n# 5. Modeling\\n  \\n![top 5 important features](./images/important_features.jpg)\""
      ]
     },
     "execution_count": 22,
     "metadata": {},
     "output_type": "execute_result"
    }
   ],
   "source": [
    "image_text = \"top 5 important features\"\n",
    "path = \"./images/important_features.jpg\"\n",
    "mdFile.new_line(mdFile.new_inline_image(text=image_text, path=path))"
   ]
  },
  {
   "cell_type": "code",
   "execution_count": 23,
   "id": "79e42f1a",
   "metadata": {},
   "outputs": [
    {
     "data": {
      "text/plain": [
       "<mdutils.fileutils.fileutils.MarkDownFile at 0x1f5f6582788>"
      ]
     },
     "execution_count": 23,
     "metadata": {},
     "output_type": "execute_result"
    }
   ],
   "source": [
    "# Create a table of contents\n",
    "# mdFile.new_table_of_contents(table_title='Contents', depth=2)\n",
    "mdFile.create_md_file()"
   ]
  }
 ],
 "metadata": {
  "kernelspec": {
   "display_name": "Python 3",
   "language": "python",
   "name": "python3"
  },
  "language_info": {
   "codemirror_mode": {
    "name": "ipython",
    "version": 3
   },
   "file_extension": ".py",
   "mimetype": "text/x-python",
   "name": "python",
   "nbconvert_exporter": "python",
   "pygments_lexer": "ipython3",
   "version": "3.7.11"
  },
  "toc": {
   "base_numbering": 1,
   "nav_menu": {},
   "number_sections": false,
   "sideBar": true,
   "skip_h1_title": true,
   "title_cell": "Table of Contents",
   "title_sidebar": "Contents",
   "toc_cell": false,
   "toc_position": {},
   "toc_section_display": true,
   "toc_window_display": false
  }
 },
 "nbformat": 4,
 "nbformat_minor": 5
}
