{
 "cells": [
  {
   "cell_type": "markdown",
   "id": "e19f3d43",
   "metadata": {
    "toc": true
   },
   "source": [
    "<h1>Table of Contents<span class=\"tocSkip\"></span></h1>\n",
    "<div class=\"toc\"><ul class=\"toc-item\"><li><span><a href=\"#Import-libraries-and-load-the-data\" data-toc-modified-id=\"Import-libraries-and-load-the-data-1\"><span class=\"toc-item-num\">1&nbsp;&nbsp;</span>Import libraries and load the data</a></span></li><li><span><a href=\"#Logistic-Regression-Model\" data-toc-modified-id=\"Logistic-Regression-Model-2\"><span class=\"toc-item-num\">2&nbsp;&nbsp;</span>Logistic Regression Model</a></span><ul class=\"toc-item\"><li><ul class=\"toc-item\"><li><span><a href=\"#Train-and-Test-Data-Splits\" data-toc-modified-id=\"Train-and-Test-Data-Splits-2.0.1\"><span class=\"toc-item-num\">2.0.1&nbsp;&nbsp;</span>Train and Test Data Splits</a></span></li><li><span><a href=\"#Hyperparameter-search-using-GridSearchCV\" data-toc-modified-id=\"Hyperparameter-search-using-GridSearchCV-2.0.2\"><span class=\"toc-item-num\">2.0.2&nbsp;&nbsp;</span>Hyperparameter search using GridSearchCV</a></span></li><li><span><a href=\"#Assess-model-performance\" data-toc-modified-id=\"Assess-model-performance-2.0.3\"><span class=\"toc-item-num\">2.0.3&nbsp;&nbsp;</span>Assess model performance</a></span></li></ul></li></ul></li><li><span><a href=\"#Random-Forests-Model\" data-toc-modified-id=\"Random-Forests-Model-3\"><span class=\"toc-item-num\">3&nbsp;&nbsp;</span>Random Forests Model</a></span><ul class=\"toc-item\"><li><ul class=\"toc-item\"><li><span><a href=\"#Hyperparameter-search-using-GridSearchCV\" data-toc-modified-id=\"Hyperparameter-search-using-GridSearchCV-3.0.1\"><span class=\"toc-item-num\">3.0.1&nbsp;&nbsp;</span>Hyperparameter search using GridSearchCV</a></span></li><li><span><a href=\"#Assess-model-performance\" data-toc-modified-id=\"Assess-model-performance-3.0.2\"><span class=\"toc-item-num\">3.0.2&nbsp;&nbsp;</span>Assess model performance</a></span></li></ul></li></ul></li><li><span><a href=\"#K-Nearest-Neighbor-(KNN)-Model\" data-toc-modified-id=\"K-Nearest-Neighbor-(KNN)-Model-4\"><span class=\"toc-item-num\">4&nbsp;&nbsp;</span>K Nearest Neighbor (KNN) Model</a></span><ul class=\"toc-item\"><li><ul class=\"toc-item\"><li><span><a href=\"#Hyperparameter-search-using-GridSearchCV\" data-toc-modified-id=\"Hyperparameter-search-using-GridSearchCV-4.0.1\"><span class=\"toc-item-num\">4.0.1&nbsp;&nbsp;</span>Hyperparameter search using GridSearchCV</a></span></li><li><span><a href=\"#Assess-model-performance\" data-toc-modified-id=\"Assess-model-performance-4.0.2\"><span class=\"toc-item-num\">4.0.2&nbsp;&nbsp;</span>Assess model performance</a></span></li></ul></li></ul></li><li><span><a href=\"#Gradient-Boosting-Model\" data-toc-modified-id=\"Gradient-Boosting-Model-5\"><span class=\"toc-item-num\">5&nbsp;&nbsp;</span>Gradient Boosting Model</a></span></li><li><span><a href=\"#XGBoost\" data-toc-modified-id=\"XGBoost-6\"><span class=\"toc-item-num\">6&nbsp;&nbsp;</span>XGBoost</a></span></li><li><span><a href=\"#Model-Selection\" data-toc-modified-id=\"Model-Selection-7\"><span class=\"toc-item-num\">7&nbsp;&nbsp;</span>Model Selection</a></span><ul class=\"toc-item\"><li><span><a href=\"#Data-Quantity-Assessment\" data-toc-modified-id=\"Data-Quantity-Assessment-7.1\"><span class=\"toc-item-num\">7.1&nbsp;&nbsp;</span>Data Quantity Assessment</a></span></li><li><span><a href=\"#Save-Final-Model\" data-toc-modified-id=\"Save-Final-Model-7.2\"><span class=\"toc-item-num\">7.2&nbsp;&nbsp;</span>Save Final Model</a></span></li></ul></li><li><span><a href=\"#Summary-and-further-analysis\" data-toc-modified-id=\"Summary-and-further-analysis-8\"><span class=\"toc-item-num\">8&nbsp;&nbsp;</span>Summary and further analysis</a></span></li></ul></div>"
   ]
  },
  {
   "cell_type": "markdown",
   "id": "ebf8e425",
   "metadata": {},
   "source": [
    "## Import libraries and load the data"
   ]
  },
  {
   "cell_type": "code",
   "execution_count": 1,
   "id": "8eefd241",
   "metadata": {},
   "outputs": [],
   "source": [
    "import pandas as pd\n",
    "import numpy as np\n",
    "import os\n",
    "import pickle\n",
    "import matplotlib.pyplot as plt\n",
    "import seaborn as sns\n",
    "from sklearn import __version__ as sklearn_version\n",
    "from sklearn.decomposition import PCA\n",
    "from sklearn.preprocessing import scale, StandardScaler\n",
    "from sklearn.model_selection import train_test_split, cross_validate, GridSearchCV, learning_curve, cross_val_score\n",
    "from sklearn.preprocessing import OneHotEncoder, StandardScaler, MinMaxScaler, LabelEncoder\n",
    "\n",
    "\n",
    "from sklearn.linear_model import LogisticRegression\n",
    "from sklearn.ensemble import RandomForestRegressor, GradientBoostingClassifier \n",
    "from sklearn.neighbors import KNeighborsClassifier\n",
    "from sklearn.metrics import accuracy_score, roc_auc_score, roc_curve, confusion_matrix, classification_report, ConfusionMatrixDisplay\n",
    "from sklearn.pipeline import make_pipeline\n",
    "from sklearn.feature_selection import SelectKBest, f_regression\n",
    "import datetime\n",
    "\n",
    "from library.sb_utils import save_file\n",
    "%matplotlib inline\n",
    "sns.set_style('whitegrid') \n",
    "# plt.style.use('ggplot')"
   ]
  },
  {
   "cell_type": "code",
   "execution_count": 2,
   "id": "cdcc59bb",
   "metadata": {},
   "outputs": [
    {
     "data": {
      "text/html": [
       "<div>\n",
       "<style scoped>\n",
       "    .dataframe tbody tr th:only-of-type {\n",
       "        vertical-align: middle;\n",
       "    }\n",
       "\n",
       "    .dataframe tbody tr th {\n",
       "        vertical-align: top;\n",
       "    }\n",
       "\n",
       "    .dataframe thead th {\n",
       "        text-align: right;\n",
       "    }\n",
       "</style>\n",
       "<table border=\"1\" class=\"dataframe\">\n",
       "  <thead>\n",
       "    <tr style=\"text-align: right;\">\n",
       "      <th></th>\n",
       "      <th>ID</th>\n",
       "      <th>Income</th>\n",
       "      <th>Age</th>\n",
       "      <th>Children</th>\n",
       "      <th>Days_Enrolled</th>\n",
       "      <th>TotalExpenses</th>\n",
       "      <th>TotalAcceptedCmp5</th>\n",
       "      <th>TotalNumPurchases</th>\n",
       "      <th>Education</th>\n",
       "      <th>Marital_Status</th>\n",
       "      <th>AcceptedCmp6</th>\n",
       "    </tr>\n",
       "  </thead>\n",
       "  <tbody>\n",
       "    <tr>\n",
       "      <th>0</th>\n",
       "      <td>5524</td>\n",
       "      <td>58138.0</td>\n",
       "      <td>58</td>\n",
       "      <td>0</td>\n",
       "      <td>997</td>\n",
       "      <td>1617</td>\n",
       "      <td>0</td>\n",
       "      <td>25</td>\n",
       "      <td>1</td>\n",
       "      <td>1</td>\n",
       "      <td>1</td>\n",
       "    </tr>\n",
       "    <tr>\n",
       "      <th>1</th>\n",
       "      <td>2174</td>\n",
       "      <td>46344.0</td>\n",
       "      <td>61</td>\n",
       "      <td>2</td>\n",
       "      <td>151</td>\n",
       "      <td>27</td>\n",
       "      <td>0</td>\n",
       "      <td>6</td>\n",
       "      <td>1</td>\n",
       "      <td>1</td>\n",
       "      <td>0</td>\n",
       "    </tr>\n",
       "    <tr>\n",
       "      <th>2</th>\n",
       "      <td>4141</td>\n",
       "      <td>71613.0</td>\n",
       "      <td>50</td>\n",
       "      <td>0</td>\n",
       "      <td>498</td>\n",
       "      <td>776</td>\n",
       "      <td>0</td>\n",
       "      <td>21</td>\n",
       "      <td>1</td>\n",
       "      <td>0</td>\n",
       "      <td>0</td>\n",
       "    </tr>\n",
       "    <tr>\n",
       "      <th>3</th>\n",
       "      <td>6182</td>\n",
       "      <td>26646.0</td>\n",
       "      <td>31</td>\n",
       "      <td>1</td>\n",
       "      <td>91</td>\n",
       "      <td>53</td>\n",
       "      <td>0</td>\n",
       "      <td>8</td>\n",
       "      <td>1</td>\n",
       "      <td>0</td>\n",
       "      <td>0</td>\n",
       "    </tr>\n",
       "    <tr>\n",
       "      <th>4</th>\n",
       "      <td>5324</td>\n",
       "      <td>58293.0</td>\n",
       "      <td>34</td>\n",
       "      <td>1</td>\n",
       "      <td>347</td>\n",
       "      <td>422</td>\n",
       "      <td>0</td>\n",
       "      <td>19</td>\n",
       "      <td>0</td>\n",
       "      <td>0</td>\n",
       "      <td>0</td>\n",
       "    </tr>\n",
       "  </tbody>\n",
       "</table>\n",
       "</div>"
      ],
      "text/plain": [
       "     ID   Income  Age  Children  Days_Enrolled  TotalExpenses  \\\n",
       "0  5524  58138.0   58         0            997           1617   \n",
       "1  2174  46344.0   61         2            151             27   \n",
       "2  4141  71613.0   50         0            498            776   \n",
       "3  6182  26646.0   31         1             91             53   \n",
       "4  5324  58293.0   34         1            347            422   \n",
       "\n",
       "   TotalAcceptedCmp5  TotalNumPurchases  Education  Marital_Status  \\\n",
       "0                  0                 25          1               1   \n",
       "1                  0                  6          1               1   \n",
       "2                  0                 21          1               0   \n",
       "3                  0                  8          1               0   \n",
       "4                  0                 19          0               0   \n",
       "\n",
       "   AcceptedCmp6  \n",
       "0             1  \n",
       "1             0  \n",
       "2             0  \n",
       "3             0  \n",
       "4             0  "
      ]
     },
     "execution_count": 2,
     "metadata": {},
     "output_type": "execute_result"
    }
   ],
   "source": [
    "df = pd.read_csv('./Data/03_Preprocessed.csv')\n",
    "df.head()"
   ]
  },
  {
   "cell_type": "code",
   "execution_count": 3,
   "id": "e7dcc0a6",
   "metadata": {},
   "outputs": [
    {
     "name": "stdout",
     "output_type": "stream",
     "text": [
      "(2152, 11)\n",
      "<class 'pandas.core.frame.DataFrame'>\n",
      "RangeIndex: 2152 entries, 0 to 2151\n",
      "Data columns (total 11 columns):\n",
      " #   Column             Non-Null Count  Dtype  \n",
      "---  ------             --------------  -----  \n",
      " 0   ID                 2152 non-null   int64  \n",
      " 1   Income             2152 non-null   float64\n",
      " 2   Age                2152 non-null   int64  \n",
      " 3   Children           2152 non-null   int64  \n",
      " 4   Days_Enrolled      2152 non-null   int64  \n",
      " 5   TotalExpenses      2152 non-null   int64  \n",
      " 6   TotalAcceptedCmp5  2152 non-null   int64  \n",
      " 7   TotalNumPurchases  2152 non-null   int64  \n",
      " 8   Education          2152 non-null   int64  \n",
      " 9   Marital_Status     2152 non-null   int64  \n",
      " 10  AcceptedCmp6       2152 non-null   int64  \n",
      "dtypes: float64(1), int64(10)\n",
      "memory usage: 185.1 KB\n"
     ]
    }
   ],
   "source": [
    "print(df.shape)\n",
    "df.info()"
   ]
  },
  {
   "cell_type": "markdown",
   "id": "0c2e8857",
   "metadata": {},
   "source": [
    "## Logistic Regression Model"
   ]
  },
  {
   "cell_type": "markdown",
   "id": "a6e7a240",
   "metadata": {},
   "source": [
    "#### Train and Test Data Splits"
   ]
  },
  {
   "cell_type": "code",
   "execution_count": 4,
   "id": "a8dbf4b5",
   "metadata": {},
   "outputs": [],
   "source": [
    "X = df.drop(['ID', 'AcceptedCmp6'], axis=1)\n",
    "y = df['AcceptedCmp6']"
   ]
  },
  {
   "cell_type": "code",
   "execution_count": 5,
   "id": "dcb88cda",
   "metadata": {},
   "outputs": [
    {
     "name": "stdout",
     "output_type": "stream",
     "text": [
      "(1506, 9) (646, 9)\n"
     ]
    }
   ],
   "source": [
    "X_train, X_test, y_train, y_test = train_test_split(X, y, test_size=0.3, random_state=42)\n",
    "print(X_train.shape, X_test.shape)\n",
    "train_columns = X_train.columns"
   ]
  },
  {
   "cell_type": "code",
   "execution_count": 6,
   "id": "aa062f64",
   "metadata": {},
   "outputs": [
    {
     "data": {
      "text/plain": [
       "LogisticRegression()"
      ]
     },
     "execution_count": 6,
     "metadata": {},
     "output_type": "execute_result"
    }
   ],
   "source": [
    "# scaling\n",
    "scaler = StandardScaler()\n",
    "X_train = scaler.fit_transform(X_train)\n",
    "X_test = scaler.transform(X_test)\n",
    "#\n",
    "lgr = LogisticRegression()\n",
    "# Fit the model on the trainng data.\n",
    "lgr.fit(X_train, y_train)"
   ]
  },
  {
   "cell_type": "code",
   "execution_count": 7,
   "id": "32e2b746",
   "metadata": {},
   "outputs": [
    {
     "name": "stdout",
     "output_type": "stream",
     "text": [
      "0.8761609907120743\n",
      "[[534  13]\n",
      " [ 67  32]]\n",
      "              precision    recall  f1-score   support\n",
      "\n",
      "           0       0.89      0.98      0.93       547\n",
      "           1       0.71      0.32      0.44        99\n",
      "\n",
      "    accuracy                           0.88       646\n",
      "   macro avg       0.80      0.65      0.69       646\n",
      "weighted avg       0.86      0.88      0.86       646\n",
      "\n"
     ]
    },
    {
     "data": {
      "image/png": "[encoded data removed]",
      "text/plain": [
       "<Figure size 432x288 with 2 Axes>"
      ]
     },
     "metadata": {},
     "output_type": "display_data"
    }
   ],
   "source": [
    "# Print the accuracy from the testing data.\n",
    "y_pred = lgr.predict(X_test)\n",
    "print(accuracy_score(y_pred, y_test))\n",
    "print(confusion_matrix(y_test, y_pred))\n",
    "print(classification_report(y_test, y_pred))\n",
    "\n",
    "cf=confusion_matrix(y_test, y_pred)\n",
    "from sklearn.metrics import ConfusionMatrixDisplay\n",
    "ConfusionMatrixDisplay(cf).plot(cmap='Blues')\n",
    "plt.grid(False)\n",
    "plt.show();"
   ]
  },
  {
   "cell_type": "markdown",
   "id": "90c3ac90",
   "metadata": {},
   "source": [
    "#### Hyperparameter search using GridSearchCV"
   ]
  },
  {
   "cell_type": "code",
   "execution_count": 8,
   "id": "f87d7e46",
   "metadata": {},
   "outputs": [
    {
     "name": "stdout",
     "output_type": "stream",
     "text": [
      "Fitting 5 folds for each of 15 candidates, totalling 75 fits\n"
     ]
    },
    {
     "data": {
      "text/plain": [
       "GridSearchCV(cv=5, estimator=LogisticRegression(random_state=42), n_jobs=1,\n",
       "             param_grid={'C': array([1.00000000e-05, 8.48342898e-05, 7.19685673e-04, 6.10540230e-03,\n",
       "       5.17947468e-02, 4.39397056e-01, 3.72759372e+00, 3.16227766e+01,\n",
       "       2.68269580e+02, 2.27584593e+03, 1.93069773e+04, 1.63789371e+05,\n",
       "       1.38949549e+06, 1.17876863e+07, 1.00000000e+08])},\n",
       "             scoring='roc_auc', verbose=1)"
      ]
     },
     "execution_count": 8,
     "metadata": {},
     "output_type": "execute_result"
    }
   ],
   "source": [
    "#the grid of parameters to search over to find the best regularization parameter  𝐶  based *only* on the training set;\n",
    "# C controls the inverse of the regularization strength. A large C can lead to an overfit model, while a small  can lead to an underfit model.\n",
    "# Cs = [0.001, 0.1, 1, 10, 100]\n",
    "Cs = np.logspace(-5, 8, 15)\n",
    "from sklearn.model_selection import GridSearchCV\n",
    "params = {'C': Cs}\n",
    "\n",
    "# Instantiate a logistic regression classifier: logreg\n",
    "logreg = LogisticRegression(random_state=42)\n",
    "\n",
    "# Instantiate the GridSearchCV object: logreg_cv\n",
    "logreg_cv = GridSearchCV(logreg, params, scoring='roc_auc', cv=5, n_jobs=1, verbose=1)\n",
    "\n",
    "# Fit it to the training data\n",
    "logreg_cv.fit(X_train,y_train)"
   ]
  },
  {
   "cell_type": "code",
   "execution_count": 9,
   "id": "cabedbdb",
   "metadata": {},
   "outputs": [
    {
     "name": "stdout",
     "output_type": "stream",
     "text": [
      "Tuned Logistic Regression Parameters: {'C': 0.4393970560760795}\n",
      "Best score is 0.8192529060990339\n",
      "Best estimator is LogisticRegression(C=0.4393970560760795, random_state=42)\n",
      "Best paramter is {'C': 0.4393970560760795}\n"
     ]
    }
   ],
   "source": [
    "# Print the tuned parameters and score\n",
    "print(\"Tuned Logistic Regression Parameters: {}\".format(logreg_cv.best_params_)) \n",
    "print(\"Best score is {}\".format(logreg_cv.best_score_))   # training accuracy\n",
    "print(\"Best estimator is {}\".format(logreg_cv.best_estimator_))\n",
    "print(\"Best paramter is {}\".format(logreg_cv.best_params_))"
   ]
  },
  {
   "cell_type": "code",
   "execution_count": 10,
   "id": "f01d0e99",
   "metadata": {},
   "outputs": [
    {
     "name": "stdout",
     "output_type": "stream",
     "text": [
      "Tuned Logistic Regression R squared: 0.8761609907120743\n"
     ]
    }
   ],
   "source": [
    "# Predict on the test set and compute metrics\n",
    "logreg = LogisticRegression(**logreg_cv.best_params_)\n",
    "logreg.fit(X_train,y_train)\n",
    "y_pred = logreg.predict(X_test)\n",
    "r2 = logreg.score(X_test, y_test)  # test_accuracy\n",
    "print(\"Tuned Logistic Regression R squared: {}\".format(r2))"
   ]
  },
  {
   "cell_type": "markdown",
   "id": "8b09f00b",
   "metadata": {},
   "source": [
    "#### Assess model performance"
   ]
  },
  {
   "cell_type": "code",
   "execution_count": 11,
   "id": "329b8300",
   "metadata": {},
   "outputs": [
    {
     "name": "stdout",
     "output_type": "stream",
     "text": [
      "[[534  13]\n",
      " [ 67  32]]\n",
      "              precision    recall  f1-score   support\n",
      "\n",
      "           0       0.89      0.98      0.93       547\n",
      "           1       0.71      0.32      0.44        99\n",
      "\n",
      "    accuracy                           0.88       646\n",
      "   macro avg       0.80      0.65      0.69       646\n",
      "weighted avg       0.86      0.88      0.86       646\n",
      "\n"
     ]
    },
    {
     "data": {
      "image/png": "[encoded data removed]",
      "text/plain": [
       "<Figure size 432x288 with 2 Axes>"
      ]
     },
     "metadata": {},
     "output_type": "display_data"
    }
   ],
   "source": [
    "print(confusion_matrix(y_test, y_pred))\n",
    "print(classification_report(y_test, y_pred))\n",
    "\n",
    "cf=confusion_matrix(y_test, y_pred)\n",
    "from sklearn.metrics import ConfusionMatrixDisplay\n",
    "ConfusionMatrixDisplay(cf).plot(cmap='Blues')\n",
    "plt.grid(False)\n",
    "plt.show();"
   ]
  },
  {
   "cell_type": "code",
   "execution_count": 12,
   "id": "21521719",
   "metadata": {
    "scrolled": true
   },
   "outputs": [
    {
     "name": "stdout",
     "output_type": "stream",
     "text": [
      "ROC_AUC: 0.8531198640887856\n"
     ]
    },
    {
     "data": {
      "image/png": "[encoded data removed]",
      "text/plain": [
       "<Figure size 432x288 with 1 Axes>"
      ]
     },
     "metadata": {},
     "output_type": "display_data"
    }
   ],
   "source": [
    "from sklearn.metrics import roc_curve\n",
    "\n",
    "# Compute predicted probabilities: y_pred_prob\n",
    "y_pred_prob = logreg.predict_proba(X_test)[:,1]\n",
    "\n",
    "# Compute and print AUC score\n",
    "print(\"ROC_AUC: {}\".format(roc_auc_score(y_test, y_pred_prob)))\n",
    "\n",
    "# Generate ROC curve values: fpr, tpr, thresholds\n",
    "fpr, tpr, thresholds = roc_curve(y_test, y_pred_prob)\n",
    "\n",
    "# Plot ROC curve\n",
    "plt.plot([0, 1], [0, 1], 'r--')\n",
    "plt.plot(fpr, tpr)\n",
    "plt.xlabel('False Positive Rate')\n",
    "plt.ylabel('True Positive Rate')\n",
    "plt.title('ROC Curve')\n",
    "plt.show();"
   ]
  },
  {
   "cell_type": "markdown",
   "id": "39984d96",
   "metadata": {},
   "source": [
    "##  Random Forests Model"
   ]
  },
  {
   "cell_type": "code",
   "execution_count": 13,
   "id": "37a457c6",
   "metadata": {},
   "outputs": [],
   "source": [
    "from sklearn.ensemble import RandomForestClassifier\n",
    "from sklearn.impute import SimpleImputer\n",
    "\n",
    "RF_pipe = make_pipeline(\n",
    "    SimpleImputer(strategy='median'),\n",
    "    StandardScaler(),\n",
    "    RandomForestClassifier(random_state=42)\n",
    ")"
   ]
  },
  {
   "cell_type": "markdown",
   "id": "55879a34",
   "metadata": {},
   "source": [
    "#RF_pipe.get_params().keys():to get a dict of available parameters"
   ]
  },
  {
   "cell_type": "markdown",
   "id": "3e739ca3",
   "metadata": {},
   "source": [
    "RF_pipe.get_params().keys()"
   ]
  },
  {
   "cell_type": "code",
   "execution_count": 14,
   "id": "1a7d797e",
   "metadata": {},
   "outputs": [
    {
     "data": {
      "text/plain": [
       "{'fit_time': array([0.19289041, 0.16556621, 0.16328597, 0.17366552, 0.17071629]),\n",
       " 'score_time': array([0.01053333, 0.01093888, 0.01089168, 0.01092958, 0.00999665]),\n",
       " 'test_score': array([0.85761589, 0.89368771, 0.87375415, 0.87043189, 0.86710963])}"
      ]
     },
     "execution_count": 14,
     "metadata": {},
     "output_type": "execute_result"
    }
   ],
   "source": [
    "rf_default_cv_results = cross_validate(RF_pipe, X_train, y_train, cv=5)\n",
    "rf_default_cv_results"
   ]
  },
  {
   "cell_type": "code",
   "execution_count": 15,
   "id": "5836026c",
   "metadata": {},
   "outputs": [
    {
     "data": {
      "text/plain": [
       "(0.8725198565488108, 0.011877370050694383)"
      ]
     },
     "execution_count": 15,
     "metadata": {},
     "output_type": "execute_result"
    }
   ],
   "source": [
    "np.mean(rf_default_cv_results['test_score']), np.std(rf_default_cv_results['test_score'])"
   ]
  },
  {
   "cell_type": "markdown",
   "id": "29e997e1",
   "metadata": {},
   "source": [
    "#### Hyperparameter search using GridSearchCV"
   ]
  },
  {
   "cell_type": "code",
   "execution_count": 16,
   "id": "3459e45e",
   "metadata": {},
   "outputs": [
    {
     "data": {
      "text/plain": [
       "{'standardscaler': [StandardScaler(), None],\n",
       " 'randomforestclassifier__n_estimators': [10, 20, 40, 50]}"
      ]
     },
     "execution_count": 16,
     "metadata": {},
     "output_type": "execute_result"
    }
   ],
   "source": [
    "n_est =  [10,20,40,50]\n",
    "# 'randomforestclassifier__max_depth':[1,3,5,10]\n",
    "grid_params = {\n",
    "    'standardscaler': [StandardScaler(), None],\n",
    "    'randomforestclassifier__n_estimators': n_est\n",
    "        }\n",
    "grid_params"
   ]
  },
  {
   "cell_type": "code",
   "execution_count": 17,
   "id": "1bae59d7",
   "metadata": {},
   "outputs": [
    {
     "name": "stdout",
     "output_type": "stream",
     "text": [
      "Fitting 5 folds for each of 8 candidates, totalling 40 fits\n"
     ]
    },
    {
     "data": {
      "text/plain": [
       "GridSearchCV(cv=5,\n",
       "             estimator=Pipeline(steps=[('simpleimputer',\n",
       "                                        SimpleImputer(strategy='median')),\n",
       "                                       ('standardscaler', StandardScaler()),\n",
       "                                       ('randomforestclassifier',\n",
       "                                        RandomForestClassifier(random_state=42))]),\n",
       "             n_jobs=-1,\n",
       "             param_grid={'randomforestclassifier__n_estimators': [10, 20, 40,\n",
       "                                                                  50],\n",
       "                         'standardscaler': [StandardScaler(), None]},\n",
       "             scoring='roc_auc', verbose=1)"
      ]
     },
     "execution_count": 17,
     "metadata": {},
     "output_type": "execute_result"
    }
   ],
   "source": [
    "#dict for parameters to evaluate, 5-fold cross-validation\n",
    "rf_grid_cv = GridSearchCV(RF_pipe, grid_params, cv=5, scoring='roc_auc', n_jobs=-1, verbose=1)\n",
    "rf_grid_cv.fit(X_train, y_train)"
   ]
  },
  {
   "cell_type": "code",
   "execution_count": 18,
   "id": "5d8e13fb",
   "metadata": {},
   "outputs": [
    {
     "name": "stdout",
     "output_type": "stream",
     "text": [
      "Best Score:0.8095111581770391\n",
      "Best Parameters: {'randomforestclassifier__n_estimators': 50, 'standardscaler': None}\n"
     ]
    }
   ],
   "source": [
    "print(\"Best Score:\" + str(rf_grid_cv.best_score_))\n",
    "print(\"Best Parameters: \" + str(rf_grid_cv.best_params_))"
   ]
  },
  {
   "cell_type": "code",
   "execution_count": 19,
   "id": "1ec5e7da",
   "metadata": {},
   "outputs": [],
   "source": [
    "# Fit the model based on the best number of estimators.\n",
    "rf = RandomForestClassifier(n_estimators=50, max_depth=10, random_state=42)\n",
    "rf.fit(X_train, y_train)\n",
    "y_pred = rf.predict(X_test)"
   ]
  },
  {
   "cell_type": "code",
   "execution_count": 20,
   "id": "0509b803",
   "metadata": {
    "scrolled": false
   },
   "outputs": [
    {
     "name": "stdout",
     "output_type": "stream",
     "text": [
      "[[530  17]\n",
      " [ 58  41]]\n",
      "              precision    recall  f1-score   support\n",
      "\n",
      "           0       0.90      0.97      0.93       547\n",
      "           1       0.71      0.41      0.52        99\n",
      "\n",
      "    accuracy                           0.88       646\n",
      "   macro avg       0.80      0.69      0.73       646\n",
      "weighted avg       0.87      0.88      0.87       646\n",
      "\n"
     ]
    },
    {
     "data": {
      "image/png": "[encoded data removed]",
      "text/plain": [
       "<Figure size 432x288 with 2 Axes>"
      ]
     },
     "metadata": {},
     "output_type": "display_data"
    }
   ],
   "source": [
    "# plot confusion matrix\n",
    "print(confusion_matrix(y_test, y_pred))\n",
    "print(classification_report(y_test, y_pred))\n",
    "cf = confusion_matrix(y_test,y_pred)\n",
    "ConfusionMatrixDisplay(cf).plot(cmap='Blues')\n",
    "plt.grid(False)\n",
    "plt.show();"
   ]
  },
  {
   "cell_type": "code",
   "execution_count": 21,
   "id": "d0d40c2c",
   "metadata": {
    "scrolled": true
   },
   "outputs": [
    {
     "name": "stdout",
     "output_type": "stream",
     "text": [
      "ROC_AUC: 0.8528982697172824\n"
     ]
    },
    {
     "data": {
      "image/png": "[encoded data removed]",
      "text/plain": [
       "<Figure size 432x288 with 1 Axes>"
      ]
     },
     "metadata": {},
     "output_type": "display_data"
    }
   ],
   "source": [
    "from sklearn.metrics import roc_curve\n",
    "\n",
    "# Compute predicted probabilities: y_pred_prob\n",
    "y_pred_prob = rf.predict_proba(X_test)[:,1]\n",
    "\n",
    "# Compute and print AUC score\n",
    "print(\"ROC_AUC: {}\".format(roc_auc_score(y_test, y_pred_prob)))\n",
    "\n",
    "# Generate ROC curve values: fpr, tpr, thresholds\n",
    "fpr, tpr, thresholds = roc_curve(y_test, y_pred_prob)\n",
    "\n",
    "# Plot ROC curve\n",
    "plt.plot([0, 1], [0, 1], 'r--')\n",
    "plt.plot(fpr, tpr)\n",
    "plt.xlabel('False Positive Rate')\n",
    "plt.ylabel('True Positive Rate')\n",
    "plt.title('ROC Curve')\n",
    "plt.show();"
   ]
  },
  {
   "cell_type": "markdown",
   "id": "57566233",
   "metadata": {},
   "source": [
    "#### Assess model performance"
   ]
  },
  {
   "cell_type": "code",
   "execution_count": 22,
   "id": "96a12f31",
   "metadata": {},
   "outputs": [
    {
     "data": {
      "text/plain": [
       "{'fit_time': array([0.08866692, 0.08442187, 0.08177352, 0.09105492, 0.09042478]),\n",
       " 'score_time': array([0.00598431, 0.00598383, 0.00598192, 0.0063498 , 0.00600839]),\n",
       " 'test_score': array([0.85430464, 0.90033223, 0.87707641, 0.87043189, 0.86046512])}"
      ]
     },
     "execution_count": 22,
     "metadata": {},
     "output_type": "execute_result"
    }
   ],
   "source": [
    "# 'randomforestclassifier__n_estimators': 42\n",
    "rf_best_cv_results = cross_validate(rf_grid_cv.best_estimator_, X_train, y_train, cv=5)\n",
    "rf_best_cv_results"
   ]
  },
  {
   "cell_type": "code",
   "execution_count": 23,
   "id": "2abd81e6",
   "metadata": {},
   "outputs": [
    {
     "data": {
      "text/plain": [
       "array([0.85430464, 0.90033223, 0.87707641, 0.87043189, 0.86046512])"
      ]
     },
     "execution_count": 23,
     "metadata": {},
     "output_type": "execute_result"
    }
   ],
   "source": [
    "rf_best_scores = rf_best_cv_results['test_score']\n",
    "rf_best_scores"
   ]
  },
  {
   "cell_type": "code",
   "execution_count": 24,
   "id": "7dd60c8a",
   "metadata": {},
   "outputs": [
    {
     "data": {
      "text/plain": [
       "(0.8725220567204243, 0.015973482293506352)"
      ]
     },
     "execution_count": 24,
     "metadata": {},
     "output_type": "execute_result"
    }
   ],
   "source": [
    "np.mean(rf_best_scores), np.std(rf_best_scores)  # the model is slighly improved upon the default "
   ]
  },
  {
   "cell_type": "code",
   "execution_count": 25,
   "id": "5a790e05",
   "metadata": {
    "scrolled": true
   },
   "outputs": [
    {
     "data": {
      "image/png": "[encoded data removed]",
      "text/plain": [
       "<Figure size 720x360 with 1 Axes>"
      ]
     },
     "metadata": {},
     "output_type": "display_data"
    }
   ],
   "source": [
    "plt.subplots(figsize=(10, 5))\n",
    "imps = rf_grid_cv.best_estimator_.named_steps.randomforestclassifier.feature_importances_\n",
    "rf_feat_imps = pd.Series(imps, index=train_columns).sort_values(ascending=False)\n",
    "rf_feat_imps.plot(kind='bar')\n",
    "plt.xlabel('features')\n",
    "plt.ylabel('importance')\n",
    "plt.title('Best Random Forest Classifier Feature Importances', fontsize=14);"
   ]
  },
  {
   "cell_type": "markdown",
   "id": "0cdea379",
   "metadata": {},
   "source": [
    "**the dominant top five features are:**\n",
    " - 'Income'\n",
    " - 'Days_Enrolled'\n",
    " - 'TotalExpenses'\n",
    " - 'TotalAcceptedCmp5' - total except the last champaign\n",
    " - 'Age'    "
   ]
  },
  {
   "cell_type": "markdown",
   "id": "fa7f533b",
   "metadata": {},
   "source": [
    "## K Nearest Neighbor (KNN) Model"
   ]
  },
  {
   "cell_type": "code",
   "execution_count": 26,
   "id": "0a95af92",
   "metadata": {
    "scrolled": true
   },
   "outputs": [
    {
     "name": "stdout",
     "output_type": "stream",
     "text": [
      "train_scores 1: 0.9926958831341302\n",
      "test_scores 1: 0.8374613003095975\n",
      "train_scores 2: 0.9150066401062417\n",
      "test_scores 2: 0.8730650154798761\n",
      "train_scores 3: 0.9116865869853917\n",
      "test_scores 3: 0.8622291021671826\n",
      "train_scores 4: 0.8924302788844621\n",
      "test_scores 4: 0.8668730650154799\n",
      "train_scores 5: 0.8937583001328021\n",
      "test_scores 5: 0.8637770897832817\n",
      "train_scores 6: 0.8811420982735724\n",
      "test_scores 6: 0.8653250773993808\n",
      "train_scores 7: 0.8871181938911022\n",
      "test_scores 7: 0.8668730650154799\n",
      "train_scores 8: 0.8798140770252324\n",
      "test_scores 8: 0.871517027863777\n",
      "train_scores 9: 0.8784860557768924\n",
      "test_scores 9: 0.8761609907120743\n"
     ]
    }
   ],
   "source": [
    "# Import the necessary modules\n",
    "test_scores = []\n",
    "train_scores = []\n",
    "\n",
    "for i in range(1,10):\n",
    "\n",
    "    knn = KNeighborsClassifier(i)\n",
    "    knn.fit(X_train,y_train)\n",
    "    \n",
    "    train_scores.append(knn.score(X_train,y_train))\n",
    "    test_scores.append(knn.score(X_test,y_test))\n",
    "    print(\"train_scores {}: {}\".format(i, knn.score(X_train,y_train)))  # Compute and print metrics\n",
    "    print(\"test_scores {}: {}\".format(i, knn.score(X_test,y_test)))"
   ]
  },
  {
   "cell_type": "code",
   "execution_count": 27,
   "id": "9e2e523d",
   "metadata": {},
   "outputs": [
    {
     "name": "stdout",
     "output_type": "stream",
     "text": [
      "Max train score 0.9926958831341302 and k = 1\n"
     ]
    }
   ],
   "source": [
    "# Identify the number of neighbors that resulted in the max score in the training dataset.\n",
    "max_score = max(train_scores)\n",
    "indx = train_scores.index(max_score) + 1    \n",
    "print('Max train score {} and k = {}'.format(max_score, indx))"
   ]
  },
  {
   "cell_type": "code",
   "execution_count": 28,
   "id": "fe97d919",
   "metadata": {},
   "outputs": [
    {
     "name": "stdout",
     "output_type": "stream",
     "text": [
      "Max test score 1 and k = 9\n"
     ]
    }
   ],
   "source": [
    "#Identify the number of neighbors that resulted in the max score in the test dataset.\n",
    "max_score = max(test_scores)\n",
    "indx = test_scores.index(max_score) + 1\n",
    "print('Max test score {} and k = {}'.format(round(max_score), indx))"
   ]
  },
  {
   "cell_type": "code",
   "execution_count": 29,
   "id": "8221af7d",
   "metadata": {},
   "outputs": [
    {
     "data": {
      "image/png": "[encoded data removed]",
      "text/plain": [
       "<Figure size 720x288 with 1 Axes>"
      ]
     },
     "metadata": {},
     "output_type": "display_data"
    }
   ],
   "source": [
    "plt.figure(figsize=(10,4))\n",
    "p = sns.lineplot(x=range(1,10),y=train_scores,marker='*',label='Train Score')\n",
    "p = sns.lineplot(x=range(1,10),y=test_scores,marker='o',label='Test Score')\n",
    "plt.xlabel('Number of neighbors K')\n",
    "plt.ylabel('KNN Score')\n",
    "plt.show();"
   ]
  },
  {
   "cell_type": "code",
   "execution_count": 30,
   "id": "80ab9fee",
   "metadata": {},
   "outputs": [
    {
     "name": "stdout",
     "output_type": "stream",
     "text": [
      "Train score for n=2 neighbors:  0.9150066401062417\n",
      "Test score for n=2 neighbors:  0.8730650154798761\n"
     ]
    }
   ],
   "source": [
    "# Fit and score the best number of neighbors based on the plot.\n",
    "best_neighbors = 2\n",
    "\n",
    "knn = KNeighborsClassifier(n_neighbors = best_neighbors)\n",
    "knn.fit(X_train,y_train)\n",
    "train_score = knn.score(X_train,y_train)\n",
    "test_score = knn.score(X_test,y_test)\n",
    "\n",
    "print('Train score for n=2 neighbors: ', train_score)\n",
    "print('Test score for n=2 neighbors: ', test_score)"
   ]
  },
  {
   "cell_type": "code",
   "execution_count": 31,
   "id": "32e3d3c6",
   "metadata": {},
   "outputs": [],
   "source": [
    "from sklearn.metrics import confusion_matrix\n",
    "y_pred = knn.predict(X_test)"
   ]
  },
  {
   "cell_type": "code",
   "execution_count": 32,
   "id": "ffbd2131",
   "metadata": {
    "scrolled": true
   },
   "outputs": [
    {
     "name": "stdout",
     "output_type": "stream",
     "text": [
      "[[538   9]\n",
      " [ 73  26]]\n",
      "              precision    recall  f1-score   support\n",
      "\n",
      "           0       0.88      0.98      0.93       547\n",
      "           1       0.74      0.26      0.39        99\n",
      "\n",
      "    accuracy                           0.87       646\n",
      "   macro avg       0.81      0.62      0.66       646\n",
      "weighted avg       0.86      0.87      0.85       646\n",
      "\n"
     ]
    },
    {
     "data": {
      "image/png": "[encoded data removed]",
      "text/plain": [
       "<Figure size 432x288 with 2 Axes>"
      ]
     },
     "metadata": {},
     "output_type": "display_data"
    }
   ],
   "source": [
    "# plot confusion matrix\n",
    "print(confusion_matrix(y_test, y_pred))\n",
    "print(classification_report(y_test, y_pred))\n",
    "\n",
    "from sklearn.metrics import ConfusionMatrixDisplay\n",
    "cf = confusion_matrix(y_test,y_pred)\n",
    "ConfusionMatrixDisplay(cf).plot(cmap='Blues')\n",
    "\n",
    "plt.grid(False)\n",
    "plt.show();"
   ]
  },
  {
   "cell_type": "markdown",
   "id": "95f78137",
   "metadata": {},
   "source": [
    "#### Hyperparameter search using GridSearchCV"
   ]
  },
  {
   "cell_type": "code",
   "execution_count": 33,
   "id": "ab300aeb",
   "metadata": {},
   "outputs": [
    {
     "data": {
      "text/plain": [
       "GridSearchCV(cv=5, estimator=KNeighborsClassifier(),\n",
       "             param_grid={'n_neighbors': array([ 1,  2,  3,  4,  5,  6,  7,  8,  9, 10, 11, 12, 13, 14, 15, 16, 17,\n",
       "       18, 19, 20, 21, 22, 23, 24, 25, 26, 27, 28, 29])},\n",
       "             scoring='roc_auc')"
      ]
     },
     "execution_count": 33,
     "metadata": {},
     "output_type": "execute_result"
    }
   ],
   "source": [
    "from sklearn.model_selection import GridSearchCV\n",
    "params = {'n_neighbors':np.arange(1,30)}\n",
    "\n",
    "knn = KNeighborsClassifier()\n",
    "knn_cv= GridSearchCV(knn,params,scoring='roc_auc', cv=5)\n",
    "knn_cv.fit(X_train,y_train)"
   ]
  },
  {
   "cell_type": "code",
   "execution_count": 34,
   "id": "6943d49d",
   "metadata": {},
   "outputs": [
    {
     "name": "stdout",
     "output_type": "stream",
     "text": [
      "Best Score:0.8151623108482523\n",
      "Best Parameters: {'n_neighbors': 24}\n"
     ]
    }
   ],
   "source": [
    "print(\"Best Score:\" + str(knn_cv.best_score_))\n",
    "print(\"Best Parameters: \" + str(knn_cv.best_params_))"
   ]
  },
  {
   "cell_type": "code",
   "execution_count": 35,
   "id": "87dac680",
   "metadata": {},
   "outputs": [
    {
     "name": "stdout",
     "output_type": "stream",
     "text": [
      "Train score for n=2 neighbors:  0.8711819389110226\n",
      "Test score for n=2 neighbors:  0.871517027863777\n"
     ]
    }
   ],
   "source": [
    "best_neighbors = 24\n",
    "\n",
    "knn = KNeighborsClassifier(n_neighbors = best_neighbors)\n",
    "knn.fit(X_train,y_train)\n",
    "train_score = knn.score(X_train,y_train)\n",
    "test_score = knn.score(X_test,y_test)\n",
    "\n",
    "print('Train score for n=2 neighbors: ', train_score)  # # the model is slighly improved upon the default \n",
    "print('Test score for n=2 neighbors: ', test_score)\n",
    "\n",
    "y_pred = knn.predict(X_test)"
   ]
  },
  {
   "cell_type": "markdown",
   "id": "d002714c",
   "metadata": {},
   "source": [
    "#### Assess model performance"
   ]
  },
  {
   "cell_type": "code",
   "execution_count": 36,
   "id": "eb9c0f72",
   "metadata": {
    "scrolled": false
   },
   "outputs": [
    {
     "name": "stdout",
     "output_type": "stream",
     "text": [
      "[[543   4]\n",
      " [ 79  20]]\n",
      "              precision    recall  f1-score   support\n",
      "\n",
      "           0       0.87      0.99      0.93       547\n",
      "           1       0.83      0.20      0.33        99\n",
      "\n",
      "    accuracy                           0.87       646\n",
      "   macro avg       0.85      0.60      0.63       646\n",
      "weighted avg       0.87      0.87      0.84       646\n",
      "\n"
     ]
    },
    {
     "data": {
      "image/png": "[encoded data removed]",
      "text/plain": [
       "<Figure size 432x288 with 2 Axes>"
      ]
     },
     "metadata": {},
     "output_type": "display_data"
    }
   ],
   "source": [
    "# Generate the confusion matrix and classification report\n",
    "print(confusion_matrix(y_test, y_pred))\n",
    "print(classification_report(y_test, y_pred))\n",
    "cf = confusion_matrix(y_test,y_pred)\n",
    "cmd = ConfusionMatrixDisplay(cf)\n",
    "cmd.plot(cmap='Blues')\n",
    "plt.grid(False)\n",
    "plt.show();"
   ]
  },
  {
   "cell_type": "code",
   "execution_count": 37,
   "id": "df57fb22",
   "metadata": {},
   "outputs": [
    {
     "name": "stdout",
     "output_type": "stream",
     "text": [
      "ROC_AUC: 0.8089764186656325\n"
     ]
    },
    {
     "data": {
      "image/png": "[encoded data removed]",
      "text/plain": [
       "<Figure size 432x288 with 1 Axes>"
      ]
     },
     "metadata": {},
     "output_type": "display_data"
    }
   ],
   "source": [
    "# Compute predicted probabilities: y_pred_prob\n",
    "y_pred_prob = knn.predict_proba(X_test)[:,1]\n",
    "\n",
    "# Compute and print AUC score\n",
    "print(\"ROC_AUC: {}\".format(roc_auc_score(y_test, y_pred_prob)))\n",
    "\n",
    "# Generate ROC curve values: fpr, tpr, thresholds\n",
    "fpr, tpr, thresholds = roc_curve(y_test, y_pred_prob)\n",
    "\n",
    "# Plot ROC curve\n",
    "plt.plot([0, 1], [0, 1], 'r--')\n",
    "plt.plot(fpr, tpr)\n",
    "plt.xlabel('False Positive Rate')\n",
    "plt.ylabel('True Positive Rate')\n",
    "plt.title('ROC Curve')\n",
    "plt.show();"
   ]
  },
  {
   "cell_type": "markdown",
   "id": "88814b8b",
   "metadata": {},
   "source": [
    "## Gradient Boosting Model"
   ]
  },
  {
   "cell_type": "code",
   "execution_count": 38,
   "id": "32517ae0",
   "metadata": {},
   "outputs": [],
   "source": [
    "gb = GradientBoostingClassifier(random_state=42)"
   ]
  },
  {
   "cell_type": "code",
   "execution_count": 39,
   "id": "3d57092d",
   "metadata": {},
   "outputs": [
    {
     "data": {
      "text/plain": [
       "GridSearchCV(cv=5, estimator=GradientBoostingClassifier(random_state=42),\n",
       "             param_grid={'learning_rate': [0.25, 0.5, 0.75, 1],\n",
       "                         'max_depth': [2, 3, 4], 'max_features': [2, 3, 4],\n",
       "                         'n_estimators': [5, 10, 20]},\n",
       "             scoring='roc_auc')"
      ]
     },
     "execution_count": 39,
     "metadata": {},
     "output_type": "execute_result"
    }
   ],
   "source": [
    "###gb.get_params(deep=True)\n",
    "params = {'n_estimators':[5,10,20],'learning_rate':[0.25,.5,.75,1], 'max_depth': [2,3,4], 'max_features': [2,3,4]}\n",
    "gb_cv = GridSearchCV(gb, params, scoring='roc_auc', cv=5)\n",
    "gb_cv.fit(X_train, y_train)"
   ]
  },
  {
   "cell_type": "code",
   "execution_count": 40,
   "id": "4225358e",
   "metadata": {},
   "outputs": [
    {
     "name": "stdout",
     "output_type": "stream",
     "text": [
      "Best Parameters: {'learning_rate': 0.25, 'max_depth': 2, 'max_features': 2, 'n_estimators': 20}\n",
      "Best Score:0.8231924463626029\n"
     ]
    }
   ],
   "source": [
    "print(\"Best Parameters: \" + str(gb_cv.best_params_))\n",
    "print(\"Best Score:\" + str(gb_cv.best_score_))"
   ]
  },
  {
   "cell_type": "code",
   "execution_count": 41,
   "id": "2f34ae9e",
   "metadata": {
    "scrolled": true
   },
   "outputs": [
    {
     "name": "stdout",
     "output_type": "stream",
     "text": [
      "Learning rate:  0.05\n",
      "Accuracy score (training): 0.853\n",
      "Accuracy score (validation): 0.850\n",
      "\n",
      "Learning rate:  0.25\n",
      "Accuracy score (training): 0.889\n",
      "Accuracy score (validation): 0.864\n",
      "\n",
      "Learning rate:  0.5\n",
      "Accuracy score (training): 0.895\n",
      "Accuracy score (validation): 0.872\n",
      "\n",
      "Learning rate:  0.75\n",
      "Accuracy score (training): 0.897\n",
      "Accuracy score (validation): 0.868\n",
      "\n",
      "Learning rate:  1\n",
      "Accuracy score (training): 0.896\n",
      "Accuracy score (validation): 0.858\n",
      "\n",
      "Learning rate:  1.25\n",
      "Accuracy score (training): 0.901\n",
      "Accuracy score (validation): 0.856\n",
      "\n"
     ]
    }
   ],
   "source": [
    "# test multiple learning rates in the gradient boosting classifier.\n",
    "learning_rates = [0.05, 0.25, 0.5, 0.75, 1, 1.25]\n",
    "for learning_rate in learning_rates:\n",
    "    gb = GradientBoostingClassifier(n_estimators=20, learning_rate = learning_rate, max_features=2, max_depth = 2, random_state = 42)\n",
    "    gb.fit(X_train, y_train)\n",
    "    print(\"Learning rate: \", learning_rate)\n",
    "    print(\"Accuracy score (training): {0:.3f}\".format(gb.score(X_train, y_train)))\n",
    "    print(\"Accuracy score (validation): {0:.3f}\".format(gb.score(X_test, y_test)))\n",
    "\n",
    "    print()"
   ]
  },
  {
   "cell_type": "code",
   "execution_count": 42,
   "id": "03387fe8",
   "metadata": {},
   "outputs": [],
   "source": [
    "# Apply the best learning rate to the model fit and predict on the testing set. \n",
    "gbc = GradientBoostingClassifier(n_estimators=20, learning_rate = 0.75, \n",
    "                                    max_features=4, max_depth = 2, random_state = 42)\n",
    "gbc.fit(X_train, y_train)\n",
    "# predict\n",
    "y_pred = gbc.predict(X_test)"
   ]
  },
  {
   "cell_type": "code",
   "execution_count": 43,
   "id": "8e110ef8",
   "metadata": {},
   "outputs": [
    {
     "data": {
      "text/plain": [
       "array([0.17893521, 0.03012167, 0.0202228 , 0.14563523, 0.27593222,\n",
       "       0.22404335, 0.03328077, 0.01563539, 0.07619337])"
      ]
     },
     "execution_count": 43,
     "metadata": {},
     "output_type": "execute_result"
    }
   ],
   "source": [
    "gbc.feature_importances_"
   ]
  },
  {
   "cell_type": "code",
   "execution_count": 44,
   "id": "20a36b7d",
   "metadata": {
    "scrolled": true
   },
   "outputs": [
    {
     "data": {
      "image/png": "[encoded data removed]",
      "text/plain": [
       "<Figure size 720x360 with 1 Axes>"
      ]
     },
     "metadata": {},
     "output_type": "display_data"
    }
   ],
   "source": [
    "plt.subplots(figsize=(10, 5))\n",
    "imps = gbc.feature_importances_\n",
    "rf_feat_imps = pd.Series(imps, index=train_columns).sort_values(ascending=False)\n",
    "rf_feat_imps.plot(kind='bar')\n",
    "plt.xlabel('features')\n",
    "plt.ylabel('importance')\n",
    "plt.title('Best Gradient Boosting Classifier Feature Importances', fontsize=14);"
   ]
  },
  {
   "cell_type": "markdown",
   "id": "a58d28c3",
   "metadata": {},
   "source": [
    "**the dominant top five features are:**\n",
    " - 'TotalExpenses'\n",
    " - 'TotalAcceptedCmp5' - total accepted response except the last champaign\n",
    " - 'Income'\n",
    " - 'Days_Enrolled'\n",
    " - 'Marital Status'"
   ]
  },
  {
   "cell_type": "markdown",
   "id": "98faf892",
   "metadata": {},
   "source": [
    "In terms of Expenses:\n",
    "Customers with more expenses are more responsive to the last champaign. \n",
    "\n",
    "In terms of total number of champaign:\n",
    "Customers with more responses to the first 5 champaign are more active to the last one.\n",
    "\n",
    "In terms of Income:\n",
    "Active customers have higher income compare to that of no-response customers.\n",
    "\n",
    "In terms of days_enrolled:\n",
    "Loyal customers are highly responsive as they engaged with company for longer period of time.\n",
    "\n",
    "In terms of Marital_status:\n",
    "Couples are slightly more active comparing to single people."
   ]
  },
  {
   "cell_type": "code",
   "execution_count": 45,
   "id": "6f937d8a",
   "metadata": {
    "scrolled": false
   },
   "outputs": [
    {
     "name": "stdout",
     "output_type": "stream",
     "text": [
      "[[519  28]\n",
      " [ 63  36]]\n",
      "              precision    recall  f1-score   support\n",
      "\n",
      "           0       0.89      0.95      0.92       547\n",
      "           1       0.56      0.36      0.44        99\n",
      "\n",
      "    accuracy                           0.86       646\n",
      "   macro avg       0.73      0.66      0.68       646\n",
      "weighted avg       0.84      0.86      0.85       646\n",
      "\n"
     ]
    },
    {
     "data": {
      "image/png": "[encoded data removed]",
      "text/plain": [
       "<Figure size 432x288 with 2 Axes>"
      ]
     },
     "metadata": {},
     "output_type": "display_data"
    }
   ],
   "source": [
    "# Print out the confusion matrix and the classification report to review the model performance.\n",
    "print(confusion_matrix(y_test, y_pred))\n",
    "print(classification_report(y_test, y_pred))\n",
    "cf = confusion_matrix(y_test,y_pred)\n",
    "cmd = ConfusionMatrixDisplay(cf)\n",
    "cmd.plot(cmap='Blues')\n",
    "plt.grid(False)\n",
    "plt.show();"
   ]
  },
  {
   "cell_type": "code",
   "execution_count": 46,
   "id": "2e5c2d0f",
   "metadata": {},
   "outputs": [
    {
     "name": "stdout",
     "output_type": "stream",
     "text": [
      "ROC_AUC: 0.821228740789984\n"
     ]
    },
    {
     "data": {
      "image/png": "[encoded data removed]",
      "text/plain": [
       "<Figure size 432x288 with 1 Axes>"
      ]
     },
     "metadata": {},
     "output_type": "display_data"
    }
   ],
   "source": [
    "# Compute predicted probabilities: y_pred_prob\n",
    "y_pred_prob = gbc.predict_proba(X_test)[:,1]\n",
    "\n",
    "# Compute and print AUC score\n",
    "print(\"ROC_AUC: {}\".format(roc_auc_score(y_test, y_pred_prob)))\n",
    "\n",
    "# Generate ROC curve values: fpr, tpr, thresholds\n",
    "fpr, tpr, thresholds = roc_curve(y_test, y_pred_prob)\n",
    "\n",
    "# Plot ROC curve\n",
    "plt.plot([0, 1], [0, 1], 'r--')\n",
    "plt.plot(fpr, tpr)\n",
    "plt.xlabel('False Positive Rate')\n",
    "plt.ylabel('True Positive Rate')\n",
    "plt.title('ROC Curve')\n",
    "plt.show();"
   ]
  },
  {
   "cell_type": "markdown",
   "id": "93703168",
   "metadata": {},
   "source": [
    "## XGBoost "
   ]
  },
  {
   "cell_type": "code",
   "execution_count": 47,
   "id": "b1cb3c1e",
   "metadata": {},
   "outputs": [
    {
     "name": "stdout",
     "output_type": "stream",
     "text": [
      "accuracy: 0.863777\n"
     ]
    }
   ],
   "source": [
    "import xgboost as xgb\n",
    "\n",
    "xgb_clf = xgb.XGBClassifier(objective='binary:logistic',\n",
    "                           n_estimators=100, learning_rate=0.5, max_depth=3, eval_metric='auc', use_label_encoder=False, random_state=42)\n",
    "\n",
    "xgb_clf.fit(X_train, y_train)  # 'mlogloss'\n",
    "y_pred = xgb_clf.predict(X_test)\n",
    "# Print the accuracy\n",
    "accuracy = float(np.sum(y_pred == y_test)) / y_pred.shape[0]\n",
    "print(\"accuracy: %f\" % (accuracy))"
   ]
  },
  {
   "cell_type": "code",
   "execution_count": 48,
   "id": "3b25f897",
   "metadata": {},
   "outputs": [],
   "source": [
    "# xgb_clf.get_params\n",
    "# xgb_clf.get_xgb_params()"
   ]
  },
  {
   "cell_type": "code",
   "execution_count": 49,
   "id": "f7cb55c7",
   "metadata": {},
   "outputs": [
    {
     "name": "stdout",
     "output_type": "stream",
     "text": [
      "   train-auc-mean  train-auc-std  test-auc-mean  test-auc-std\n",
      "0        0.792226       0.017302       0.763671      0.032926\n",
      "1        0.821355       0.008187       0.787243      0.020764\n",
      "2        0.826518       0.007119       0.791159      0.024548\n",
      "3        0.837906       0.009265       0.807251      0.025183\n",
      "4        0.850921       0.003939       0.819527      0.028493\n",
      "5        0.858069       0.006866       0.828155      0.021071\n",
      "6        0.863695       0.006615       0.827552      0.021397\n",
      "7        0.871950       0.005439       0.828239      0.017095\n",
      "8        0.874882       0.004682       0.829850      0.018090\n",
      "9        0.881564       0.004570       0.830993      0.018731\n",
      "0.8309930000000001\n"
     ]
    }
   ],
   "source": [
    "# cross_validation on XGBoost\n",
    "dmatrix = xgb.DMatrix(data=X, label=y)\n",
    "params = {\"objective\":'binary:logistic', \"max_depth\":3}\n",
    "xgb_cv = xgb.cv(dtrain=dmatrix, params=params, nfold=4, num_boost_round=10, metrics='auc', as_pandas=True, seed=42)\n",
    "\n",
    "# Print cv_results\n",
    "print(xgb_cv)\n",
    "\n",
    "# print(((1-cv_results[\"test-error-mean\"]).iloc[-1])) # metrics ='error'\n",
    "print((xgb_cv[\"test-auc-mean\"]).iloc[-1])"
   ]
  },
  {
   "cell_type": "markdown",
   "id": "d43fb437",
   "metadata": {},
   "source": [
    "cv_results stores the training and test mean and standard deviation of the error per boosting round (tree built) as a DataFrame. From cv_results, the final round 'test-error-mean' is extracted and converted into an accuracy, where accuracy is 1-error. The final accuracy of around 87% is an improvement from earlier!"
   ]
  },
  {
   "cell_type": "code",
   "execution_count": 50,
   "id": "c14dde15",
   "metadata": {},
   "outputs": [
    {
     "data": {
      "text/html": [
       "<div>\n",
       "<style scoped>\n",
       "    .dataframe tbody tr th:only-of-type {\n",
       "        vertical-align: middle;\n",
       "    }\n",
       "\n",
       "    .dataframe tbody tr th {\n",
       "        vertical-align: top;\n",
       "    }\n",
       "\n",
       "    .dataframe thead th {\n",
       "        text-align: right;\n",
       "    }\n",
       "</style>\n",
       "<table border=\"1\" class=\"dataframe\">\n",
       "  <thead>\n",
       "    <tr style=\"text-align: right;\">\n",
       "      <th></th>\n",
       "      <th>train-auc-mean</th>\n",
       "      <th>train-auc-std</th>\n",
       "      <th>test-auc-mean</th>\n",
       "      <th>test-auc-std</th>\n",
       "    </tr>\n",
       "  </thead>\n",
       "  <tbody>\n",
       "    <tr>\n",
       "      <th>0</th>\n",
       "      <td>0.792226</td>\n",
       "      <td>0.017302</td>\n",
       "      <td>0.763671</td>\n",
       "      <td>0.032926</td>\n",
       "    </tr>\n",
       "    <tr>\n",
       "      <th>1</th>\n",
       "      <td>0.821355</td>\n",
       "      <td>0.008187</td>\n",
       "      <td>0.787243</td>\n",
       "      <td>0.020764</td>\n",
       "    </tr>\n",
       "    <tr>\n",
       "      <th>2</th>\n",
       "      <td>0.826518</td>\n",
       "      <td>0.007119</td>\n",
       "      <td>0.791159</td>\n",
       "      <td>0.024548</td>\n",
       "    </tr>\n",
       "    <tr>\n",
       "      <th>3</th>\n",
       "      <td>0.837906</td>\n",
       "      <td>0.009265</td>\n",
       "      <td>0.807251</td>\n",
       "      <td>0.025183</td>\n",
       "    </tr>\n",
       "    <tr>\n",
       "      <th>4</th>\n",
       "      <td>0.850921</td>\n",
       "      <td>0.003939</td>\n",
       "      <td>0.819527</td>\n",
       "      <td>0.028493</td>\n",
       "    </tr>\n",
       "    <tr>\n",
       "      <th>5</th>\n",
       "      <td>0.858069</td>\n",
       "      <td>0.006866</td>\n",
       "      <td>0.828155</td>\n",
       "      <td>0.021071</td>\n",
       "    </tr>\n",
       "    <tr>\n",
       "      <th>6</th>\n",
       "      <td>0.863695</td>\n",
       "      <td>0.006615</td>\n",
       "      <td>0.827552</td>\n",
       "      <td>0.021397</td>\n",
       "    </tr>\n",
       "    <tr>\n",
       "      <th>7</th>\n",
       "      <td>0.871950</td>\n",
       "      <td>0.005439</td>\n",
       "      <td>0.828239</td>\n",
       "      <td>0.017095</td>\n",
       "    </tr>\n",
       "    <tr>\n",
       "      <th>8</th>\n",
       "      <td>0.874882</td>\n",
       "      <td>0.004682</td>\n",
       "      <td>0.829850</td>\n",
       "      <td>0.018090</td>\n",
       "    </tr>\n",
       "    <tr>\n",
       "      <th>9</th>\n",
       "      <td>0.881564</td>\n",
       "      <td>0.004570</td>\n",
       "      <td>0.830993</td>\n",
       "      <td>0.018731</td>\n",
       "    </tr>\n",
       "  </tbody>\n",
       "</table>\n",
       "</div>"
      ],
      "text/plain": [
       "   train-auc-mean  train-auc-std  test-auc-mean  test-auc-std\n",
       "0        0.792226       0.017302       0.763671      0.032926\n",
       "1        0.821355       0.008187       0.787243      0.020764\n",
       "2        0.826518       0.007119       0.791159      0.024548\n",
       "3        0.837906       0.009265       0.807251      0.025183\n",
       "4        0.850921       0.003939       0.819527      0.028493\n",
       "5        0.858069       0.006866       0.828155      0.021071\n",
       "6        0.863695       0.006615       0.827552      0.021397\n",
       "7        0.871950       0.005439       0.828239      0.017095\n",
       "8        0.874882       0.004682       0.829850      0.018090\n",
       "9        0.881564       0.004570       0.830993      0.018731"
      ]
     },
     "execution_count": 50,
     "metadata": {},
     "output_type": "execute_result"
    }
   ],
   "source": [
    "xgb_cv"
   ]
  },
  {
   "cell_type": "code",
   "execution_count": 51,
   "id": "9cd880eb",
   "metadata": {
    "scrolled": false
   },
   "outputs": [
    {
     "data": {
      "image/png": "[encoded data removed]",
      "text/plain": [
       "<Figure size 720x360 with 1 Axes>"
      ]
     },
     "metadata": {},
     "output_type": "display_data"
    }
   ],
   "source": [
    "plt.subplots(figsize=(10, 5))\n",
    "imps = xgb_clf.feature_importances_\n",
    "rf_feat_imps = pd.Series(imps, index=train_columns).sort_values(ascending=False)\n",
    "rf_feat_imps.plot(kind='bar')\n",
    "plt.xlabel('features')\n",
    "plt.ylabel('importance')\n",
    "plt.title('Best Extrame Gradient Boosting Classifier Feature Importances', fontsize=14);"
   ]
  },
  {
   "cell_type": "markdown",
   "id": "7f0a8ede",
   "metadata": {},
   "source": [
    "**the dominant top five features are:**\n",
    " - 'TotalAcceptedCmp5' - total accepted responses except the last champaign\n",
    " - 'Marital Status'\n",
    " - 'Education'\n",
    " - 'Days_Enrolled'\n",
    " - 'Income'"
   ]
  },
  {
   "cell_type": "code",
   "execution_count": 52,
   "id": "3c1bfed2",
   "metadata": {},
   "outputs": [
    {
     "name": "stdout",
     "output_type": "stream",
     "text": [
      "[[523  24]\n",
      " [ 64  35]]\n",
      "              precision    recall  f1-score   support\n",
      "\n",
      "           0       0.89      0.96      0.92       547\n",
      "           1       0.59      0.35      0.44        99\n",
      "\n",
      "    accuracy                           0.86       646\n",
      "   macro avg       0.74      0.65      0.68       646\n",
      "weighted avg       0.85      0.86      0.85       646\n",
      "\n"
     ]
    },
    {
     "data": {
      "image/png": "[encoded data removed]",
      "text/plain": [
       "<Figure size 432x288 with 2 Axes>"
      ]
     },
     "metadata": {},
     "output_type": "display_data"
    }
   ],
   "source": [
    "# Print out the confusion matrix and the classification report to review the model performance.\n",
    "print(confusion_matrix(y_test, y_pred))\n",
    "print(classification_report(y_test, y_pred))\n",
    "\n",
    "cf = confusion_matrix(y_test,y_pred)\n",
    "cmd = ConfusionMatrixDisplay(cf)\n",
    "cmd.plot(cmap='Blues')\n",
    "plt.grid(False)\n",
    "plt.show();"
   ]
  },
  {
   "cell_type": "code",
   "execution_count": 53,
   "id": "5bd561f9",
   "metadata": {},
   "outputs": [
    {
     "name": "stdout",
     "output_type": "stream",
     "text": [
      "ROC_AUC: 0.827285653611065\n"
     ]
    },
    {
     "data": {
      "image/png": "[encoded data removed]",
      "text/plain": [
       "<Figure size 432x288 with 1 Axes>"
      ]
     },
     "metadata": {},
     "output_type": "display_data"
    }
   ],
   "source": [
    "# Compute predicted probabilities: y_pred_prob\n",
    "y_pred_prob = xgb_clf.predict_proba(X_test)[:,1]\n",
    "\n",
    "# Compute and print AUC score\n",
    "print(\"ROC_AUC: {}\".format(roc_auc_score(y_test, y_pred_prob)))\n",
    "\n",
    "# Generate ROC curve values: fpr, tpr, thresholds\n",
    "fpr, tpr, thresholds = roc_curve(y_test, y_pred_prob)\n",
    "\n",
    "# Plot ROC curve\n",
    "plt.plot([0, 1], [0, 1], 'r--')\n",
    "plt.plot(fpr, tpr)\n",
    "plt.xlabel('False Positive Rate')\n",
    "plt.ylabel('True Positive Rate')\n",
    "plt.title('ROC Curve')\n",
    "plt.show();"
   ]
  },
  {
   "cell_type": "markdown",
   "id": "2a4f29e5",
   "metadata": {},
   "source": [
    "## Model Selection"
   ]
  },
  {
   "cell_type": "markdown",
   "id": "0e0de068",
   "metadata": {},
   "source": [
    "To solve this binary classification problem, the following algorithms are used:\n",
    "\n",
    "Non-Ensemble Algorithms:\n",
    "- Logistic Regression\n",
    "- KNeighborsClassifier\n",
    "\n",
    "Ensemble Algorithms:\n",
    "- RandomForestClassifier\n",
    "- GradientBoostingClassifier\n",
    "- XGBoost\n",
    "\n",
    "Metrics:\n",
    "- Accuracy (identify as many correct as possible)\n",
    "- roc_auc_score ( for binary classification problem)"
   ]
  },
  {
   "cell_type": "code",
   "execution_count": 54,
   "id": "80a4509c",
   "metadata": {
    "scrolled": false
   },
   "outputs": [
    {
     "name": "stdout",
     "output_type": "stream",
     "text": [
      "Model: LogisticRegression, ROC_AUC: 0.8531\n",
      "====================================================\n",
      "Model: RandomForestClassifier, ROC_AUC: 0.8529\n",
      "====================================================\n",
      "Model: KNeighborsClassifier, ROC_AUC: 0.8090\n",
      "====================================================\n",
      "Model: GradientBoostingClassifier, ROC_AUC: 0.8212\n",
      "====================================================\n",
      "Model: XGBClassifier, ROC_AUC: 0.8273\n",
      "====================================================\n"
     ]
    },
    {
     "data": {
      "text/html": [
       "<div>\n",
       "<style scoped>\n",
       "    .dataframe tbody tr th:only-of-type {\n",
       "        vertical-align: middle;\n",
       "    }\n",
       "\n",
       "    .dataframe tbody tr th {\n",
       "        vertical-align: top;\n",
       "    }\n",
       "\n",
       "    .dataframe thead th {\n",
       "        text-align: right;\n",
       "    }\n",
       "</style>\n",
       "<table border=\"1\" class=\"dataframe\">\n",
       "  <thead>\n",
       "    <tr style=\"text-align: right;\">\n",
       "      <th></th>\n",
       "      <th>name</th>\n",
       "      <th>ROC_AUC</th>\n",
       "    </tr>\n",
       "  </thead>\n",
       "  <tbody>\n",
       "    <tr>\n",
       "      <th>0</th>\n",
       "      <td>LogisticRegression</td>\n",
       "      <td>0.853120</td>\n",
       "    </tr>\n",
       "    <tr>\n",
       "      <th>1</th>\n",
       "      <td>RandomForestClassifier</td>\n",
       "      <td>0.852898</td>\n",
       "    </tr>\n",
       "    <tr>\n",
       "      <th>2</th>\n",
       "      <td>KNeighborsClassifier</td>\n",
       "      <td>0.808976</td>\n",
       "    </tr>\n",
       "    <tr>\n",
       "      <th>3</th>\n",
       "      <td>GradientBoostingClassifier</td>\n",
       "      <td>0.821229</td>\n",
       "    </tr>\n",
       "    <tr>\n",
       "      <th>4</th>\n",
       "      <td>XGBClassifier</td>\n",
       "      <td>0.827286</td>\n",
       "    </tr>\n",
       "  </tbody>\n",
       "</table>\n",
       "</div>"
      ],
      "text/plain": [
       "                         name   ROC_AUC\n",
       "0          LogisticRegression  0.853120\n",
       "1      RandomForestClassifier  0.852898\n",
       "2        KNeighborsClassifier  0.808976\n",
       "3  GradientBoostingClassifier  0.821229\n",
       "4               XGBClassifier  0.827286"
      ]
     },
     "execution_count": 54,
     "metadata": {},
     "output_type": "execute_result"
    }
   ],
   "source": [
    "models = [logreg, rf, knn, gbc, xgb_clf]\n",
    "\n",
    "results = pd.DataFrame(columns=['name', 'ROC_AUC'])\n",
    "\n",
    "for model in models:\n",
    "    name = model.__class__.__name__\n",
    "    model.fit(X_train, y_train)\n",
    "        \n",
    "    y_pred_proba = model.predict_proba(X_test)[:, 1]\n",
    "    rocauc = roc_auc_score(y_test, y_pred_proba)\n",
    "    \n",
    "    results = results.append({'name': name, 'ROC_AUC': rocauc}, ignore_index=True)\n",
    "    \n",
    "    print('Model: %s, ROC_AUC: %.4f' % (name, rocauc))\n",
    "    print('====================================================')\n",
    "    \n",
    "results"
   ]
  },
  {
   "cell_type": "code",
   "execution_count": 55,
   "id": "d828dbf6",
   "metadata": {
    "scrolled": true
   },
   "outputs": [
    {
     "name": "stdout",
     "output_type": "stream",
     "text": [
      "A file already exists with this name.\n",
      "\n",
      "Do you want to overwrite? (Y/N)Y\n",
      "Writing file.  \"./Data\\04_results.csv\"\n"
     ]
    }
   ],
   "source": [
    "datapath = './Data'\n",
    "save_file(results, '04_results.csv', datapath)"
   ]
  },
  {
   "cell_type": "code",
   "execution_count": 56,
   "id": "4f0fb3c2",
   "metadata": {},
   "outputs": [
    {
     "data": {
      "text/plain": [
       "[['LogisticRegression', 0.8531198640887856],\n",
       " ['RandomForestClassifier', 0.8528982697172824],\n",
       " ['KNeighborsClassifier', 0.8089764186656325],\n",
       " ['GradientBoostingClassifier', 0.821228740789984],\n",
       " ['XGBClassifier', 0.827285653611065]]"
      ]
     },
     "execution_count": 56,
     "metadata": {},
     "output_type": "execute_result"
    }
   ],
   "source": [
    "list_auc = results.values.tolist()\n",
    "list_auc"
   ]
  },
  {
   "cell_type": "code",
   "execution_count": 57,
   "id": "64d5500b",
   "metadata": {},
   "outputs": [],
   "source": [
    "list_of_strings = [\"Models\", \"ROC_AUC\"]\n",
    "for x in range(5):\n",
    "    list_of_strings.append(list_auc[x][0])\n",
    "    list_of_strings.append(list_auc[x][1])"
   ]
  },
  {
   "cell_type": "markdown",
   "id": "f1858cf5",
   "metadata": {},
   "source": [
    "Both LogisticRegression and Random forest classifier have very strong AUC of 0.85, but Random forest model has higher True Positive Rate (TP/P) based off the confusion matrix. The performance on the test set is consistent with the cross-validation results."
   ]
  },
  {
   "cell_type": "markdown",
   "id": "576283dc",
   "metadata": {},
   "source": [
    "### Data Quantity Assessment"
   ]
  },
  {
   "cell_type": "code",
   "execution_count": 58,
   "id": "ba2eae37",
   "metadata": {},
   "outputs": [],
   "source": [
    "# Would more data be useful?  Assess this trade off by seeing how performance varies with differing data set sizes.\n",
    "fractions = [.2, .25, .3, .35, .4, .45, .5, .6, .75, .8, 1.0]\n",
    "train_size, train_scores, test_scores = learning_curve(RF_pipe, X_train, y_train, train_sizes=fractions)\n",
    "train_scores_mean = np.mean(train_scores, axis=1)\n",
    "train_scores_std = np.std(train_scores, axis=1)\n",
    "test_scores_mean = np.mean(test_scores, axis=1)\n",
    "test_scores_std = np.std(test_scores, axis=1)"
   ]
  },
  {
   "cell_type": "code",
   "execution_count": 59,
   "id": "1a3e59f2",
   "metadata": {},
   "outputs": [
    {
     "data": {
      "image/png": "[encoded data removed]",
      "text/plain": [
       "<Figure size 720x360 with 1 Axes>"
      ]
     },
     "metadata": {},
     "output_type": "display_data"
    }
   ],
   "source": [
    "plt.subplots(figsize=(10, 5))\n",
    "plt.errorbar(train_size, test_scores_mean, yerr=test_scores_std)\n",
    "plt.xlabel('Training set size')\n",
    "plt.ylabel('CV scores')\n",
    "plt.title('Cross-validation score as training set size increases');"
   ]
  },
  {
   "cell_type": "markdown",
   "id": "067f942b",
   "metadata": {},
   "source": [
    "There's an initial rapid improvement in model scores as one would expect, but it's essentially levelled off by around a sample size of 500-600.  This shows that we seem to have plenty of data. "
   ]
  },
  {
   "cell_type": "markdown",
   "id": "101abdbd",
   "metadata": {},
   "source": [
    "### Save Final Model"
   ]
  },
  {
   "cell_type": "code",
   "execution_count": 60,
   "id": "2d16ee67",
   "metadata": {},
   "outputs": [
    {
     "name": "stdout",
     "output_type": "stream",
     "text": [
      "A file already exists with this name.\n",
      "\n",
      "Do you want to overwrite? (Y/N)Y\n",
      "Writing file.  \"../models\\customer_analysis_model.pkl\"\n"
     ]
    }
   ],
   "source": [
    "final_model = rf_grid_cv.best_estimator_\n",
    "final_model.version = '1.0'\n",
    "final_model.pandas_version = pd.__version__\n",
    "final_model.numpy_version = np.__version__\n",
    "final_model.sklearn_version = sklearn_version\n",
    "final_model.build_datetime = datetime.datetime.now()\n",
    "\n",
    "# save the model\n",
    "\n",
    "modelpath = '../models'\n",
    "save_file(final_model, 'customer_analysis_model.pkl', modelpath)"
   ]
  },
  {
   "cell_type": "markdown",
   "id": "58401638",
   "metadata": {},
   "source": [
    "## Summary and further analysis"
   ]
  },
  {
   "cell_type": "markdown",
   "id": "a5e62e39",
   "metadata": {},
   "source": [
    "- To solve this binary classification problem, I trained 5 different supervised machine learning models. After comparing and evaluating the model performance, the final random forest model is selected and applied to predict customers' response to the last marketing champaign. \n",
    "- The final random forest model has the average accuracy of 0.88 and a strong roc_auc of 0.85, which is consistent with cross validation roc of 0.83. The random forest model is fast to train, easy to tune and not prone to overfitting.\n",
    "- The analysis of customers' family structures, income and spending behaviors can help business better plan marketing strategies, boost new customer enrollment and potentially increase revenue. Further analysis which features contribute most to customers' total expenses may generate more insights from the data."
   ]
  }
 ],
 "metadata": {
  "kernelspec": {
   "display_name": "Python 3",
   "language": "python",
   "name": "python3"
  },
  "language_info": {
   "codemirror_mode": {
    "name": "ipython",
    "version": 3
   },
   "file_extension": ".py",
   "mimetype": "text/x-python",
   "name": "python",
   "nbconvert_exporter": "python",
   "pygments_lexer": "ipython3",
   "version": "3.7.11"
  },
  "toc": {
   "base_numbering": 1,
   "nav_menu": {},
   "number_sections": true,
   "sideBar": true,
   "skip_h1_title": false,
   "title_cell": "Table of Contents",
   "title_sidebar": "Contents",
   "toc_cell": true,
   "toc_position": {},
   "toc_section_display": true,
   "toc_window_display": false
  }
 },
 "nbformat": 4,
 "nbformat_minor": 5
}
